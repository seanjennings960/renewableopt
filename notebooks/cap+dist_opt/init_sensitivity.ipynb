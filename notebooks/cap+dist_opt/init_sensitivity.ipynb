{
 "cells": [
  {
   "cell_type": "code",
   "execution_count": 1,
   "id": "93c9a24e",
   "metadata": {},
   "outputs": [],
   "source": [
    "import numpy as np\n",
    "import pandas as pd\n",
    "from renewableopt.data import DATASET_DIR, load_by_day"
   ]
  },
  {
   "cell_type": "markdown",
   "id": "095dedfb",
   "metadata": {},
   "source": [
    "# Load Demand Response from CSV"
   ]
  },
  {
   "cell_type": "code",
   "execution_count": 2,
   "id": "761751c7",
   "metadata": {},
   "outputs": [],
   "source": [
    "sources = [\"solar\", \"wind\", \"geothermal\"]\n",
    "time, load, generation_pu = load_by_day(0, 367, sources=sources, use_hr=True)"
   ]
  },
  {
   "cell_type": "code",
   "execution_count": 3,
   "id": "07500c0d",
   "metadata": {},
   "outputs": [],
   "source": [
    "filename = DATASET_DIR / 'demand_response' / 'commercial_dr.csv'\n",
    "dr = pd.read_csv(filename)"
   ]
  },
  {
   "cell_type": "code",
   "execution_count": 4,
   "id": "8cb51f6b",
   "metadata": {},
   "outputs": [
    {
     "name": "stdout",
     "output_type": "stream",
     "text": [
      "(105408,)\n"
     ]
    }
   ],
   "source": [
    "print(time.shape)"
   ]
  },
  {
   "cell_type": "code",
   "execution_count": 5,
   "id": "afd127a0",
   "metadata": {},
   "outputs": [
    {
     "data": {
      "text/plain": [
       "Index(['Demand (MW)', '100%', '75%', '50%', '25%'], dtype='object')"
      ]
     },
     "execution_count": 5,
     "metadata": {},
     "output_type": "execute_result"
    }
   ],
   "source": [
    "dr.columns"
   ]
  },
  {
   "cell_type": "code",
   "execution_count": 6,
   "id": "40945ca2",
   "metadata": {},
   "outputs": [],
   "source": [
    "# Some data parsing to Demand response things happy...\n",
    "dr = dr.iloc[:time.shape[0]]\n",
    "dr = dr.rename(columns=lambda col: col if col != \"Demand (MW)\" else \"Base Case\")"
   ]
  },
  {
   "cell_type": "code",
   "execution_count": 7,
   "id": "5bd3e60d",
   "metadata": {},
   "outputs": [
    {
     "name": "stdout",
     "output_type": "stream",
     "text": [
      "Base Case: 1.000 1.000 1.000\n",
      "100%: 0.852 0.900 0.858\n",
      "75%: 0.889 0.900 0.890\n",
      "50%: 0.926 0.950 0.929\n",
      "25%: 0.963 0.980 0.965\n"
     ]
    }
   ],
   "source": [
    "for col in dr.columns:\n",
    "    delta = np.array(dr[col] / load)\n",
    "    print(f\"{col}: {np.min(delta):.3f} {np.max(delta):.3f} {np.mean(delta):.3f}\")"
   ]
  },
  {
   "cell_type": "markdown",
   "id": "5624427c",
   "metadata": {},
   "source": [
    "# Initialize Cost Scenarios"
   ]
  },
  {
   "cell_type": "code",
   "execution_count": 8,
   "id": "28431419",
   "metadata": {},
   "outputs": [],
   "source": [
    "costs = pd.DataFrame({\n",
    "    \"Scenario 1: Base Case\": [1250, 1250, 3500, 300, 350],\n",
    "    \"Scenario 2: No Geothermal\": [1250, 1250, int(1e8), 300, 350]\n",
    "    \n",
    "}, index = [\n",
    "    \"Solar (K/MW)\", \"Wind cost (K/MW)\", \"Geothermal cost (K/MW)\",\n",
    "    \"Battery energy cost (K/MWh)\", \"Battery power cost (K/MW)\", \n",
    "])"
   ]
  },
  {
   "cell_type": "code",
   "execution_count": 9,
   "id": "09d98dab",
   "metadata": {},
   "outputs": [
    {
     "data": {
      "text/html": [
       "<div>\n",
       "<style scoped>\n",
       "    .dataframe tbody tr th:only-of-type {\n",
       "        vertical-align: middle;\n",
       "    }\n",
       "\n",
       "    .dataframe tbody tr th {\n",
       "        vertical-align: top;\n",
       "    }\n",
       "\n",
       "    .dataframe thead th {\n",
       "        text-align: right;\n",
       "    }\n",
       "</style>\n",
       "<table border=\"1\" class=\"dataframe\">\n",
       "  <thead>\n",
       "    <tr style=\"text-align: right;\">\n",
       "      <th></th>\n",
       "      <th>Scenario 1: Base Case</th>\n",
       "      <th>Scenario 2: No Geothermal</th>\n",
       "    </tr>\n",
       "  </thead>\n",
       "  <tbody>\n",
       "    <tr>\n",
       "      <th>Solar (K/MW)</th>\n",
       "      <td>1250</td>\n",
       "      <td>1250</td>\n",
       "    </tr>\n",
       "    <tr>\n",
       "      <th>Wind cost (K/MW)</th>\n",
       "      <td>1250</td>\n",
       "      <td>1250</td>\n",
       "    </tr>\n",
       "    <tr>\n",
       "      <th>Geothermal cost (K/MW)</th>\n",
       "      <td>3500</td>\n",
       "      <td>100000000</td>\n",
       "    </tr>\n",
       "    <tr>\n",
       "      <th>Battery energy cost (K/MWh)</th>\n",
       "      <td>300</td>\n",
       "      <td>300</td>\n",
       "    </tr>\n",
       "    <tr>\n",
       "      <th>Battery power cost (K/MW)</th>\n",
       "      <td>350</td>\n",
       "      <td>350</td>\n",
       "    </tr>\n",
       "  </tbody>\n",
       "</table>\n",
       "</div>"
      ],
      "text/plain": [
       "                             Scenario 1: Base Case  Scenario 2: No Geothermal\n",
       "Solar (K/MW)                                  1250                       1250\n",
       "Wind cost (K/MW)                              1250                       1250\n",
       "Geothermal cost (K/MW)                        3500                  100000000\n",
       "Battery energy cost (K/MWh)                    300                        300\n",
       "Battery power cost (K/MW)                      350                        350"
      ]
     },
     "execution_count": 9,
     "metadata": {},
     "output_type": "execute_result"
    }
   ],
   "source": [
    "costs"
   ]
  },
  {
   "cell_type": "markdown",
   "id": "baeb27a2",
   "metadata": {},
   "source": [
    "# Convert generation data to DataFrame"
   ]
  },
  {
   "cell_type": "code",
   "execution_count": 10,
   "id": "0804d43e",
   "metadata": {},
   "outputs": [],
   "source": [
    "import matplotlib.pyplot as plt"
   ]
  },
  {
   "cell_type": "code",
   "execution_count": 11,
   "id": "705656f8",
   "metadata": {},
   "outputs": [
    {
     "data": {
      "text/plain": [
       "array([1.        , 1.        , 1.        , 1.        , 1.        ,\n",
       "       1.        , 1.        , 0.99367885, 0.98735769, 0.98103654])"
      ]
     },
     "execution_count": 11,
     "metadata": {},
     "output_type": "execute_result"
    }
   ],
   "source": [
    "generation_pu[:10, 1]"
   ]
  },
  {
   "cell_type": "code",
   "execution_count": 12,
   "id": "41d226f8",
   "metadata": {},
   "outputs": [
    {
     "data": {
      "text/plain": [
       "[<matplotlib.lines.Line2D at 0x7ff612766fd0>]"
      ]
     },
     "execution_count": 12,
     "metadata": {},
     "output_type": "execute_result"
    },
    {
     "data": {
      "image/png": "[encoded data removed]",
      "text/plain": [
       "<Figure size 640x480 with 1 Axes>"
      ]
     },
     "metadata": {},
     "output_type": "display_data"
    }
   ],
   "source": [
    "plt.plot(generation_pu[:, 1])"
   ]
  },
  {
   "cell_type": "code",
   "execution_count": 13,
   "id": "6be28537",
   "metadata": {},
   "outputs": [],
   "source": [
    "generation_df = pd.DataFrame({\n",
    "    source: generation_pu[:, i]\n",
    "    for i, source in enumerate(sources)\n",
    "}, index=pd.Index(time, name=\"Time (hr)\"))"
   ]
  },
  {
   "cell_type": "code",
   "execution_count": 14,
   "id": "67e1ba9a",
   "metadata": {},
   "outputs": [
    {
     "data": {
      "text/html": [
       "<div>\n",
       "<style scoped>\n",
       "    .dataframe tbody tr th:only-of-type {\n",
       "        vertical-align: middle;\n",
       "    }\n",
       "\n",
       "    .dataframe tbody tr th {\n",
       "        vertical-align: top;\n",
       "    }\n",
       "\n",
       "    .dataframe thead th {\n",
       "        text-align: right;\n",
       "    }\n",
       "</style>\n",
       "<table border=\"1\" class=\"dataframe\">\n",
       "  <thead>\n",
       "    <tr style=\"text-align: right;\">\n",
       "      <th></th>\n",
       "      <th>solar</th>\n",
       "      <th>wind</th>\n",
       "      <th>geothermal</th>\n",
       "    </tr>\n",
       "    <tr>\n",
       "      <th>Time (hr)</th>\n",
       "      <th></th>\n",
       "      <th></th>\n",
       "      <th></th>\n",
       "    </tr>\n",
       "  </thead>\n",
       "  <tbody>\n",
       "    <tr>\n",
       "      <th>0.000000</th>\n",
       "      <td>0.000000</td>\n",
       "      <td>1.0</td>\n",
       "      <td>1.0</td>\n",
       "    </tr>\n",
       "    <tr>\n",
       "      <th>0.083333</th>\n",
       "      <td>0.000000</td>\n",
       "      <td>1.0</td>\n",
       "      <td>1.0</td>\n",
       "    </tr>\n",
       "    <tr>\n",
       "      <th>0.166667</th>\n",
       "      <td>0.000000</td>\n",
       "      <td>1.0</td>\n",
       "      <td>1.0</td>\n",
       "    </tr>\n",
       "    <tr>\n",
       "      <th>0.250000</th>\n",
       "      <td>0.000000</td>\n",
       "      <td>1.0</td>\n",
       "      <td>1.0</td>\n",
       "    </tr>\n",
       "    <tr>\n",
       "      <th>0.333333</th>\n",
       "      <td>0.000000</td>\n",
       "      <td>1.0</td>\n",
       "      <td>1.0</td>\n",
       "    </tr>\n",
       "    <tr>\n",
       "      <th>...</th>\n",
       "      <td>...</td>\n",
       "      <td>...</td>\n",
       "      <td>...</td>\n",
       "    </tr>\n",
       "    <tr>\n",
       "      <th>8783.583333</th>\n",
       "      <td>0.714297</td>\n",
       "      <td>1.0</td>\n",
       "      <td>1.0</td>\n",
       "    </tr>\n",
       "    <tr>\n",
       "      <th>8783.666667</th>\n",
       "      <td>0.714297</td>\n",
       "      <td>1.0</td>\n",
       "      <td>1.0</td>\n",
       "    </tr>\n",
       "    <tr>\n",
       "      <th>8783.750000</th>\n",
       "      <td>0.714297</td>\n",
       "      <td>1.0</td>\n",
       "      <td>1.0</td>\n",
       "    </tr>\n",
       "    <tr>\n",
       "      <th>8783.833333</th>\n",
       "      <td>0.714297</td>\n",
       "      <td>1.0</td>\n",
       "      <td>1.0</td>\n",
       "    </tr>\n",
       "    <tr>\n",
       "      <th>8783.916667</th>\n",
       "      <td>0.714297</td>\n",
       "      <td>1.0</td>\n",
       "      <td>1.0</td>\n",
       "    </tr>\n",
       "  </tbody>\n",
       "</table>\n",
       "<p>105408 rows × 3 columns</p>\n",
       "</div>"
      ],
      "text/plain": [
       "                solar  wind  geothermal\n",
       "Time (hr)                              \n",
       "0.000000     0.000000   1.0         1.0\n",
       "0.083333     0.000000   1.0         1.0\n",
       "0.166667     0.000000   1.0         1.0\n",
       "0.250000     0.000000   1.0         1.0\n",
       "0.333333     0.000000   1.0         1.0\n",
       "...               ...   ...         ...\n",
       "8783.583333  0.714297   1.0         1.0\n",
       "8783.666667  0.714297   1.0         1.0\n",
       "8783.750000  0.714297   1.0         1.0\n",
       "8783.833333  0.714297   1.0         1.0\n",
       "8783.916667  0.714297   1.0         1.0\n",
       "\n",
       "[105408 rows x 3 columns]"
      ]
     },
     "execution_count": 14,
     "metadata": {},
     "output_type": "execute_result"
    }
   ],
   "source": [
    "generation_df"
   ]
  },
  {
   "cell_type": "markdown",
   "id": "306b17e3",
   "metadata": {},
   "source": [
    "# Write Scenario data to Excel"
   ]
  },
  {
   "cell_type": "code",
   "execution_count": 15,
   "id": "8fb0370c",
   "metadata": {},
   "outputs": [],
   "source": [
    "excel_file = DATASET_DIR / \"sensitivity_base\" / \"sensitivity.xlsx\""
   ]
  },
  {
   "cell_type": "code",
   "execution_count": 16,
   "id": "cd179b4e",
   "metadata": {},
   "outputs": [],
   "source": [
    "# Write Scenarios data.\n",
    "# NOTE this takes a while for whatever reason...\n",
    "# I blame excel.\n",
    "with pd.ExcelWriter(excel_file) as writer:\n",
    "    costs.to_excel(writer, sheet_name=\"Cost Scenarios\")\n",
    "    dr.to_excel(writer, sheet_name=\"Load Scenarios\")\n",
    "    generation_df.to_excel(writer, sheet_name=\"Generation\")"
   ]
  },
  {
   "cell_type": "code",
   "execution_count": null,
   "id": "25e93a78",
   "metadata": {},
   "outputs": [],
   "source": []
  }
 ],
 "metadata": {
  "kernelspec": {
   "display_name": "Python 3 (ipykernel)",
   "language": "python",
   "name": "python3"
  },
  "language_info": {
   "codemirror_mode": {
    "name": "ipython",
    "version": 3
   },
   "file_extension": ".py",
   "mimetype": "text/x-python",
   "name": "python",
   "nbconvert_exporter": "python",
   "pygments_lexer": "ipython3",
   "version": "3.8.10"
  }
 },
 "nbformat": 4,
 "nbformat_minor": 5
}
