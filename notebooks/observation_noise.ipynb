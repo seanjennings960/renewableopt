{
 "cells": [
  {
   "cell_type": "code",
   "execution_count": 2,
   "id": "778f1ccc-e0fb-4b41-b9a2-ea05b6ee4a1c",
   "metadata": {},
   "outputs": [],
   "source": [
    "from renewableopt.battery.data_import import import_datafile, DATA_DIR\n"
   ]
  },
  {
   "cell_type": "markdown",
   "id": "975c88c6-109d-49db-b034-d818e64c0bf1",
   "metadata": {},
   "source": [
    "# Analytic Observation Noise computation"
   ]
  },
  {
   "cell_type": "markdown",
   "id": "c9fa58c0-b8fe-4d98-b68e-e4aaae4977fc",
   "metadata": {},
   "source": [
    "In this notebook, we perform an analytic analysis of the noise, based on measurement precision specs of the battery tester.\n",
    "A simple computation shows that the error in the capacity measurement is related to current measurement error by the following formula:\n",
    "\n",
    "$\n",
    "|\\delta c| \\leq \\delta I (t_N - t_0) + 2 \\delta t \\sum_{i=0}^{N-1} I_i\n",
    "$\n",
    "\n",
    "where $\\delta c$ error between measured and true capacity, $\\delta I$ is the error in measurement, and $\\delta t$ is the error in the timestamp. We assume $\\delta I$ and $\\delta t$ are zero-mean Gaussian distributed random variables. We assume the provided current measurement precision of $\\delta I_{max}=$2.5 mA represents high probability bounds on the error $\\delta I$. That is,\n",
    "\n",
    "$\n",
    "p(|\\delta I| < \\delta I_{max}) >= 0.997\n",
    "$\n",
    "\n",
    "Thus, $\\delta I \\sim \\mathcal{N}(0, \\sigma_I)$, where $3\\sigma_I$ = $\\delta I_{max}$\n",
    "\n",
    "To determine $t_N$, $t_0$ and $I_i$, we look at the current curve during capacity measurement of a representative sample"
   ]
  },
  {
   "cell_type": "code",
   "execution_count": null,
   "id": "bacd79cc-f708-42f3-81ae-5c5245a8213b",
   "metadata": {},
   "outputs": [],
   "source": []
  },
  {
   "cell_type": "code",
   "execution_count": 3,
   "id": "5de78742-9c27-42a9-911f-8fb7e58fa7c4",
   "metadata": {},
   "outputs": [],
   "source": [
    "c = import_datafile(DATA_DIR / \"Stage_1\" / \"TP_z05_01\" / \"TP_z05_01_01_ET_T10.csv\")"
   ]
  },
  {
   "cell_type": "code",
   "execution_count": 4,
   "id": "eff74610-a4a8-4b12-a65c-cd68eb7efb1d",
   "metadata": {},
   "outputs": [],
   "source": [
    "charge = c[c.step_type == 21].copy()\n",
    "charge.run_time -= charge.run_time.iloc[0]"
   ]
  },
  {
   "cell_type": "code",
   "execution_count": 5,
   "id": "97540503-e8be-4935-949f-9ecfb744f6e1",
   "metadata": {},
   "outputs": [],
   "source": [
    "c_rate0 = max(charge['c_cur']) * 2"
   ]
  },
  {
   "cell_type": "code",
   "execution_count": 6,
   "id": "f4163ae0-dc3f-4e32-bb32-7122a307f69f",
   "metadata": {},
   "outputs": [
    {
     "data": {
      "text/plain": [
       "1734.613307606931"
      ]
     },
     "execution_count": 6,
     "metadata": {},
     "output_type": "execute_result"
    }
   ],
   "source": [
    "# Sum of current over measurement (in A)\n",
    "sum(charge['c_cur'])"
   ]
  },
  {
   "cell_type": "code",
   "execution_count": 7,
   "id": "5c074cab-8a0d-4720-8896-5d2e6f76fc32",
   "metadata": {},
   "outputs": [
    {
     "data": {
      "text/plain": [
       "0.001734613307606931"
      ]
     },
     "execution_count": 7,
     "metadata": {},
     "output_type": "execute_result"
    }
   ],
   "source": [
    "# Times current resolution (As) -> relatively very small value in Ah\n",
    "sum(charge['c_cur']) * 1e-6"
   ]
  },
  {
   "cell_type": "code",
   "execution_count": 8,
   "id": "aa18f07c-7f65-4069-947f-001f551e8b0c",
   "metadata": {},
   "outputs": [
    {
     "data": {
      "text/plain": [
       "0.24500258832641403"
      ]
     },
     "execution_count": 8,
     "metadata": {},
     "output_type": "execute_result"
    }
   ],
   "source": [
    "c_rate0 / 20"
   ]
  },
  {
   "cell_type": "code",
   "execution_count": 9,
   "id": "3a17b9e9-7473-4104-8880-e5e4a4cc44d9",
   "metadata": {},
   "outputs": [],
   "source": [
    "t_total = max(charge.run_time)"
   ]
  },
  {
   "cell_type": "code",
   "execution_count": 221,
   "id": "ec98342a-8271-4f43-9cc3-634e699251ce",
   "metadata": {},
   "outputs": [
    {
     "data": {
      "text/plain": [
       "2.48172311111111"
      ]
     },
     "execution_count": 221,
     "metadata": {},
     "output_type": "execute_result"
    }
   ],
   "source": [
    "# Total time (T_n - t_0) in hours.\n",
    "t_total / 3600"
   ]
  },
  {
   "cell_type": "code",
   "execution_count": 224,
   "id": "5ac03887-270d-4d01-9bd9-5e976df67d4d",
   "metadata": {},
   "outputs": [
    {
     "data": {
      "text/plain": [
       "6315      0.0000\n",
       "6316      0.2390\n",
       "6317      0.2412\n",
       "6318     10.2390\n",
       "6319     20.2390\n",
       "6320     30.2390\n",
       "6321     40.2390\n",
       "6322     50.2390\n",
       "6323     60.2390\n",
       "6324     70.2390\n",
       "6325     80.2390\n",
       "6326     90.2390\n",
       "6327    100.2390\n",
       "6328    110.2390\n",
       "6329    120.2390\n",
       "6330    130.2390\n",
       "6331    140.2390\n",
       "6332    150.2390\n",
       "6333    160.2390\n",
       "6334    170.2390\n",
       "Name: run_time, dtype: float64"
      ]
     },
     "execution_count": 224,
     "metadata": {},
     "output_type": "execute_result"
    }
   ],
   "source": [
    "charge.run_time[:20]"
   ]
  },
  {
   "cell_type": "code",
   "execution_count": 225,
   "id": "e1e97063-be5b-401a-b7f7-8bd3a4acc805",
   "metadata": {},
   "outputs": [
    {
     "data": {
      "text/plain": [
       "9.937934593993322"
      ]
     },
     "execution_count": 225,
     "metadata": {},
     "output_type": "execute_result"
    }
   ],
   "source": [
    "np.mean(np.diff(charge.run_time))"
   ]
  },
  {
   "cell_type": "code",
   "execution_count": 226,
   "id": "7150079a-7724-437a-bd9e-008ea513469d",
   "metadata": {},
   "outputs": [],
   "source": [
    "dt = 10"
   ]
  },
  {
   "cell_type": "code",
   "execution_count": 227,
   "id": "727dab87-5e98-4381-9dc7-e400d857cbcb",
   "metadata": {},
   "outputs": [
    {
     "data": {
      "text/plain": [
       "8934.203199999996"
      ]
     },
     "execution_count": 227,
     "metadata": {},
     "output_type": "execute_result"
    }
   ],
   "source": [
    "t_total"
   ]
  },
  {
   "cell_type": "code",
   "execution_count": 229,
   "id": "faebdf8c-1fb1-4458-937a-5177f2dd5ae9",
   "metadata": {},
   "outputs": [
    {
     "data": {
      "text/plain": [
       "0.004787274519890259"
      ]
     },
     "execution_count": 229,
     "metadata": {},
     "output_type": "execute_result"
    }
   ],
   "source": [
    "(2.5 / 3)**2 * t_total / 3600 * dt / 3600"
   ]
  },
  {
   "cell_type": "code",
   "execution_count": 11,
   "id": "9c6d14c4-72e6-4262-ad34-24983e7ccb03",
   "metadata": {},
   "outputs": [
    {
     "data": {
      "text/plain": [
       "2.068102592592592"
      ]
     },
     "execution_count": 11,
     "metadata": {},
     "output_type": "execute_result"
    }
   ],
   "source": [
    "# Sigma_c in mAh\n",
    "t_total / 3600 * 2.5 / 3"
   ]
  },
  {
   "cell_type": "code",
   "execution_count": 12,
   "id": "47b06b21-866f-4cf8-8f69-965f747bf474",
   "metadata": {},
   "outputs": [
    {
     "data": {
      "text/plain": [
       "<Axes: xlabel='run_time'>"
      ]
     },
     "execution_count": 12,
     "metadata": {},
     "output_type": "execute_result"
    },
    {
     "data": {
      "image/png": "[encoded data removed]",
      "text/plain": [
       "<Figure size 640x480 with 1 Axes>"
      ]
     },
     "metadata": {},
     "output_type": "display_data"
    }
   ],
   "source": [
    "charge.plot(\"run_time\", \"c_cur\")"
   ]
  },
  {
   "cell_type": "markdown",
   "id": "ab428b5d-d101-4f39-9a7e-69e3883c2276",
   "metadata": {},
   "source": [
    "# Validating against experimental data\n",
    "\n",
    "To assess the experimental observation error, we compare the measured capacity in instances where the measured capacity should be constant. At each checkup, the capacity is measured twice: by integrating the current first, during a full charge, and second, during a full discharge. \n",
    "\n",
    "The difference between the current measurements is gaussian with zero mean and variance $2\\sigma_c^2$ [Bertsekas p 216]. Define $\\delta c ~ \\mathcal{N}(0, 2\\sigma_c^2)$. We consider the fact the the measurement noise may sensitive to the temperature of the cell during the checkup.\n",
    "\n",
    "Let $\\delta c_i(T)$ be the $i$th measurement of $\\delta c$ at temperature $T$, and take the sample mean and sample variance to be:\n",
    "$\\underline{\\sigma_{\\delta c}^2}$."
   ]
  },
  {
   "cell_type": "code",
   "execution_count": 13,
   "id": "3735e134-5460-46a3-85df-3c4d7b37f550",
   "metadata": {},
   "outputs": [],
   "source": [
    "from renewableopt.battery.data_import import DATA_DIR\n",
    "from renewableopt.battery.feature_extraction import CapacityData\n",
    "\n",
    "import pandas as pd\n",
    "\n",
    "c = CapacityData.load(DATA_DIR / \"aging.npz\")\n",
    "\n",
    "exp = pd.read_csv(DATA_DIR / \"experiments_meta.csv\")"
   ]
  },
  {
   "cell_type": "markdown",
   "id": "af6abd66-9051-42bb-b490-f054ad2b3170",
   "metadata": {},
   "source": [
    "# "
   ]
  },
  {
   "cell_type": "code",
   "execution_count": 14,
   "id": "7c5d9b52-0ace-4ecc-88cc-a8db29c38c1a",
   "metadata": {},
   "outputs": [],
   "source": [
    "import numpy as np"
   ]
  },
  {
   "cell_type": "code",
   "execution_count": 159,
   "id": "bfde3606-c678-462c-9e9d-b24920db76bc",
   "metadata": {},
   "outputs": [
    {
     "name": "stdout",
     "output_type": "stream",
     "text": [
      "Help on function nanmean in module numpy:\n",
      "\n",
      "nanmean(a, axis=None, dtype=None, out=None, keepdims=<no value>, *, where=<no value>)\n",
      "    Compute the arithmetic mean along the specified axis, ignoring NaNs.\n",
      "    \n",
      "    Returns the average of the array elements.  The average is taken over\n",
      "    the flattened array by default, otherwise over the specified axis.\n",
      "    `float64` intermediate and return values are used for integer inputs.\n",
      "    \n",
      "    For all-NaN slices, NaN is returned and a `RuntimeWarning` is raised.\n",
      "    \n",
      "    .. versionadded:: 1.8.0\n",
      "    \n",
      "    Parameters\n",
      "    ----------\n",
      "    a : array_like\n",
      "        Array containing numbers whose mean is desired. If `a` is not an\n",
      "        array, a conversion is attempted.\n",
      "    axis : {int, tuple of int, None}, optional\n",
      "        Axis or axes along which the means are computed. The default is to compute\n",
      "        the mean of the flattened array.\n",
      "    dtype : data-type, optional\n",
      "        Type to use in computing the mean.  For integer inputs, the default\n",
      "        is `float64`; for inexact inputs, it is the same as the input\n",
      "        dtype.\n",
      "    out : ndarray, optional\n",
      "        Alternate output array in which to place the result.  The default\n",
      "        is ``None``; if provided, it must have the same shape as the\n",
      "        expected output, but the type will be cast if necessary. See\n",
      "        :ref:`ufuncs-output-type` for more details.\n",
      "    keepdims : bool, optional\n",
      "        If this is set to True, the axes which are reduced are left\n",
      "        in the result as dimensions with size one. With this option,\n",
      "        the result will broadcast correctly against the original `a`.\n",
      "    \n",
      "        If the value is anything but the default, then\n",
      "        `keepdims` will be passed through to the `mean` or `sum` methods\n",
      "        of sub-classes of `ndarray`.  If the sub-classes methods\n",
      "        does not implement `keepdims` any exceptions will be raised.\n",
      "    where : array_like of bool, optional\n",
      "        Elements to include in the mean. See `~numpy.ufunc.reduce` for details.\n",
      "    \n",
      "        .. versionadded:: 1.22.0\n",
      "    \n",
      "    Returns\n",
      "    -------\n",
      "    m : ndarray, see dtype parameter above\n",
      "        If `out=None`, returns a new array containing the mean values,\n",
      "        otherwise a reference to the output array is returned. Nan is\n",
      "        returned for slices that contain only NaNs.\n",
      "    \n",
      "    See Also\n",
      "    --------\n",
      "    average : Weighted average\n",
      "    mean : Arithmetic mean taken while not ignoring NaNs\n",
      "    var, nanvar\n",
      "    \n",
      "    Notes\n",
      "    -----\n",
      "    The arithmetic mean is the sum of the non-NaN elements along the axis\n",
      "    divided by the number of non-NaN elements.\n",
      "    \n",
      "    Note that for floating-point input, the mean is computed using the same\n",
      "    precision the input has.  Depending on the input data, this can cause\n",
      "    the results to be inaccurate, especially for `float32`.  Specifying a\n",
      "    higher-precision accumulator using the `dtype` keyword can alleviate\n",
      "    this issue.\n",
      "    \n",
      "    Examples\n",
      "    --------\n",
      "    >>> a = np.array([[1, np.nan], [3, 4]])\n",
      "    >>> np.nanmean(a)\n",
      "    2.6666666666666665\n",
      "    >>> np.nanmean(a, axis=0)\n",
      "    array([2.,  4.])\n",
      "    >>> np.nanmean(a, axis=1)\n",
      "    array([1.,  3.5]) # may vary\n",
      "\n"
     ]
    }
   ],
   "source": [
    "help(np.nanmean)"
   ]
  },
  {
   "cell_type": "code",
   "execution_count": 15,
   "id": "3faf3285-e732-4d37-88a0-264b921666db",
   "metadata": {},
   "outputs": [],
   "source": [
    "def row_from_uid(uid, exp):\n",
    "    serial = uid[:9]\n",
    "    stage = int(uid[-1])\n",
    "    row = exp[\n",
    "        (exp['serial'] == serial) &\n",
    "        (exp['stage'] == stage)]\n",
    "    if len(row) == 0:\n",
    "        raise ValueError(f\"UID {uid} not found\")\n",
    "    elif len(row) > 1:\n",
    "        raise ValueError(f\"Multiple UIDs found!\")\n",
    "    return row.iloc[0]"
   ]
  },
  {
   "cell_type": "code",
   "execution_count": 16,
   "id": "a28aff7e-21a1-4f6a-a611-eecb8709e620",
   "metadata": {},
   "outputs": [],
   "source": [
    "PREPROCESS_DTYPE = np.dtype([\n",
    "    (\"uid\", \"U11\"),  # unique identifier of cell\n",
    "    (\"T\", float),  # Ambient temperature during cycling\n",
    "    (\"T_m\", float),  # Temperature during measurement\n",
    "    (\"delta\", float),  # Depth of discharge\n",
    "    (\"Q\", float),  # Max SoC\n",
    "    (\"gamma_ch\", float),  # Charge rate\n",
    "    (\"gamma_dch\", float),  # discharge rate\n",
    "    (\"k\", float),  # Number of equivalent full cycles\n",
    "    (\"c_ch\", float),  # Capacity measured during charge\n",
    "    (\"c_dch\", float)  # Capacity measured during discharge\n",
    "])\n",
    "\n",
    "def preprocess(c: CapacityData, exp: pd.DataFrame):\n",
    "    uids = sorted(list(c.keys()))\n",
    "    # Filter out cell where the data was missing or corrupted.\n",
    "    uids = [uid for uid in uids if c[uid] is not None]\n",
    "\n",
    "    X = []  # Features to fit, tuples of (T_a, delta, Q, gamma+, gamma-, n_F)\n",
    "    \n",
    "    for uid in uids:\n",
    "        row = row_from_uid(uid, exp)\n",
    "        T_a = row[\"amb_temp_tp\"]\n",
    "        delta = row[\"dod_tp\"]\n",
    "        Q = row[\"soc_max_tp\"]\n",
    "        gamma_ch = row[\"c_ch_tp\"]\n",
    "        gamma_dch = row[\"c_dch_tp\"]\n",
    "\n",
    "        checkups = list(c[uid].iter_both())\n",
    "        N = len(checkups)\n",
    "        for i, (cap_ch, cap_dch, n_f) in enumerate(checkups):\n",
    "            # T_m = Temperature at which capacity is measured\n",
    "            if i == 0 or i == N - 3:\n",
    "                T_m = 10\n",
    "            elif i == 1 or i == N - 2:\n",
    "                T_m = 23\n",
    "            elif i == 2 or i == N - 1:\n",
    "                T_m = 45\n",
    "            else:\n",
    "                T_m = T_a\n",
    "                \n",
    "            # if np.any(np.isnan(x_i)) or np.isnan(cap):\n",
    "            #     continue\n",
    "            x_i = (uid, T_a, T_m, delta, Q, gamma_ch, gamma_dch, n_f, cap_ch, cap_dch)\n",
    "            X.append(x_i)\n",
    "    return np.array(X, dtype=PREPROCESS_DTYPE)\n",
    "    \n"
   ]
  },
  {
   "cell_type": "code",
   "execution_count": 17,
   "id": "ac48b67c-2f3c-490c-9b26-3e344446eb0c",
   "metadata": {},
   "outputs": [],
   "source": [
    "X = preprocess(c, exp)"
   ]
  },
  {
   "cell_type": "code",
   "execution_count": 18,
   "id": "220c114b-ae19-4cdf-8ba4-ffa975bda120",
   "metadata": {},
   "outputs": [
    {
     "name": "stdout",
     "output_type": "stream",
     "text": [
      "num NaN per column\n",
      "T 0\n",
      "T_m 0\n",
      "delta 0\n",
      "Q 0\n",
      "gamma_ch 0\n",
      "gamma_dch 0\n",
      "k 16\n",
      "c_ch 0\n",
      "c_dch 0\n"
     ]
    }
   ],
   "source": [
    "print(\"num NaN per column\")\n",
    "for column in X.dtype.names:\n",
    "    if X[column].dtype == float:\n",
    "        print(column, np.sum(np.isnan(X[column])))"
   ]
  },
  {
   "cell_type": "code",
   "execution_count": 19,
   "id": "c6635c60-970c-49ac-bee5-2d4423fd8c5f",
   "metadata": {},
   "outputs": [
    {
     "data": {
      "text/plain": [
       "array([23., 35., 45.])"
      ]
     },
     "execution_count": 19,
     "metadata": {},
     "output_type": "execute_result"
    }
   ],
   "source": [
    "np.unique(X[\"T\"])"
   ]
  },
  {
   "cell_type": "code",
   "execution_count": 20,
   "id": "336655fb-1df5-4335-aee6-ba0bbaf1c3f3",
   "metadata": {},
   "outputs": [
    {
     "data": {
      "text/plain": [
       "array([10., 23., 35., 45.])"
      ]
     },
     "execution_count": 20,
     "metadata": {},
     "output_type": "execute_result"
    }
   ],
   "source": [
    "np.unique(X[\"T_m\"])"
   ]
  },
  {
   "cell_type": "code",
   "execution_count": 21,
   "id": "6b09a6e0-2ff9-4bf5-83fa-66b9d10ec8cc",
   "metadata": {},
   "outputs": [],
   "source": [
    "import matplotlib.pyplot as plt"
   ]
  },
  {
   "cell_type": "code",
   "execution_count": null,
   "id": "17ac4d62-c52d-4719-9b23-71aa40ee4204",
   "metadata": {},
   "outputs": [],
   "source": [
    "from scipy.stats import kurtosis"
   ]
  },
  {
   "cell_type": "code",
   "execution_count": 25,
   "id": "52788cd9-f1bb-4037-8af3-e1e44ef3238a",
   "metadata": {},
   "outputs": [
    {
     "name": "stdout",
     "output_type": "stream",
     "text": [
      "Help on function std in module numpy:\n",
      "\n",
      "std(a, axis=None, dtype=None, out=None, ddof=0, keepdims=<no value>, *, where=<no value>)\n",
      "    Compute the standard deviation along the specified axis.\n",
      "    \n",
      "    Returns the standard deviation, a measure of the spread of a distribution,\n",
      "    of the array elements. The standard deviation is computed for the\n",
      "    flattened array by default, otherwise over the specified axis.\n",
      "    \n",
      "    Parameters\n",
      "    ----------\n",
      "    a : array_like\n",
      "        Calculate the standard deviation of these values.\n",
      "    axis : None or int or tuple of ints, optional\n",
      "        Axis or axes along which the standard deviation is computed. The\n",
      "        default is to compute the standard deviation of the flattened array.\n",
      "    \n",
      "        .. versionadded:: 1.7.0\n",
      "    \n",
      "        If this is a tuple of ints, a standard deviation is performed over\n",
      "        multiple axes, instead of a single axis or all the axes as before.\n",
      "    dtype : dtype, optional\n",
      "        Type to use in computing the standard deviation. For arrays of\n",
      "        integer type the default is float64, for arrays of float types it is\n",
      "        the same as the array type.\n",
      "    out : ndarray, optional\n",
      "        Alternative output array in which to place the result. It must have\n",
      "        the same shape as the expected output but the type (of the calculated\n",
      "        values) will be cast if necessary.\n",
      "    ddof : int, optional\n",
      "        Means Delta Degrees of Freedom.  The divisor used in calculations\n",
      "        is ``N - ddof``, where ``N`` represents the number of elements.\n",
      "        By default `ddof` is zero.\n",
      "    keepdims : bool, optional\n",
      "        If this is set to True, the axes which are reduced are left\n",
      "        in the result as dimensions with size one. With this option,\n",
      "        the result will broadcast correctly against the input array.\n",
      "    \n",
      "        If the default value is passed, then `keepdims` will not be\n",
      "        passed through to the `std` method of sub-classes of\n",
      "        `ndarray`, however any non-default value will be.  If the\n",
      "        sub-class' method does not implement `keepdims` any\n",
      "        exceptions will be raised.\n",
      "    \n",
      "    where : array_like of bool, optional\n",
      "        Elements to include in the standard deviation.\n",
      "        See `~numpy.ufunc.reduce` for details.\n",
      "    \n",
      "        .. versionadded:: 1.20.0\n",
      "    \n",
      "    Returns\n",
      "    -------\n",
      "    standard_deviation : ndarray, see dtype parameter above.\n",
      "        If `out` is None, return a new array containing the standard deviation,\n",
      "        otherwise return a reference to the output array.\n",
      "    \n",
      "    See Also\n",
      "    --------\n",
      "    var, mean, nanmean, nanstd, nanvar\n",
      "    :ref:`ufuncs-output-type`\n",
      "    \n",
      "    Notes\n",
      "    -----\n",
      "    The standard deviation is the square root of the average of the squared\n",
      "    deviations from the mean, i.e., ``std = sqrt(mean(x))``, where\n",
      "    ``x = abs(a - a.mean())**2``.\n",
      "    \n",
      "    The average squared deviation is typically calculated as ``x.sum() / N``,\n",
      "    where ``N = len(x)``. If, however, `ddof` is specified, the divisor\n",
      "    ``N - ddof`` is used instead. In standard statistical practice, ``ddof=1``\n",
      "    provides an unbiased estimator of the variance of the infinite population.\n",
      "    ``ddof=0`` provides a maximum likelihood estimate of the variance for\n",
      "    normally distributed variables. The standard deviation computed in this\n",
      "    function is the square root of the estimated variance, so even with\n",
      "    ``ddof=1``, it will not be an unbiased estimate of the standard deviation\n",
      "    per se.\n",
      "    \n",
      "    Note that, for complex numbers, `std` takes the absolute\n",
      "    value before squaring, so that the result is always real and nonnegative.\n",
      "    \n",
      "    For floating-point input, the *std* is computed using the same\n",
      "    precision the input has. Depending on the input data, this can cause\n",
      "    the results to be inaccurate, especially for float32 (see example below).\n",
      "    Specifying a higher-accuracy accumulator using the `dtype` keyword can\n",
      "    alleviate this issue.\n",
      "    \n",
      "    Examples\n",
      "    --------\n",
      "    >>> a = np.array([[1, 2], [3, 4]])\n",
      "    >>> np.std(a)\n",
      "    1.1180339887498949 # may vary\n",
      "    >>> np.std(a, axis=0)\n",
      "    array([1.,  1.])\n",
      "    >>> np.std(a, axis=1)\n",
      "    array([0.5,  0.5])\n",
      "    \n",
      "    In single precision, std() can be inaccurate:\n",
      "    \n",
      "    >>> a = np.zeros((2, 512*512), dtype=np.float32)\n",
      "    >>> a[0, :] = 1.0\n",
      "    >>> a[1, :] = 0.1\n",
      "    >>> np.std(a)\n",
      "    0.45000005\n",
      "    \n",
      "    Computing the standard deviation in float64 is more accurate:\n",
      "    \n",
      "    >>> np.std(a, dtype=np.float64)\n",
      "    0.44999999925494177 # may vary\n",
      "    \n",
      "    Specifying a where argument:\n",
      "    \n",
      "    >>> a = np.array([[14, 8, 11, 10], [7, 9, 10, 11], [10, 15, 5, 10]])\n",
      "    >>> np.std(a)\n",
      "    2.614064523559687 # may vary\n",
      "    >>> np.std(a, where=[[True], [True], [False]])\n",
      "    2.0\n",
      "\n"
     ]
    }
   ],
   "source": [
    "help(np.std)"
   ]
  },
  {
   "cell_type": "code",
   "execution_count": 42,
   "id": "26a90dad-6321-4f3f-ae3a-39f345698022",
   "metadata": {},
   "outputs": [],
   "source": [
    "from scipy.stats import kurtosis"
   ]
  },
  {
   "cell_type": "code",
   "execution_count": 165,
   "id": "9fab9028-583a-474f-ac83-839f45c5a3a8",
   "metadata": {},
   "outputs": [
    {
     "ename": "NameError",
     "evalue": "name 'scipy' is not defined",
     "output_type": "error",
     "traceback": [
      "\u001b[0;31m---------------------------------------------------------------------------\u001b[0m",
      "\u001b[0;31mNameError\u001b[0m                                 Traceback (most recent call last)",
      "Cell \u001b[0;32mIn[165], line 1\u001b[0m\n\u001b[0;32m----> 1\u001b[0m \u001b[43mscipy\u001b[49m\u001b[38;5;241m.\u001b[39mnorm\n",
      "\u001b[0;31mNameError\u001b[0m: name 'scipy' is not defined"
     ]
    }
   ],
   "source": [
    "scipy.norm"
   ]
  },
  {
   "cell_type": "code",
   "execution_count": 170,
   "id": "786143f0-6213-444e-a452-341e9f677d10",
   "metadata": {},
   "outputs": [],
   "source": [
    "from scipy.stats import norm"
   ]
  },
  {
   "cell_type": "code",
   "execution_count": 168,
   "id": "ef3d1dd0-a141-4351-b2d8-615860cc41d7",
   "metadata": {},
   "outputs": [
    {
     "data": {
      "text/plain": [
       "<scipy.stats._continuous_distns.norm_gen at 0x7f4ab56fc850>"
      ]
     },
     "execution_count": 168,
     "metadata": {},
     "output_type": "execute_result"
    }
   ],
   "source": [
    "scipy.stats.norm"
   ]
  },
  {
   "cell_type": "code",
   "execution_count": 173,
   "id": "f14e3aa3-cd95-432d-b0a6-cf557dab1065",
   "metadata": {},
   "outputs": [
    {
     "data": {
      "text/plain": [
       "0.24197072451914337"
      ]
     },
     "execution_count": 173,
     "metadata": {},
     "output_type": "execute_result"
    }
   ],
   "source": [
    "norm.pdf(0, 1)"
   ]
  },
  {
   "cell_type": "code",
   "execution_count": 177,
   "id": "c3e1882b-a88e-4631-a859-bb7bb58c4dba",
   "metadata": {},
   "outputs": [
    {
     "data": {
      "text/plain": [
       "0.03989422804014327"
      ]
     },
     "execution_count": 177,
     "metadata": {},
     "output_type": "execute_result"
    }
   ],
   "source": [
    "norm.pdf(0, loc=0, scale=10)"
   ]
  },
  {
   "cell_type": "code",
   "execution_count": 174,
   "id": "a5731d81-c50a-4731-84b0-ba4b79066267",
   "metadata": {},
   "outputs": [
    {
     "name": "stdout",
     "output_type": "stream",
     "text": [
      "Help on method pdf in module scipy.stats._distn_infrastructure:\n",
      "\n",
      "pdf(x, *args, **kwds) method of scipy.stats._continuous_distns.norm_gen instance\n",
      "    Probability density function at x of the given RV.\n",
      "    \n",
      "    Parameters\n",
      "    ----------\n",
      "    x : array_like\n",
      "        quantiles\n",
      "    arg1, arg2, arg3,... : array_like\n",
      "        The shape parameter(s) for the distribution (see docstring of the\n",
      "        instance object for more information)\n",
      "    loc : array_like, optional\n",
      "        location parameter (default=0)\n",
      "    scale : array_like, optional\n",
      "        scale parameter (default=1)\n",
      "    \n",
      "    Returns\n",
      "    -------\n",
      "    pdf : ndarray\n",
      "        Probability density function evaluated at x\n",
      "\n"
     ]
    }
   ],
   "source": [
    "help(norm.pdf)"
   ]
  },
  {
   "cell_type": "code",
   "execution_count": null,
   "id": "69cbde7b-5ab0-4e85-9d7a-3bfb414afb77",
   "metadata": {},
   "outputs": [],
   "source": []
  },
  {
   "cell_type": "markdown",
   "id": "de1280b1-adc8-4f40-882e-8b4c02b931cc",
   "metadata": {},
   "source": [
    "# "
   ]
  },
  {
   "cell_type": "code",
   "execution_count": 218,
   "id": "35fcd2d5-afee-41f9-8f92-db11e31e6705",
   "metadata": {},
   "outputs": [],
   "source": [
    "COLUMN_NAMES = [\"mean\", \"std\", \"kurtosis\", \"rmse_mean\", \"exp_error_mean\", \"rmse_var\", \"exp_error_var\"]\n",
    "STAT_DTYPE = np.dtype([\n",
    "    (\"N\", int),\n",
    "    *[(name, float) for name in \n",
    "      COLUMN_NAMES]\n",
    "])\n",
    "class Stats:\n",
    "    def __init__(self, x, exp_mean=0, exp_std=6.2):\n",
    "        self.N = len(x)\n",
    "        self.mean = np.mean(x)\n",
    "        self.std = np.std(x, ddof=1)\n",
    "        self.kurtosis = kurtosis(x)\n",
    "\n",
    "        self.rmse_mean = np.sqrt((self.mean - exp_mean)**2)\n",
    "        self.exp_error_mean = exp_std / np.sqrt(self.N)\n",
    "        self.rmse_var = np.abs(self.std**2 - exp_std**2)\n",
    "        self.exp_error_var = np.sqrt(2 * exp_std**4 / (self.N - 1))\n",
    "\n",
    "    def array(self):\n",
    "        return np.rec.array(\n",
    "            tuple([getattr(self, name) for name in STAT_DTYPE.names]),\n",
    "            dtype=STAT_DTYPE)\n",
    "        \n",
    "        \n",
    "class NoiseAnalysis:\n",
    "    def __init__(self, X, T_m):\n",
    "        self.X = X\n",
    "        self.T_m = T_m\n",
    "        \n",
    "        self.delta_c = X[\"c_ch\"] - X[\"c_dch\"]\n",
    "\n",
    "        self.stats = Stats(1000 * self.delta_c)\n",
    "\n",
    "        mu, sigma = self.stats.mean / 1000, self.stats.std / 1000\n",
    "        self.outliers = np.logical_or(\n",
    "            self.delta_c < mu - 3 * sigma,\n",
    "            self.delta_c > mu + 3 * sigma\n",
    "        )\n",
    "        \n",
    "        self.n_outliers = np.sum(self.outliers)\n",
    "        self.delta_c_clean = self.delta_c[~self.outliers]\n",
    "        self.stats_clean = Stats(1000 * self.delta_c_clean)\n",
    "\n",
    "    def plot(self, outliers=True):\n",
    "        \n",
    "        dc = self.delta_c_clean if outliers else self.delta_c\n",
    "        fig = plt.figure()\n",
    "        plt.hist(1000 * dc, density=True, log=True)\n",
    "        plt.title(f\"Difference between Charge and Discharge Measurements (T_m = {self.T_m})\")\n",
    "        plt.xlabel(\"Charge measurement difference (mAh)\")\n",
    "        plt.ylabel(\"Probability Density\")\n",
    "\n",
    "        # std = 6.2\n",
    "        # plt.axvline(x= -2 * std, c='r')\n",
    "        # plt.axvline(x=2 * std, c='r', label=\"Analytical noise\")\n",
    "        x = np.linspace(-30, 30)\n",
    "        # exp_count = len(dc) * norm.pdf(x, 0, 6.2)\n",
    "        exp_count = norm.pdf(x, 0, 6.2)\n",
    "        plt.plot(x, exp_count, c='r')\n",
    "        # filt = exp_count > 1\n",
    "        # plt.plot(x[filt], exp_count[filt], c='r')\n",
    "        # plt.xlim([-30, 30])\n",
    "        # print(\"x\")\n",
    "        # print(x)\n",
    "        # print(\"log_p\")\n",
    "        # print(log_p)\n",
    "        # if outliers:\n",
    "        #     plt.title(f\"delta c histogram w/ outliers (T_m = {self.T_m}\")\n",
    "        # else\n",
    "            \n",
    "        # plt.figure()\n",
    "        # plt.hist(self.delta_c_clean)\n",
    "        # plt.title(f\"delta c histogram w/o outliers (T_m = {self.T_m}\")\n",
    "        return fig\n",
    "\n",
    "\n",
    "\n",
    "\n",
    "noise_stats = [NoiseAnalysis(X[X[\"T_m\"] == T_m], T_m)\n",
    "               for T_m in np.unique(X[\"T_m\"])]"
   ]
  },
  {
   "cell_type": "code",
   "execution_count": 219,
   "id": "4ccd4034-5022-492f-99c5-b75d385f64b1",
   "metadata": {
    "scrolled": true
   },
   "outputs": [
    {
     "data": {
      "image/png": "[encoded data removed]",
      "text/plain": [
       "<Figure size 640x480 with 1 Axes>"
      ]
     },
     "metadata": {},
     "output_type": "display_data"
    },
    {
     "data": {
      "image/png": "[encoded data removed]",
      "text/plain": [
       "<Figure size 640x480 with 1 Axes>"
      ]
     },
     "metadata": {},
     "output_type": "display_data"
    },
    {
     "data": {
      "image/png": "[encoded data removed]",
      "text/plain": [
       "<Figure size 640x480 with 1 Axes>"
      ]
     },
     "metadata": {},
     "output_type": "display_data"
    },
    {
     "data": {
      "image/png": "[encoded data removed]",
      "text/plain": [
       "<Figure size 640x480 with 1 Axes>"
      ]
     },
     "metadata": {},
     "output_type": "display_data"
    }
   ],
   "source": [
    "figs = [stats.plot() for stats in noise_stats]"
   ]
  },
  {
   "cell_type": "code",
   "execution_count": 214,
   "id": "3deee2fb-5d2b-4f4f-8d31-2585fd665698",
   "metadata": {},
   "outputs": [],
   "source": [
    "from pathlib import Path"
   ]
  },
  {
   "cell_type": "code",
   "execution_count": 215,
   "id": "3169adaa-9d96-4053-88c7-0cd9a3237d49",
   "metadata": {},
   "outputs": [],
   "source": [
    "image_dir = Path(\"/home/sean/code/study-hard/stochastic-estimation/tex/project/draft/Images\")"
   ]
  },
  {
   "cell_type": "code",
   "execution_count": 220,
   "id": "12738574-e874-4008-938e-beb35ccf4bb4",
   "metadata": {},
   "outputs": [],
   "source": [
    "for i, fig in enumerate(figs):\n",
    "    fig.savefig(image_dir / f\"measurement_error_{i}.png\")"
   ]
  },
  {
   "cell_type": "code",
   "execution_count": 132,
   "id": "89c4fe78-9df4-4d56-8884-05a3340e169d",
   "metadata": {},
   "outputs": [],
   "source": [
    "from tabulate import tabulate"
   ]
  },
  {
   "cell_type": "code",
   "execution_count": 154,
   "id": "e75ccb6b-1d88-429f-9ad1-951162eaabf2",
   "metadata": {},
   "outputs": [],
   "source": [
    "LABEL_MAP = {\n",
    "    \"T_m\": \"T_m (°C)\",\n",
    "    \"mean\": \"Mean (mA)\",\n",
    "    \"std\": \"std (mA)\",\n",
    "    \"rmse_mean\": \"RMSE mean (mA)\",\n",
    "    \"exp_error_mean\": \"Exp[RMSE mean] (mA)\",\n",
    "    \"rmse_var\": \"RMSE var (mA^2)\",\n",
    "    \"exp_error_var\": \"Exp[RMSE var] (mA^2)\",\n",
    "}"
   ]
  },
  {
   "cell_type": "code",
   "execution_count": 156,
   "id": "7e9c3c10-7e82-4edc-bf74-379efd1c3679",
   "metadata": {},
   "outputs": [],
   "source": [
    "def format(noise_stats, outliers=False):\n",
    "    if outliers:\n",
    "        all_stats = np.r_[[n.stats_clean.array() for n in noise_stats]]\n",
    "        n_outliers = [n.n_outliers for n in noise_stats]\n",
    "    else:\n",
    "        all_stats = np.r_[[n.stats.array() for n in noise_stats]]\n",
    "    all_stats_dict = {\"T_m (°C)\": [n.T_m for n in noise_stats]}\n",
    "    for name in all_stats.dtype.names:\n",
    "        all_stats_dict[name] = all_stats[name]\n",
    "\n",
    "    if outliers:\n",
    "        order = [\"T_m (°C)\", \"N\"] + COLUMN_NAMES\n",
    "        # order = [\"T_m (°C)\", \"N\", \"# outliers\"] + COLUMN_NAMES\n",
    "        # all_stats_dict[\"# outliers\"] = n_outliers\n",
    "    else:\n",
    "        order = [\"T_m (°C)\", \"N\"] + COLUMN_NAMES\n",
    "        \n",
    "    # for k in list(all_stats_dict.keys()):\n",
    "    #     if k in [\"T_m (°C)\", \"N\", \"kurtosis\", \"# outliers\"]:\n",
    "    #         continue\n",
    "    #     new_k = f\"{k} (mA)\"\n",
    "    #     all_stats_dict[new_k] = all_stats_dict.pop(k)\n",
    "    #     order[order.index(k)] = new_k\n",
    "    \n",
    "    return {LABEL_MAP.get(k, k): all_stats_dict[k] for k in order}"
   ]
  },
  {
   "cell_type": "code",
   "execution_count": 157,
   "id": "4591b4c2-b696-4dd9-8ed4-567047516676",
   "metadata": {},
   "outputs": [
    {
     "name": "stdout",
     "output_type": "stream",
     "text": [
      "  T_m (°C)    N    Mean (mA)    std (mA)    kurtosis    RMSE mean (mA)    Exp[RMSE mean] (mA)    RMSE var (mA^2)    Exp[RMSE var] (mA^2)\n",
      "----------  ---  -----------  ----------  ----------  ----------------  ---------------------  -----------------  ----------------------\n",
      "        10  201    -0.415802    23.3755     5.59376           0.415802               0.437314         507.976                    3.844\n",
      "        23  560    -9.10148      4.51506    0.571727          9.10148                0.261998          18.0542                   2.29928\n",
      "        35  394   -11.6979       6.20956   -0.350447         11.6979                 0.312351           0.118626                 2.74222\n",
      "        45  709    -9.32776      9.40397   -0.235385          9.32776                0.232846          49.9946                   2.04306\n"
     ]
    }
   ],
   "source": [
    "\n",
    "print(tabulate(format(noise_stats, outliers=True), headers=\"keys\"))"
   ]
  },
  {
   "cell_type": "code",
   "execution_count": 25,
   "id": "60c3626f-d0e6-4854-b9ea-522eb0438d4d",
   "metadata": {},
   "outputs": [
    {
     "name": "stdout",
     "output_type": "stream",
     "text": [
      "Statistics for delta_c\n",
      "T_m  | N   | mean | std | var\n",
      "10.0 | 202 | 0.007 | 0.1077 | 0.011593\n",
      "23.0 | 565 | -0.009 | 0.0050 | 0.000025\n",
      "35.0 | 396 | -0.012 | 0.0067 | 0.000044\n",
      "45.0 | 711 | -0.010 | 0.0580 | 0.003359\n",
      "Statistics for delta_c w/o outliers\n",
      "T_m  | N   | n_outliers | mean   | std    | var\n",
      "10.0 | 202 | 1          | 0.007 | 0.1077 | 0.011593\n",
      "23.0 | 565 | 5          | -0.009 | 0.0050 | 0.000025\n",
      "35.0 | 396 | 2          | -0.012 | 0.0067 | 0.000044\n",
      "45.0 | 711 | 2          | -0.010 | 0.0580 | 0.003359\n"
     ]
    }
   ],
   "source": [
    "print(\"Statistics for delta_c\")\n",
    "print(\"T_m  | N   | mean | std | var\")\n",
    "for s in noise_stats:\n",
    "    print(f\"{s.T_m} | {s.N} | {s.mean:.3f} | {s.std:.4f} | {s.std**2:.6f}\")\n",
    "    \n",
    "print(\"Statistics for delta_c w/o outliers\")\n",
    "print(\"T_m  | N   | n_outliers | mean   | std    | var\")\n",
    "for s in noise_stats:\n",
    "    print(f\"{s.T_m} | {s.N} | {s.n_outliers}          | {s.mean:.3f} | {s.std:.4f} | {s.std**2:.6f}\")"
   ]
  },
  {
   "cell_type": "code",
   "execution_count": 27,
   "id": "c0eacac8-9c07-49eb-b08c-43c943ed41c9",
   "metadata": {},
   "outputs": [],
   "source": [
    "n = noise_stats[0]"
   ]
  },
  {
   "cell_type": "code",
   "execution_count": 41,
   "id": "f319908c-7b51-4af5-b918-6efd8fc0f18c",
   "metadata": {},
   "outputs": [],
   "source": [
    "outlier_rows = []\n",
    "for n in noise_stats:\n",
    "    outlier_rows.extend(n.X[n.outliers])"
   ]
  },
  {
   "cell_type": "code",
   "execution_count": 44,
   "id": "bce560b1-9cab-4641-ab69-b43eb18a1a31",
   "metadata": {},
   "outputs": [
    {
     "data": {
      "text/plain": [
       "10"
      ]
     },
     "execution_count": 44,
     "metadata": {},
     "output_type": "execute_result"
    }
   ],
   "source": [
    "len(outlier_rows)"
   ]
  },
  {
   "cell_type": "code",
   "execution_count": 46,
   "id": "f7349785-0331-412a-bf1e-a454bcccdad5",
   "metadata": {},
   "outputs": [
    {
     "name": "stdout",
     "output_type": "stream",
     "text": [
      "Outlier 0\n",
      "('TP_z25_01_1', 45., 10., 0.15, 0.6, 0.9, 1.9, 4496.72900391, 5.37497091, 3.8775301)\n",
      "1831\n",
      "[('TP_z25_01_1', 45., 10., 0.15, 0.6, 0.9, 1.9,    0.        , 4.79989481, 4.83689833)\n",
      " ('TP_z25_01_1', 45., 23., 0.15, 0.6, 0.9, 1.9,    0.        , 4.87218809, 4.88796568)\n",
      " ('TP_z25_01_1', 45., 45., 0.15, 0.6, 0.9, 1.9,    0.        , 3.1701932 , 4.58019972)\n",
      " ('TP_z25_01_1', 45., 45., 0.15, 0.6, 0.9, 1.9,   79.13929749, 4.81362724, 4.83629704)\n",
      " ('TP_z25_01_1', 45., 45., 0.15, 0.6, 0.9, 1.9,  183.49508667, 4.69922781, 4.68336487)\n",
      " ('TP_z25_01_1', 45., 45., 0.15, 0.6, 0.9, 1.9,  286.00119019, 4.64841366, 4.67364883)\n",
      " ('TP_z25_01_1', 45., 45., 0.15, 0.6, 0.9, 1.9,  491.25390625, 4.56476831, 4.58315849)\n",
      " ('TP_z25_01_1', 45., 45., 0.15, 0.6, 0.9, 1.9,  696.32110596, 4.51090717, 4.52136278)\n",
      " ('TP_z25_01_1', 45., 45., 0.15, 0.6, 0.9, 1.9,  901.42687988, 4.46775436, 4.47189426)\n",
      " ('TP_z25_01_1', 45., 45., 0.15, 0.6, 0.9, 1.9, 1311.40026855, 4.38356733, 4.38655758)\n",
      " ('TP_z25_01_1', 45., 45., 0.15, 0.6, 0.9, 1.9, 1626.9987793 , 4.34072161, 4.33684921)\n",
      " ('TP_z25_01_1', 45., 45., 0.15, 0.6, 0.9, 1.9, 2036.93408203, 4.26434946, 4.25490999)\n",
      " ('TP_z25_01_1', 45., 45., 0.15, 0.6, 0.9, 1.9, 2446.9699707 , 4.18853998, 4.17821312)\n",
      " ('TP_z25_01_1', 45., 45., 0.15, 0.6, 0.9, 1.9, 2856.98144531, 4.1325922 , 4.11843252)\n",
      " ('TP_z25_01_1', 45., 45., 0.15, 0.6, 0.9, 1.9, 3266.89379883, 4.05933189, 4.04219055)\n",
      " ('TP_z25_01_1', 45., 45., 0.15, 0.6, 0.9, 1.9, 3676.83105469, 4.64627266, 4.05190563)\n",
      " ('TP_z25_01_1', 45., 45., 0.15, 0.6, 0.9, 1.9, 4086.80688477, 3.80251193, 3.77241707)\n",
      " ('TP_z25_01_1', 45., 10., 0.15, 0.6, 0.9, 1.9, 4496.72900391, 5.37497091, 3.8775301 )\n",
      " ('TP_z25_01_1', 45., 23., 0.15, 0.6, 0.9, 1.9, 4496.72900391, 3.86155891, 3.88056493)\n",
      " ('TP_z25_01_1', 45., 45., 0.15, 0.6, 0.9, 1.9, 4496.72900391, 4.0015769 , 4.03615904)]\n",
      "Outlier 1\n",
      "('TP_z02_02_1', 23., 23., 0.35, 0.65, 0.4, 1.5, 1831.48852539, 4.60106039, 4.59329653)\n",
      "78\n",
      "[('TP_z02_02_1', 23., 10., 0.35, 0.65, 0.4, 1.5,    0.        , 4.75329685, 4.76699018)\n",
      " ('TP_z02_02_1', 23., 23., 0.35, 0.65, 0.4, 1.5,    0.        , 4.82253838, 4.82241726)\n",
      " ('TP_z02_02_1', 23., 45., 0.35, 0.65, 0.4, 1.5,    0.        , 4.92722607, 4.91452169)\n",
      " ('TP_z02_02_1', 23., 23., 0.35, 0.65, 0.4, 1.5,   52.88169861, 4.7985754 , 4.805933  )\n",
      " ('TP_z02_02_1', 23., 23., 0.35, 0.65, 0.4, 1.5,  106.05270386, 4.79211807, 4.79786682)\n",
      " ('TP_z02_02_1', 23., 23., 0.35, 0.65, 0.4, 1.5,  159.13960266, 4.77743244, 4.78299236)\n",
      " ('TP_z02_02_1', 23., 23., 0.35, 0.65, 0.4, 1.5,  265.34500122, 4.7493186 , 4.75517416)\n",
      " ('TP_z02_02_1', 23., 23., 0.35, 0.65, 0.4, 1.5,  362.78460693, 4.74586916, 4.74862528)\n",
      " ('TP_z02_02_1', 23., 23., 0.35, 0.65, 0.4, 1.5,  453.09561157, 4.73538256, 4.73764944)\n",
      " ('TP_z02_02_1', 23., 23., 0.35, 0.65, 0.4, 1.5,  664.62139893, 4.71580362, 4.71425772)\n",
      " ('TP_z02_02_1', 23., 23., 0.35, 0.65, 0.4, 1.5,  868.67572021, 4.6953249 , 4.69167805)\n",
      " ('TP_z02_02_1', 23., 23., 0.35, 0.65, 0.4, 1.5, 1072.72668457, 4.67524147, 4.67074919)\n",
      " ('TP_z02_02_1', 23., 23., 0.35, 0.65, 0.4, 1.5, 1221.76953125, 4.65614414, 4.6521945 )\n",
      " ('TP_z02_02_1', 23., 23., 0.35, 0.65, 0.4, 1.5, 1425.80847168, 4.63925982, 4.63340902)\n",
      " ('TP_z02_02_1', 23., 23., 0.35, 0.65, 0.4, 1.5, 1629.83728027, 4.61731005, 4.61317539)\n",
      " ('TP_z02_02_1', 23., 23., 0.35, 0.65, 0.4, 1.5, 1831.48852539, 4.60106039, 4.59329653)\n",
      " ('TP_z02_02_1', 23., 23., 0.35, 0.65, 0.4, 1.5, 2141.81225586, 4.57230139, 4.56492805)\n",
      " ('TP_z02_02_1', 23., 23., 0.35, 0.65, 0.4, 1.5, 2343.44775391, 4.557096  , 4.54911995)\n",
      " ('TP_z02_02_1', 23., 10., 0.35, 0.65, 0.4, 1.5, 2488.29003906, 4.47566938, 4.46855831)\n",
      " ('TP_z02_02_1', 23., 23., 0.35, 0.65, 0.4, 1.5, 2488.29003906, 4.51038694, 4.50692081)\n",
      " ('TP_z02_02_1', 23., 45., 0.35, 0.65, 0.4, 1.5, 2488.29003906, 4.58291388, 4.58298922)]\n",
      "Outlier 2\n",
      "('TP_z02_02_1', 23., 23., 0.35, 0.65, 0.4, 1.5, 2141.81225586, 4.57230139, 4.56492805)\n",
      "79\n",
      "[('TP_z02_02_1', 23., 10., 0.35, 0.65, 0.4, 1.5,    0.        , 4.75329685, 4.76699018)\n",
      " ('TP_z02_02_1', 23., 23., 0.35, 0.65, 0.4, 1.5,    0.        , 4.82253838, 4.82241726)\n",
      " ('TP_z02_02_1', 23., 45., 0.35, 0.65, 0.4, 1.5,    0.        , 4.92722607, 4.91452169)\n",
      " ('TP_z02_02_1', 23., 23., 0.35, 0.65, 0.4, 1.5,   52.88169861, 4.7985754 , 4.805933  )\n",
      " ('TP_z02_02_1', 23., 23., 0.35, 0.65, 0.4, 1.5,  106.05270386, 4.79211807, 4.79786682)\n",
      " ('TP_z02_02_1', 23., 23., 0.35, 0.65, 0.4, 1.5,  159.13960266, 4.77743244, 4.78299236)\n",
      " ('TP_z02_02_1', 23., 23., 0.35, 0.65, 0.4, 1.5,  265.34500122, 4.7493186 , 4.75517416)\n",
      " ('TP_z02_02_1', 23., 23., 0.35, 0.65, 0.4, 1.5,  362.78460693, 4.74586916, 4.74862528)\n",
      " ('TP_z02_02_1', 23., 23., 0.35, 0.65, 0.4, 1.5,  453.09561157, 4.73538256, 4.73764944)\n",
      " ('TP_z02_02_1', 23., 23., 0.35, 0.65, 0.4, 1.5,  664.62139893, 4.71580362, 4.71425772)\n",
      " ('TP_z02_02_1', 23., 23., 0.35, 0.65, 0.4, 1.5,  868.67572021, 4.6953249 , 4.69167805)\n",
      " ('TP_z02_02_1', 23., 23., 0.35, 0.65, 0.4, 1.5, 1072.72668457, 4.67524147, 4.67074919)\n",
      " ('TP_z02_02_1', 23., 23., 0.35, 0.65, 0.4, 1.5, 1221.76953125, 4.65614414, 4.6521945 )\n",
      " ('TP_z02_02_1', 23., 23., 0.35, 0.65, 0.4, 1.5, 1425.80847168, 4.63925982, 4.63340902)\n",
      " ('TP_z02_02_1', 23., 23., 0.35, 0.65, 0.4, 1.5, 1629.83728027, 4.61731005, 4.61317539)\n",
      " ('TP_z02_02_1', 23., 23., 0.35, 0.65, 0.4, 1.5, 1831.48852539, 4.60106039, 4.59329653)\n",
      " ('TP_z02_02_1', 23., 23., 0.35, 0.65, 0.4, 1.5, 2141.81225586, 4.57230139, 4.56492805)\n",
      " ('TP_z02_02_1', 23., 23., 0.35, 0.65, 0.4, 1.5, 2343.44775391, 4.557096  , 4.54911995)\n",
      " ('TP_z02_02_1', 23., 10., 0.35, 0.65, 0.4, 1.5, 2488.29003906, 4.47566938, 4.46855831)\n",
      " ('TP_z02_02_1', 23., 23., 0.35, 0.65, 0.4, 1.5, 2488.29003906, 4.51038694, 4.50692081)\n",
      " ('TP_z02_02_1', 23., 45., 0.35, 0.65, 0.4, 1.5, 2488.29003906, 4.58291388, 4.58298922)]\n",
      "Outlier 3\n",
      "('TP_z02_02_1', 23., 23., 0.35, 0.65, 0.4, 1.5, 2343.44775391, 4.557096, 4.54911995)\n",
      "80\n",
      "[('TP_z02_02_1', 23., 10., 0.35, 0.65, 0.4, 1.5,    0.        , 4.75329685, 4.76699018)\n",
      " ('TP_z02_02_1', 23., 23., 0.35, 0.65, 0.4, 1.5,    0.        , 4.82253838, 4.82241726)\n",
      " ('TP_z02_02_1', 23., 45., 0.35, 0.65, 0.4, 1.5,    0.        , 4.92722607, 4.91452169)\n",
      " ('TP_z02_02_1', 23., 23., 0.35, 0.65, 0.4, 1.5,   52.88169861, 4.7985754 , 4.805933  )\n",
      " ('TP_z02_02_1', 23., 23., 0.35, 0.65, 0.4, 1.5,  106.05270386, 4.79211807, 4.79786682)\n",
      " ('TP_z02_02_1', 23., 23., 0.35, 0.65, 0.4, 1.5,  159.13960266, 4.77743244, 4.78299236)\n",
      " ('TP_z02_02_1', 23., 23., 0.35, 0.65, 0.4, 1.5,  265.34500122, 4.7493186 , 4.75517416)\n",
      " ('TP_z02_02_1', 23., 23., 0.35, 0.65, 0.4, 1.5,  362.78460693, 4.74586916, 4.74862528)\n",
      " ('TP_z02_02_1', 23., 23., 0.35, 0.65, 0.4, 1.5,  453.09561157, 4.73538256, 4.73764944)\n",
      " ('TP_z02_02_1', 23., 23., 0.35, 0.65, 0.4, 1.5,  664.62139893, 4.71580362, 4.71425772)\n",
      " ('TP_z02_02_1', 23., 23., 0.35, 0.65, 0.4, 1.5,  868.67572021, 4.6953249 , 4.69167805)\n",
      " ('TP_z02_02_1', 23., 23., 0.35, 0.65, 0.4, 1.5, 1072.72668457, 4.67524147, 4.67074919)\n",
      " ('TP_z02_02_1', 23., 23., 0.35, 0.65, 0.4, 1.5, 1221.76953125, 4.65614414, 4.6521945 )\n",
      " ('TP_z02_02_1', 23., 23., 0.35, 0.65, 0.4, 1.5, 1425.80847168, 4.63925982, 4.63340902)\n",
      " ('TP_z02_02_1', 23., 23., 0.35, 0.65, 0.4, 1.5, 1629.83728027, 4.61731005, 4.61317539)\n",
      " ('TP_z02_02_1', 23., 23., 0.35, 0.65, 0.4, 1.5, 1831.48852539, 4.60106039, 4.59329653)\n",
      " ('TP_z02_02_1', 23., 23., 0.35, 0.65, 0.4, 1.5, 2141.81225586, 4.57230139, 4.56492805)\n",
      " ('TP_z02_02_1', 23., 23., 0.35, 0.65, 0.4, 1.5, 2343.44775391, 4.557096  , 4.54911995)\n",
      " ('TP_z02_02_1', 23., 10., 0.35, 0.65, 0.4, 1.5, 2488.29003906, 4.47566938, 4.46855831)\n",
      " ('TP_z02_02_1', 23., 23., 0.35, 0.65, 0.4, 1.5, 2488.29003906, 4.51038694, 4.50692081)\n",
      " ('TP_z02_02_1', 23., 45., 0.35, 0.65, 0.4, 1.5, 2488.29003906, 4.58291388, 4.58298922)]\n",
      "Outlier 4\n",
      "('TP_z06_01_1', 23., 23., 0.6, 0.8, 0.5, 1., 959.17584229, 4.67216349, 4.65878105)\n",
      "331\n",
      "[('TP_z06_01_1', 23., 10., 0.6, 0.8, 0.5, 1.,    0.        , 4.82835674, 4.78427219)\n",
      " ('TP_z06_01_1', 23., 23., 0.6, 0.8, 0.5, 1.,    0.        , 4.86943388, 4.87873888)\n",
      " ('TP_z06_01_1', 23., 45., 0.6, 0.8, 0.5, 1.,    0.        , 4.99654722, 4.98758984)\n",
      " ('TP_z06_01_1', 23., 23., 0.6, 0.8, 0.5, 1.,   56.14479828, 4.84992599, 4.85512924)\n",
      " ('TP_z06_01_1', 23., 23., 0.6, 0.8, 0.5, 1.,  117.12689972, 4.8203454 , 4.82557726)\n",
      " ('TP_z06_01_1', 23., 23., 0.6, 0.8, 0.5, 1.,  173.25750732, 4.80463076, 4.81142139)\n",
      " ('TP_z06_01_1', 23., 23., 0.6, 0.8, 0.5, 1.,  285.80761719, 4.77485895, 4.78268671)\n",
      " ('TP_z06_01_1', 23., 23., 0.6, 0.8, 0.5, 1.,  398.26092529, 4.73830366, 4.75107574)\n",
      " ('TP_z06_01_1', 23., 23., 0.6, 0.8, 0.5, 1.,  510.49581909, 4.7274437 , 4.73246956)\n",
      " ('TP_z06_01_1', 23., 23., 0.6, 0.8, 0.5, 1.,  734.85992432, 4.69125175, 4.69374657)\n",
      " ('TP_z06_01_1', 23., 23., 0.6, 0.8, 0.5, 1.,  959.17584229, 4.67216349, 4.65878105)\n",
      " ('TP_z06_01_1', 23., 23., 0.6, 0.8, 0.5, 1., 1183.34179688, 4.6189599 , 4.61569357)\n",
      " ('TP_z06_01_1', 23., 23., 0.6, 0.8, 0.5, 1., 1407.4675293 , 4.61705542, 4.58912659)\n",
      " ('TP_z06_01_1', 23., 23., 0.6, 0.8, 0.5, 1., 1631.46618652, 4.53842449, 4.54122066)\n",
      " ('TP_z06_01_1', 23., 10., 0.6, 0.8, 0.5, 1., 1855.72644043, 4.52830791, 4.45239401)\n",
      " ('TP_z06_01_1', 23., 23., 0.6, 0.8, 0.5, 1., 1855.72644043, 4.49600172, 4.5010457 )\n",
      " ('TP_z06_01_1', 23., 45., 0.6, 0.8, 0.5, 1., 1855.72644043, 4.58183289, 4.58616686)]\n",
      "Outlier 5\n",
      "('TP_z06_01_1', 23., 23., 0.6, 0.8, 0.5, 1., 1407.4675293, 4.61705542, 4.58912659)\n",
      "333\n",
      "[('TP_z06_01_1', 23., 10., 0.6, 0.8, 0.5, 1.,    0.        , 4.82835674, 4.78427219)\n",
      " ('TP_z06_01_1', 23., 23., 0.6, 0.8, 0.5, 1.,    0.        , 4.86943388, 4.87873888)\n",
      " ('TP_z06_01_1', 23., 45., 0.6, 0.8, 0.5, 1.,    0.        , 4.99654722, 4.98758984)\n",
      " ('TP_z06_01_1', 23., 23., 0.6, 0.8, 0.5, 1.,   56.14479828, 4.84992599, 4.85512924)\n",
      " ('TP_z06_01_1', 23., 23., 0.6, 0.8, 0.5, 1.,  117.12689972, 4.8203454 , 4.82557726)\n",
      " ('TP_z06_01_1', 23., 23., 0.6, 0.8, 0.5, 1.,  173.25750732, 4.80463076, 4.81142139)\n",
      " ('TP_z06_01_1', 23., 23., 0.6, 0.8, 0.5, 1.,  285.80761719, 4.77485895, 4.78268671)\n",
      " ('TP_z06_01_1', 23., 23., 0.6, 0.8, 0.5, 1.,  398.26092529, 4.73830366, 4.75107574)\n",
      " ('TP_z06_01_1', 23., 23., 0.6, 0.8, 0.5, 1.,  510.49581909, 4.7274437 , 4.73246956)\n",
      " ('TP_z06_01_1', 23., 23., 0.6, 0.8, 0.5, 1.,  734.85992432, 4.69125175, 4.69374657)\n",
      " ('TP_z06_01_1', 23., 23., 0.6, 0.8, 0.5, 1.,  959.17584229, 4.67216349, 4.65878105)\n",
      " ('TP_z06_01_1', 23., 23., 0.6, 0.8, 0.5, 1., 1183.34179688, 4.6189599 , 4.61569357)\n",
      " ('TP_z06_01_1', 23., 23., 0.6, 0.8, 0.5, 1., 1407.4675293 , 4.61705542, 4.58912659)\n",
      " ('TP_z06_01_1', 23., 23., 0.6, 0.8, 0.5, 1., 1631.46618652, 4.53842449, 4.54122066)\n",
      " ('TP_z06_01_1', 23., 10., 0.6, 0.8, 0.5, 1., 1855.72644043, 4.52830791, 4.45239401)\n",
      " ('TP_z06_01_1', 23., 23., 0.6, 0.8, 0.5, 1., 1855.72644043, 4.49600172, 4.5010457 )\n",
      " ('TP_z06_01_1', 23., 45., 0.6, 0.8, 0.5, 1., 1855.72644043, 4.58183289, 4.58616686)]\n",
      "Outlier 6\n",
      "('TP_z15_01_1', 35., 35., 0.5, 0.7, 0.7, 1.7, 2089.99658203, 4.52723074, 4.50253773)\n",
      "1110\n",
      "[('TP_z15_01_1', 35., 10., 0.5, 0.7, 0.7, 1.7,    0.        , 4.8241725 , 4.80469418)\n",
      " ('TP_z15_01_1', 35., 23., 0.5, 0.7, 0.7, 1.7,    0.        , 4.8712182 , 4.88142776)\n",
      " ('TP_z15_01_1', 35., 45., 0.5, 0.7, 0.7, 1.7,    0.        , 4.99781084, 4.990623  )\n",
      " ('TP_z15_01_1', 35., 35., 0.5, 0.7, 0.7, 1.7,   83.69319916, 4.83316994, 4.84306145)\n",
      " ('TP_z15_01_1', 35., 35., 0.5, 0.7, 0.7, 1.7,  173.82609558, 4.79160786, 4.80370569)\n",
      " ('TP_z15_01_1', 35., 35., 0.5, 0.7, 0.7, 1.7,  257.15899658, 4.77729368, 4.78968382)\n",
      " ('TP_z15_01_1', 35., 35., 0.5, 0.7, 0.7, 1.7,  423.82440186, 4.74036694, 4.75273132)\n",
      " ('TP_z15_01_1', 35., 35., 0.5, 0.7, 0.7, 1.7,  590.66748047, 4.71775198, 4.72906065)\n",
      " ('TP_z15_01_1', 35., 35., 0.5, 0.7, 0.7, 1.7,  757.17980957, 4.69050789, 4.69668198)\n",
      " ('TP_z15_01_1', 35., 35., 0.5, 0.7, 0.7, 1.7, 1090.49951172, 4.64035559, 4.64242554)\n",
      " ('TP_z15_01_1', 35., 35., 0.5, 0.7, 0.7, 1.7, 1423.9041748 , 4.59726334, 4.59656715)\n",
      " ('TP_z15_01_1', 35., 35., 0.5, 0.7, 0.7, 1.7, 1756.92700195, 4.55015898, 4.54288387)\n",
      " ('TP_z15_01_1', 35., 35., 0.5, 0.7, 0.7, 1.7, 2089.99658203, 4.52723074, 4.50253773)\n",
      " ('TP_z15_01_1', 35., 35., 0.5, 0.7, 0.7, 1.7, 2423.04760742, 4.47810602, 4.45727825)\n",
      " ('TP_z15_01_1', 35., 10., 0.5, 0.7, 0.7, 1.7, 2756.31323242, 4.4854784 , 4.36099195)\n",
      " ('TP_z15_01_1', 35., 23., 0.5, 0.7, 0.7, 1.7, 2756.31323242, 4.387784  , 4.39221334)\n",
      " ('TP_z15_01_1', 35., 45., 0.5, 0.7, 0.7, 1.7, 2756.31323242, 4.47699308, 4.47905922)]\n",
      "Outlier 7\n",
      "('TP_z15_01_1', 35., 35., 0.5, 0.7, 0.7, 1.7, 2423.04760742, 4.47810602, 4.45727825)\n",
      "1111\n",
      "[('TP_z15_01_1', 35., 10., 0.5, 0.7, 0.7, 1.7,    0.        , 4.8241725 , 4.80469418)\n",
      " ('TP_z15_01_1', 35., 23., 0.5, 0.7, 0.7, 1.7,    0.        , 4.8712182 , 4.88142776)\n",
      " ('TP_z15_01_1', 35., 45., 0.5, 0.7, 0.7, 1.7,    0.        , 4.99781084, 4.990623  )\n",
      " ('TP_z15_01_1', 35., 35., 0.5, 0.7, 0.7, 1.7,   83.69319916, 4.83316994, 4.84306145)\n",
      " ('TP_z15_01_1', 35., 35., 0.5, 0.7, 0.7, 1.7,  173.82609558, 4.79160786, 4.80370569)\n",
      " ('TP_z15_01_1', 35., 35., 0.5, 0.7, 0.7, 1.7,  257.15899658, 4.77729368, 4.78968382)\n",
      " ('TP_z15_01_1', 35., 35., 0.5, 0.7, 0.7, 1.7,  423.82440186, 4.74036694, 4.75273132)\n",
      " ('TP_z15_01_1', 35., 35., 0.5, 0.7, 0.7, 1.7,  590.66748047, 4.71775198, 4.72906065)\n",
      " ('TP_z15_01_1', 35., 35., 0.5, 0.7, 0.7, 1.7,  757.17980957, 4.69050789, 4.69668198)\n",
      " ('TP_z15_01_1', 35., 35., 0.5, 0.7, 0.7, 1.7, 1090.49951172, 4.64035559, 4.64242554)\n",
      " ('TP_z15_01_1', 35., 35., 0.5, 0.7, 0.7, 1.7, 1423.9041748 , 4.59726334, 4.59656715)\n",
      " ('TP_z15_01_1', 35., 35., 0.5, 0.7, 0.7, 1.7, 1756.92700195, 4.55015898, 4.54288387)\n",
      " ('TP_z15_01_1', 35., 35., 0.5, 0.7, 0.7, 1.7, 2089.99658203, 4.52723074, 4.50253773)\n",
      " ('TP_z15_01_1', 35., 35., 0.5, 0.7, 0.7, 1.7, 2423.04760742, 4.47810602, 4.45727825)\n",
      " ('TP_z15_01_1', 35., 10., 0.5, 0.7, 0.7, 1.7, 2756.31323242, 4.4854784 , 4.36099195)\n",
      " ('TP_z15_01_1', 35., 23., 0.5, 0.7, 0.7, 1.7, 2756.31323242, 4.387784  , 4.39221334)\n",
      " ('TP_z15_01_1', 35., 45., 0.5, 0.7, 0.7, 1.7, 2756.31323242, 4.47699308, 4.47905922)]\n",
      "Outlier 8\n",
      "('TP_z25_01_1', 45., 45., 0.15, 0.6, 0.9, 1.9, 0., 3.1701932, 4.58019972)\n",
      "1816\n",
      "[('TP_z25_01_1', 45., 10., 0.15, 0.6, 0.9, 1.9,    0.        , 4.79989481, 4.83689833)\n",
      " ('TP_z25_01_1', 45., 23., 0.15, 0.6, 0.9, 1.9,    0.        , 4.87218809, 4.88796568)\n",
      " ('TP_z25_01_1', 45., 45., 0.15, 0.6, 0.9, 1.9,    0.        , 3.1701932 , 4.58019972)\n",
      " ('TP_z25_01_1', 45., 45., 0.15, 0.6, 0.9, 1.9,   79.13929749, 4.81362724, 4.83629704)\n",
      " ('TP_z25_01_1', 45., 45., 0.15, 0.6, 0.9, 1.9,  183.49508667, 4.69922781, 4.68336487)\n",
      " ('TP_z25_01_1', 45., 45., 0.15, 0.6, 0.9, 1.9,  286.00119019, 4.64841366, 4.67364883)\n",
      " ('TP_z25_01_1', 45., 45., 0.15, 0.6, 0.9, 1.9,  491.25390625, 4.56476831, 4.58315849)\n",
      " ('TP_z25_01_1', 45., 45., 0.15, 0.6, 0.9, 1.9,  696.32110596, 4.51090717, 4.52136278)\n",
      " ('TP_z25_01_1', 45., 45., 0.15, 0.6, 0.9, 1.9,  901.42687988, 4.46775436, 4.47189426)\n",
      " ('TP_z25_01_1', 45., 45., 0.15, 0.6, 0.9, 1.9, 1311.40026855, 4.38356733, 4.38655758)\n",
      " ('TP_z25_01_1', 45., 45., 0.15, 0.6, 0.9, 1.9, 1626.9987793 , 4.34072161, 4.33684921)\n",
      " ('TP_z25_01_1', 45., 45., 0.15, 0.6, 0.9, 1.9, 2036.93408203, 4.26434946, 4.25490999)\n",
      " ('TP_z25_01_1', 45., 45., 0.15, 0.6, 0.9, 1.9, 2446.9699707 , 4.18853998, 4.17821312)\n",
      " ('TP_z25_01_1', 45., 45., 0.15, 0.6, 0.9, 1.9, 2856.98144531, 4.1325922 , 4.11843252)\n",
      " ('TP_z25_01_1', 45., 45., 0.15, 0.6, 0.9, 1.9, 3266.89379883, 4.05933189, 4.04219055)\n",
      " ('TP_z25_01_1', 45., 45., 0.15, 0.6, 0.9, 1.9, 3676.83105469, 4.64627266, 4.05190563)\n",
      " ('TP_z25_01_1', 45., 45., 0.15, 0.6, 0.9, 1.9, 4086.80688477, 3.80251193, 3.77241707)\n",
      " ('TP_z25_01_1', 45., 10., 0.15, 0.6, 0.9, 1.9, 4496.72900391, 5.37497091, 3.8775301 )\n",
      " ('TP_z25_01_1', 45., 23., 0.15, 0.6, 0.9, 1.9, 4496.72900391, 3.86155891, 3.88056493)\n",
      " ('TP_z25_01_1', 45., 45., 0.15, 0.6, 0.9, 1.9, 4496.72900391, 4.0015769 , 4.03615904)]\n",
      "Outlier 9\n",
      "('TP_z25_01_1', 45., 45., 0.15, 0.6, 0.9, 1.9, 3676.83105469, 4.64627266, 4.05190563)\n",
      "1829\n",
      "[('TP_z25_01_1', 45., 10., 0.15, 0.6, 0.9, 1.9,    0.        , 4.79989481, 4.83689833)\n",
      " ('TP_z25_01_1', 45., 23., 0.15, 0.6, 0.9, 1.9,    0.        , 4.87218809, 4.88796568)\n",
      " ('TP_z25_01_1', 45., 45., 0.15, 0.6, 0.9, 1.9,    0.        , 3.1701932 , 4.58019972)\n",
      " ('TP_z25_01_1', 45., 45., 0.15, 0.6, 0.9, 1.9,   79.13929749, 4.81362724, 4.83629704)\n",
      " ('TP_z25_01_1', 45., 45., 0.15, 0.6, 0.9, 1.9,  183.49508667, 4.69922781, 4.68336487)\n",
      " ('TP_z25_01_1', 45., 45., 0.15, 0.6, 0.9, 1.9,  286.00119019, 4.64841366, 4.67364883)\n",
      " ('TP_z25_01_1', 45., 45., 0.15, 0.6, 0.9, 1.9,  491.25390625, 4.56476831, 4.58315849)\n",
      " ('TP_z25_01_1', 45., 45., 0.15, 0.6, 0.9, 1.9,  696.32110596, 4.51090717, 4.52136278)\n",
      " ('TP_z25_01_1', 45., 45., 0.15, 0.6, 0.9, 1.9,  901.42687988, 4.46775436, 4.47189426)\n",
      " ('TP_z25_01_1', 45., 45., 0.15, 0.6, 0.9, 1.9, 1311.40026855, 4.38356733, 4.38655758)\n",
      " ('TP_z25_01_1', 45., 45., 0.15, 0.6, 0.9, 1.9, 1626.9987793 , 4.34072161, 4.33684921)\n",
      " ('TP_z25_01_1', 45., 45., 0.15, 0.6, 0.9, 1.9, 2036.93408203, 4.26434946, 4.25490999)\n",
      " ('TP_z25_01_1', 45., 45., 0.15, 0.6, 0.9, 1.9, 2446.9699707 , 4.18853998, 4.17821312)\n",
      " ('TP_z25_01_1', 45., 45., 0.15, 0.6, 0.9, 1.9, 2856.98144531, 4.1325922 , 4.11843252)\n",
      " ('TP_z25_01_1', 45., 45., 0.15, 0.6, 0.9, 1.9, 3266.89379883, 4.05933189, 4.04219055)\n",
      " ('TP_z25_01_1', 45., 45., 0.15, 0.6, 0.9, 1.9, 3676.83105469, 4.64627266, 4.05190563)\n",
      " ('TP_z25_01_1', 45., 45., 0.15, 0.6, 0.9, 1.9, 4086.80688477, 3.80251193, 3.77241707)\n",
      " ('TP_z25_01_1', 45., 10., 0.15, 0.6, 0.9, 1.9, 4496.72900391, 5.37497091, 3.8775301 )\n",
      " ('TP_z25_01_1', 45., 23., 0.15, 0.6, 0.9, 1.9, 4496.72900391, 3.86155891, 3.88056493)\n",
      " ('TP_z25_01_1', 45., 45., 0.15, 0.6, 0.9, 1.9, 4496.72900391, 4.0015769 , 4.03615904)]\n"
     ]
    }
   ],
   "source": [
    "for i, row in enumerate(outlier_rows):\n",
    "    print(f\"Outlier {i}\")\n",
    "    print(row)\n",
    "    print(np.argwhere(X == row)[0, 0])\n",
    "    print(X[X['uid'] == row['uid']])"
   ]
  },
  {
   "cell_type": "code",
   "execution_count": 48,
   "id": "22d3a2f3-3d76-4a2f-aca3-acfe2162ca39",
   "metadata": {},
   "outputs": [],
   "source": [
    "obvious_outliers = np.array([\n",
    "    (\"TP_z25_01_1\", 10, 4497),\n",
    "    (\"TP_z25_01_1\", 45, 0),\n",
    "    (\"TP_z25_01_1\", 45, 3677),\n",
    "])\n",
    "\n"
   ]
  },
  {
   "cell_type": "code",
   "execution_count": 51,
   "id": "a0258649-df26-46ea-acce-e7b702e49d3b",
   "metadata": {},
   "outputs": [
    {
     "name": "stdout",
     "output_type": "stream",
     "text": [
      "Help on function isclose in module numpy:\n",
      "\n",
      "isclose(a, b, rtol=1e-05, atol=1e-08, equal_nan=False)\n",
      "    Returns a boolean array where two arrays are element-wise equal within a\n",
      "    tolerance.\n",
      "    \n",
      "    The tolerance values are positive, typically very small numbers.  The\n",
      "    relative difference (`rtol` * abs(`b`)) and the absolute difference\n",
      "    `atol` are added together to compare against the absolute difference\n",
      "    between `a` and `b`.\n",
      "    \n",
      "    .. warning:: The default `atol` is not appropriate for comparing numbers\n",
      "                 that are much smaller than one (see Notes).\n",
      "    \n",
      "    Parameters\n",
      "    ----------\n",
      "    a, b : array_like\n",
      "        Input arrays to compare.\n",
      "    rtol : float\n",
      "        The relative tolerance parameter (see Notes).\n",
      "    atol : float\n",
      "        The absolute tolerance parameter (see Notes).\n",
      "    equal_nan : bool\n",
      "        Whether to compare NaN's as equal.  If True, NaN's in `a` will be\n",
      "        considered equal to NaN's in `b` in the output array.\n",
      "    \n",
      "    Returns\n",
      "    -------\n",
      "    y : array_like\n",
      "        Returns a boolean array of where `a` and `b` are equal within the\n",
      "        given tolerance. If both `a` and `b` are scalars, returns a single\n",
      "        boolean value.\n",
      "    \n",
      "    See Also\n",
      "    --------\n",
      "    allclose\n",
      "    math.isclose\n",
      "    \n",
      "    Notes\n",
      "    -----\n",
      "    .. versionadded:: 1.7.0\n",
      "    \n",
      "    For finite values, isclose uses the following equation to test whether\n",
      "    two floating point values are equivalent.\n",
      "    \n",
      "     absolute(`a` - `b`) <= (`atol` + `rtol` * absolute(`b`))\n",
      "    \n",
      "    Unlike the built-in `math.isclose`, the above equation is not symmetric\n",
      "    in `a` and `b` -- it assumes `b` is the reference value -- so that\n",
      "    `isclose(a, b)` might be different from `isclose(b, a)`. Furthermore,\n",
      "    the default value of atol is not zero, and is used to determine what\n",
      "    small values should be considered close to zero. The default value is\n",
      "    appropriate for expected values of order unity: if the expected values\n",
      "    are significantly smaller than one, it can result in false positives.\n",
      "    `atol` should be carefully selected for the use case at hand. A zero value\n",
      "    for `atol` will result in `False` if either `a` or `b` is zero.\n",
      "    \n",
      "    `isclose` is not defined for non-numeric data types.\n",
      "    `bool` is considered a numeric data-type for this purpose.\n",
      "    \n",
      "    Examples\n",
      "    --------\n",
      "    >>> np.isclose([1e10,1e-7], [1.00001e10,1e-8])\n",
      "    array([ True, False])\n",
      "    >>> np.isclose([1e10,1e-8], [1.00001e10,1e-9])\n",
      "    array([ True, True])\n",
      "    >>> np.isclose([1e10,1e-8], [1.0001e10,1e-9])\n",
      "    array([False,  True])\n",
      "    >>> np.isclose([1.0, np.nan], [1.0, np.nan])\n",
      "    array([ True, False])\n",
      "    >>> np.isclose([1.0, np.nan], [1.0, np.nan], equal_nan=True)\n",
      "    array([ True, True])\n",
      "    >>> np.isclose([1e-8, 1e-7], [0.0, 0.0])\n",
      "    array([ True, False])\n",
      "    >>> np.isclose([1e-100, 1e-7], [0.0, 0.0], atol=0.0)\n",
      "    array([False, False])\n",
      "    >>> np.isclose([1e-10, 1e-10], [1e-20, 0.0])\n",
      "    array([ True,  True])\n",
      "    >>> np.isclose([1e-10, 1e-10], [1e-20, 0.999999e-10], atol=0.0)\n",
      "    array([False,  True])\n",
      "\n"
     ]
    }
   ],
   "source": [
    "help(np.isclose)"
   ]
  },
  {
   "cell_type": "code",
   "execution_count": 65,
   "id": "fd2379de-0450-4dfd-8d6f-e6b478c4226d",
   "metadata": {},
   "outputs": [
    {
     "name": "stdout",
     "output_type": "stream",
     "text": [
      "4497\n",
      "1\n",
      "0\n",
      "1\n",
      "3677\n",
      "1\n"
     ]
    }
   ],
   "source": [
    "outlier_filter = np.ones(X.shape, dtype=bool)\n",
    "for uid, T_m, n_F in obvious_outliers:\n",
    "    print(n_F)\n",
    "    match = (\n",
    "        X['uid'] == uid) & (\n",
    "        np.isclose(X[\"T_m\"], float(T_m))) & (\n",
    "        np.isclose(X['k'], float(n_F), atol=1))\n",
    "    print(np.sum(match))\n",
    "    outlier_filter &= ~match\n",
    "                                                                        "
   ]
  },
  {
   "cell_type": "code",
   "execution_count": 59,
   "id": "07ec9a31-0db2-4ef7-8b8e-4e88c945f2ae",
   "metadata": {},
   "outputs": [
    {
     "data": {
      "text/plain": [
       "3"
      ]
     },
     "execution_count": 59,
     "metadata": {},
     "output_type": "execute_result"
    }
   ],
   "source": [
    "np.sum(np.isclose(X[\"k\"], 4497, atol=1))"
   ]
  },
  {
   "cell_type": "code",
   "execution_count": 66,
   "id": "015df87a-98dc-41b4-83d8-f3622a2103d7",
   "metadata": {},
   "outputs": [
    {
     "data": {
      "text/plain": [
       "(1874,)"
      ]
     },
     "execution_count": 66,
     "metadata": {},
     "output_type": "execute_result"
    }
   ],
   "source": [
    "X.shape"
   ]
  },
  {
   "cell_type": "code",
   "execution_count": 67,
   "id": "add4d4be-66ce-46cb-bf2c-9c5cdc1cab6e",
   "metadata": {},
   "outputs": [
    {
     "data": {
      "text/plain": [
       "1871"
      ]
     },
     "execution_count": 67,
     "metadata": {},
     "output_type": "execute_result"
    }
   ],
   "source": [
    "np.sum(outlier_filter)"
   ]
  },
  {
   "cell_type": "code",
   "execution_count": 68,
   "id": "b716f35c-c437-4263-bad8-e9aaf464f580",
   "metadata": {},
   "outputs": [],
   "source": [
    "X_filt = X[outlier_filter]"
   ]
  },
  {
   "cell_type": "code",
   "execution_count": 69,
   "id": "395e2674-75ab-4fa6-ad2e-9f2ba6d65ede",
   "metadata": {},
   "outputs": [
    {
     "name": "stdout",
     "output_type": "stream",
     "text": [
      "Help on function savez in module numpy:\n",
      "\n",
      "savez(file, *args, **kwds)\n",
      "    Save several arrays into a single file in uncompressed ``.npz`` format.\n",
      "    \n",
      "    Provide arrays as keyword arguments to store them under the\n",
      "    corresponding name in the output file: ``savez(fn, x=x, y=y)``.\n",
      "    \n",
      "    If arrays are specified as positional arguments, i.e., ``savez(fn,\n",
      "    x, y)``, their names will be `arr_0`, `arr_1`, etc.\n",
      "    \n",
      "    Parameters\n",
      "    ----------\n",
      "    file : str or file\n",
      "        Either the filename (string) or an open file (file-like object)\n",
      "        where the data will be saved. If file is a string or a Path, the\n",
      "        ``.npz`` extension will be appended to the filename if it is not\n",
      "        already there.\n",
      "    args : Arguments, optional\n",
      "        Arrays to save to the file. Please use keyword arguments (see\n",
      "        `kwds` below) to assign names to arrays.  Arrays specified as\n",
      "        args will be named \"arr_0\", \"arr_1\", and so on.\n",
      "    kwds : Keyword arguments, optional\n",
      "        Arrays to save to the file. Each array will be saved to the\n",
      "        output file with its corresponding keyword name.\n",
      "    \n",
      "    Returns\n",
      "    -------\n",
      "    None\n",
      "    \n",
      "    See Also\n",
      "    --------\n",
      "    save : Save a single array to a binary file in NumPy format.\n",
      "    savetxt : Save an array to a file as plain text.\n",
      "    savez_compressed : Save several arrays into a compressed ``.npz`` archive\n",
      "    \n",
      "    Notes\n",
      "    -----\n",
      "    The ``.npz`` file format is a zipped archive of files named after the\n",
      "    variables they contain.  The archive is not compressed and each file\n",
      "    in the archive contains one variable in ``.npy`` format. For a\n",
      "    description of the ``.npy`` format, see :py:mod:`numpy.lib.format`.\n",
      "    \n",
      "    When opening the saved ``.npz`` file with `load` a `NpzFile` object is\n",
      "    returned. This is a dictionary-like object which can be queried for\n",
      "    its list of arrays (with the ``.files`` attribute), and for the arrays\n",
      "    themselves.\n",
      "    \n",
      "    Keys passed in `kwds` are used as filenames inside the ZIP archive.\n",
      "    Therefore, keys should be valid filenames; e.g., avoid keys that begin with\n",
      "    ``/`` or contain ``.``.\n",
      "    \n",
      "    When naming variables with keyword arguments, it is not possible to name a\n",
      "    variable ``file``, as this would cause the ``file`` argument to be defined\n",
      "    twice in the call to ``savez``.\n",
      "    \n",
      "    Examples\n",
      "    --------\n",
      "    >>> from tempfile import TemporaryFile\n",
      "    >>> outfile = TemporaryFile()\n",
      "    >>> x = np.arange(10)\n",
      "    >>> y = np.sin(x)\n",
      "    \n",
      "    Using `savez` with \\*args, the arrays are saved with default names.\n",
      "    \n",
      "    >>> np.savez(outfile, x, y)\n",
      "    >>> _ = outfile.seek(0) # Only needed here to simulate closing & reopening file\n",
      "    >>> npzfile = np.load(outfile)\n",
      "    >>> npzfile.files\n",
      "    ['arr_0', 'arr_1']\n",
      "    >>> npzfile['arr_0']\n",
      "    array([0, 1, 2, 3, 4, 5, 6, 7, 8, 9])\n",
      "    \n",
      "    Using `savez` with \\**kwds, the arrays are saved with the keyword names.\n",
      "    \n",
      "    >>> outfile = TemporaryFile()\n",
      "    >>> np.savez(outfile, x=x, y=y)\n",
      "    >>> _ = outfile.seek(0)\n",
      "    >>> npzfile = np.load(outfile)\n",
      "    >>> sorted(npzfile.files)\n",
      "    ['x', 'y']\n",
      "    >>> npzfile['x']\n",
      "    array([0, 1, 2, 3, 4, 5, 6, 7, 8, 9])\n",
      "\n"
     ]
    }
   ],
   "source": [
    "help(np.savez)"
   ]
  },
  {
   "cell_type": "code",
   "execution_count": 70,
   "id": "c301d7f5-bfa7-48de-8342-c56ab6523568",
   "metadata": {},
   "outputs": [],
   "source": [
    "np.savez(DATA_DIR / \"cleaned_data.npz\", x=X_filt)"
   ]
  }
 ],
 "metadata": {
  "kernelspec": {
   "display_name": "Python 3 (ipykernel)",
   "language": "python",
   "name": "python3"
  },
  "language_info": {
   "codemirror_mode": {
    "name": "ipython",
    "version": 3
   },
   "file_extension": ".py",
   "mimetype": "text/x-python",
   "name": "python",
   "nbconvert_exporter": "python",
   "pygments_lexer": "ipython3",
   "version": "3.8.10"
  }
 },
 "nbformat": 4,
 "nbformat_minor": 5
}
