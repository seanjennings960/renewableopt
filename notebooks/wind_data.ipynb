{
 "cells": [
  {
   "cell_type": "code",
   "execution_count": 1,
   "id": "9bcc691f-c3cf-4a24-8b5f-c78cd10362b4",
   "metadata": {},
   "outputs": [],
   "source": [
    "import numpy as np\n",
    "import matplotlib.pyplot as plt\n",
    "from pathlib import Path\n",
    "from renewableopt.data import DATASET_DIR\n",
    "from renewableopt.peak_id import assert_int"
   ]
  },
  {
   "cell_type": "code",
   "execution_count": 2,
   "id": "875e6b74",
   "metadata": {},
   "outputs": [],
   "source": [
    "filename = DATASET_DIR / 'wind_data' / 'wind.csv'"
   ]
  },
  {
   "cell_type": "code",
   "execution_count": 3,
   "id": "f7cd12de",
   "metadata": {},
   "outputs": [],
   "source": [
    "wind_power = np.loadtxt(filename, delimiter=\",\", skiprows=1)\n",
    "wind_power_with_time = np.loadtxt(DATASET_DIR / 'wind_data' / 'wind_with_time.csv', delimiter=\",\", skiprows=1)"
   ]
  },
  {
   "cell_type": "code",
   "execution_count": 4,
   "id": "6a076811",
   "metadata": {},
   "outputs": [],
   "source": [
    "dt = 30  # min\n",
    "min_per_day = 60 * 24\n",
    "num_days = assert_int(len(wind_power) * dt / min_per_day)"
   ]
  },
  {
   "cell_type": "code",
   "execution_count": 5,
   "id": "c5804c7e",
   "metadata": {},
   "outputs": [
    {
     "data": {
      "text/plain": [
       "48"
      ]
     },
     "execution_count": 5,
     "metadata": {},
     "output_type": "execute_result"
    }
   ],
   "source": [
    "assert_int(min_per_day / dt)"
   ]
  },
  {
   "cell_type": "code",
   "execution_count": 6,
   "id": "c40ecdf0",
   "metadata": {},
   "outputs": [],
   "source": [
    "def to_datetime(row):\n",
    "    return np.datetime64(\n",
    "        f\"{row[0]:4.0f}-{row[1]:0>2.0f}-{row[2]:0>2.0f}T{row[3]:0>2.0f}:{row[4]:0>2.0f}\"\n",
    "    )"
   ]
  },
  {
   "cell_type": "code",
   "execution_count": 7,
   "id": "e11ea2c4",
   "metadata": {},
   "outputs": [],
   "source": [
    "times = np.array([to_datetime(row) for row in wind_power_with_time])"
   ]
  },
  {
   "cell_type": "code",
   "execution_count": 8,
   "id": "b3a15001",
   "metadata": {},
   "outputs": [],
   "source": [
    "def insert_feb_29(times, wind_power):\n",
    "    missing = np.where(np.diff(times) != np.timedelta64(30))\n",
    "    times_by_day = times.reshape(num_days, -1)\n",
    "    wind_power_by_day = wind_power.reshape(num_days, -1)\n",
    "    feb_28_ind = np.argwhere(times_by_day == times[missing])[0, 0]\n",
    "    \n",
    "    # Copy feb 28 data to feb 29\n",
    "    new_times = np.insert(times_by_day, feb_28_ind + 1,\n",
    "              times_by_day[feb_28_ind] + np.timedelta64(24, 'h'), axis=0)\n",
    "    new_wind_power = np.insert(wind_power_by_day, feb_28_ind + 1,\n",
    "                               wind_power_by_day[feb_28_ind], axis=0)\n",
    "    return new_times.flatten(), new_wind_power.flatten()\n",
    "    "
   ]
  },
  {
   "cell_type": "code",
   "execution_count": 9,
   "id": "419cc944",
   "metadata": {},
   "outputs": [],
   "source": [
    "\n",
    "times, wind_power = insert_feb_29(times, wind_power)"
   ]
  },
  {
   "cell_type": "code",
   "execution_count": 10,
   "id": "e56b46a2",
   "metadata": {},
   "outputs": [],
   "source": [
    "assert np.all(np.diff(times) == np.timedelta64(30))"
   ]
  },
  {
   "cell_type": "code",
   "execution_count": 11,
   "id": "10dcf2f2",
   "metadata": {},
   "outputs": [],
   "source": [
    "# Cap wind power output per turbine at rated power\n",
    "P_rated = 2.3\n",
    "wind_power = np.clip(wind_power, None, P_rated)\n",
    "# Normalize by rated power so that data is \"per unit\": MW (active) per MW (installed)\n",
    "# rather than per installed turbine\n",
    "wind_pu = wind_power / P_rated"
   ]
  },
  {
   "cell_type": "code",
   "execution_count": 12,
   "id": "56129ba4",
   "metadata": {},
   "outputs": [
    {
     "data": {
      "text/plain": [
       "array([2.3       , 2.3       , 2.21276809, ..., 2.3       , 2.3       ,\n",
       "       2.3       ])"
      ]
     },
     "execution_count": 12,
     "metadata": {},
     "output_type": "execute_result"
    }
   ],
   "source": [
    "wind_pu * P_rated"
   ]
  },
  {
   "cell_type": "code",
   "execution_count": 13,
   "id": "eb917354",
   "metadata": {},
   "outputs": [],
   "source": [
    "time_min = (times - times[0]).astype('timedelta64[m]').astype(float)"
   ]
  },
  {
   "cell_type": "code",
   "execution_count": null,
   "id": "ca504b08",
   "metadata": {},
   "outputs": [],
   "source": []
  },
  {
   "cell_type": "code",
   "execution_count": 15,
   "id": "3eeff087",
   "metadata": {},
   "outputs": [],
   "source": [
    "np.savez_compressed(DATASET_DIR / 'wind_data' / \"wind_corrected.npz\", time_min=time_min, wind_pu=wind_pu)"
   ]
  },
  {
   "cell_type": "code",
   "execution_count": null,
   "id": "8791fa8d",
   "metadata": {},
   "outputs": [],
   "source": [
    "print(times_by_day[feb_28_ind, 0])\n",
    "print(times_by_day[feb_28_ind + 1, 0])"
   ]
  },
  {
   "cell_type": "code",
   "execution_count": null,
   "id": "218596c8",
   "metadata": {},
   "outputs": [],
   "source": [
    "times_by_day[feb_28_ind, 0] + np.timedelta64(24, 'h')"
   ]
  },
  {
   "cell_type": "code",
   "execution_count": null,
   "id": "e20530eb",
   "metadata": {},
   "outputs": [],
   "source": []
  },
  {
   "cell_type": "code",
   "execution_count": null,
   "id": "dedf3f14",
   "metadata": {},
   "outputs": [],
   "source": [
    "np.savez_compressed()"
   ]
  },
  {
   "cell_type": "code",
   "execution_count": null,
   "id": "e4e8d668",
   "metadata": {},
   "outputs": [],
   "source": [
    "times_by_day[feb_28_ind] + np.timedelta64(24, 'h')"
   ]
  },
  {
   "cell_type": "code",
   "execution_count": null,
   "id": "951dfc12",
   "metadata": {},
   "outputs": [],
   "source": [
    "new_times_by_day[feb_28_ind][0]"
   ]
  },
  {
   "cell_type": "code",
   "execution_count": null,
   "id": "6ea7f659",
   "metadata": {},
   "outputs": [],
   "source": [
    "new_times_by_day[feb_28_ind + 1][0]"
   ]
  },
  {
   "cell_type": "code",
   "execution_count": null,
   "id": "7d511882",
   "metadata": {},
   "outputs": [],
   "source": [
    "new_times = new_times_by_day.flatten()\n",
    "assert np.all(np.diff(new_times) == np.timedelta64(30))"
   ]
  },
  {
   "cell_type": "code",
   "execution_count": null,
   "id": "b01aa3c8",
   "metadata": {},
   "outputs": [],
   "source": [
    "np.max(np.diff(new_times))"
   ]
  },
  {
   "cell_type": "code",
   "execution_count": null,
   "id": "71a29d52",
   "metadata": {},
   "outputs": [],
   "source": [
    "plt.plot(np.diff(new_times))"
   ]
  },
  {
   "cell_type": "code",
   "execution_count": null,
   "id": "11e7c017",
   "metadata": {},
   "outputs": [],
   "source": [
    "plt.plot(np.diff(new_times_by_day))"
   ]
  },
  {
   "cell_type": "code",
   "execution_count": null,
   "id": "37de522a",
   "metadata": {},
   "outputs": [],
   "source": [
    "new_times_by_day.shape"
   ]
  },
  {
   "cell_type": "code",
   "execution_count": null,
   "id": "31f1fd54",
   "metadata": {},
   "outputs": [],
   "source": [
    "np.max(np.diff(new_times))"
   ]
  },
  {
   "cell_type": "code",
   "execution_count": null,
   "id": "51d2ea3a",
   "metadata": {},
   "outputs": [],
   "source": [
    "times_by_day"
   ]
  },
  {
   "cell_type": "code",
   "execution_count": null,
   "id": "0dfa58a6",
   "metadata": {},
   "outputs": [],
   "source": [
    "times[missing[0] + 1]"
   ]
  },
  {
   "cell_type": "code",
   "execution_count": null,
   "id": "2ae9d0d3",
   "metadata": {},
   "outputs": [],
   "source": [
    "from renewableopt.peak_id import timedelta"
   ]
  },
  {
   "cell_type": "code",
   "execution_count": null,
   "id": "0fde26c2",
   "metadata": {},
   "outputs": [],
   "source": [
    "timedelta(times)"
   ]
  },
  {
   "cell_type": "code",
   "execution_count": null,
   "id": "ba1813c9",
   "metadata": {},
   "outputs": [],
   "source": [
    "f\"{wind_power_with_time[0, 1]:0>2.0f}\""
   ]
  },
  {
   "cell_type": "code",
   "execution_count": null,
   "id": "8c8c20d6",
   "metadata": {},
   "outputs": [],
   "source": [
    "to_datetime(wind_power_with_time[2]).astype(\"datetime64[s]\").dtype"
   ]
  },
  {
   "cell_type": "code",
   "execution_count": null,
   "id": "fcfce354",
   "metadata": {},
   "outputs": [],
   "source": [
    "for i, row in enumerate(wind_power_with_time):\n",
    "    times[i] = np.datetime64(\n",
    "        f\"{row[0]:4.0f}-{row[1]:0>2.0f}-{row[2]:0>2.0f}T{row[3]:0>2.0f}:{row[4]:0>2.0f}\"\n",
    "    )"
   ]
  },
  {
   "cell_type": "code",
   "execution_count": null,
   "id": "3dca0098",
   "metadata": {},
   "outputs": [],
   "source": [
    "np.datetime64(\n",
    "    \"2012-01-02T12:30\"\n",
    ")"
   ]
  }
 ],
 "metadata": {
  "kernelspec": {
   "display_name": "Python 3 (ipykernel)",
   "language": "python",
   "name": "python3"
  },
  "language_info": {
   "codemirror_mode": {
    "name": "ipython",
    "version": 3
   },
   "file_extension": ".py",
   "mimetype": "text/x-python",
   "name": "python",
   "nbconvert_exporter": "python",
   "pygments_lexer": "ipython3",
   "version": "3.8.10"
  }
 },
 "nbformat": 4,
 "nbformat_minor": 5
}
