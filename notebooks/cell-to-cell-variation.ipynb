{
 "cells": [
  {
   "cell_type": "code",
   "execution_count": 1,
   "id": "b7d58eb6-ad62-4900-acfa-aeee4b91b8e2",
   "metadata": {},
   "outputs": [],
   "source": [
    "from renewableopt.battery.data_import import DATA_DIR\n",
    "from renewableopt.battery.feature_extraction import CapacityData\n",
    "from renewableopt.battery.gaussian_process import preprocess\n",
    "\n",
    "import pandas as pd\n",
    "import numpy as np\n",
    "import matplotlib.pyplot as plt\n",
    "\n",
    "from sklearn.gaussian_process import GaussianProcessRegressor\n",
    "from sklearn.gaussian_process.kernels import RBF, ConstantKernel, WhiteKernel"
   ]
  },
  {
   "cell_type": "code",
   "execution_count": 2,
   "id": "fe34b1c2-a507-489b-94e0-a7afb139b7c4",
   "metadata": {},
   "outputs": [],
   "source": [
    "def groupby(X, label):\n",
    "    keys, indices = np.unique(X[label], return_inverse=True)\n",
    "    return [X[np.where(indices == k)] for k in range(len(keys))]\n",
    "\n"
   ]
  },
  {
   "cell_type": "code",
   "execution_count": 3,
   "id": "641e1d6a-3242-40ab-b564-fb5981a7c8da",
   "metadata": {},
   "outputs": [],
   "source": [
    "def matching_u(groups):\n",
    "    groups = groups.copy()\n",
    "    out = {}\n",
    "\n",
    "    while groups:\n",
    "        g = groups.pop(0)\n",
    "        uid = g['uid'][0]\n",
    "        uid_start = uid[:7]\n",
    "        stage = uid[-1]\n",
    "        \n",
    "        exp_id = uid_start + stage\n",
    "        out[exp_id] = [g]\n",
    "        to_remove = []\n",
    "        for i, h in enumerate(groups):\n",
    "            h_uid = h['uid'][0]\n",
    "            if h_uid.startswith(uid_start) and h_uid.endswith(stage):\n",
    "                out[exp_id].append(h)\n",
    "                to_remove.append(i)\n",
    "        groups = [h for i, h in enumerate(groups) if i not in to_remove]\n",
    "    return out    \n",
    "    "
   ]
  },
  {
   "cell_type": "code",
   "execution_count": 4,
   "id": "5c31b3cc-8879-42eb-8680-04210f3194e0",
   "metadata": {},
   "outputs": [],
   "source": [
    "def filter_by_exp_temp(X):\n",
    "    T_m = np.unique(X0['T_m'])\n",
    "    counts = [np.sum(X0['T_m'] == T) for T in T_m]\n",
    "    T_selected = T_m[np.argmax(counts)]\n",
    "    return X[X['T_m'] == T_selected]\n",
    "    \n",
    "    "
   ]
  },
  {
   "cell_type": "code",
   "execution_count": 5,
   "id": "efa6cb25-387a-4e5c-b253-200a5e36ecb0",
   "metadata": {},
   "outputs": [],
   "source": [
    "def average_cap(x):\n",
    "    return (x['c_ch'] + x['c_dch']) / 2"
   ]
  },
  {
   "cell_type": "code",
   "execution_count": 6,
   "id": "2981e5fb-74b1-4774-9a33-6ed6a95d4e57",
   "metadata": {},
   "outputs": [],
   "source": [
    "def load_X():\n",
    "    c = CapacityData.load(DATA_DIR / \"aging.npz\")\n",
    "    exp = pd.read_csv(DATA_DIR / \"experiments_meta.csv\")\n",
    "    return preprocess(c, exp)\n",
    "    \n",
    "def load_by_experiment():\n",
    "    X = load_X()    \n",
    "    g = groupby(X, 'uid')\n",
    "    \n",
    "    return matching_u(g)"
   ]
  },
  {
   "cell_type": "code",
   "execution_count": 9,
   "id": "c08f30f0-6ac6-402d-aec7-97842b91d14f",
   "metadata": {},
   "outputs": [],
   "source": [
    "\n",
    "by_exp = load_by_experiment()"
   ]
  },
  {
   "cell_type": "code",
   "execution_count": 10,
   "id": "0accbe9a-9bc2-472c-b3b3-403968ae2475",
   "metadata": {},
   "outputs": [],
   "source": [
    "X = load_X()"
   ]
  },
  {
   "cell_type": "markdown",
   "id": "1c8a819f-1ae7-473b-a85a-0fe6bbf06525",
   "metadata": {},
   "source": [
    "## Gaussian Process Regressor"
   ]
  },
  {
   "cell_type": "code",
   "execution_count": 27,
   "id": "6c1e361a-5c00-4af3-a224-b4a79d946e2b",
   "metadata": {},
   "outputs": [],
   "source": [
    "def fit_simple_gp(X):\n",
    "    # Define the kernel and GP model\n",
    "    kernel = WhiteKernel(0.1, (1e-4, 1e3)) + RBF(10, (1e-3, 1e5))\n",
    "    gp = GaussianProcessRegressor(kernel=kernel,\n",
    "                                  # optimizer=None,\n",
    "                                  n_restarts_optimizer=10,\n",
    "                                  normalize_y=True,\n",
    "                                  alpha=0.005)\n",
    "    \n",
    "    # Train the model\n",
    "    gp.fit(X['k'].reshape(-1, 1), average_cap(X))\n",
    "    print(\"original params:\", np.exp(gp.kernel.theta))\n",
    "    print(\"optimized:\", np.exp(gp.kernel_.theta))\n",
    "    return gp"
   ]
  },
  {
   "cell_type": "code",
   "execution_count": 38,
   "id": "8f9c97a4-b2f6-4d2d-be44-77acb844e5f4",
   "metadata": {},
   "outputs": [
    {
     "data": {
      "text/plain": [
       "dtype([('uid', '<U11'), ('T', '<f8'), ('T_m', '<f8'), ('delta', '<f8'), ('Q', '<f8'), ('gamma_ch', '<f8'), ('gamma_dch', '<f8'), ('k', '<f8'), ('c_ch', '<f8'), ('c_dch', '<f8')])"
      ]
     },
     "execution_count": 38,
     "metadata": {},
     "output_type": "execute_result"
    }
   ],
   "source": [
    "X.dtype"
   ]
  },
  {
   "cell_type": "code",
   "execution_count": 104,
   "id": "0fbf0a6d-45cc-4f8f-b823-c14531c699ee",
   "metadata": {},
   "outputs": [],
   "source": [
    "l = [(1, 2), (3, 4), (5, 6)]"
   ]
  },
  {
   "cell_type": "code",
   "execution_count": 107,
   "id": "bd72b31c-e3b2-4fb3-9861-20d848a8d09d",
   "metadata": {},
   "outputs": [
    {
     "data": {
      "text/plain": [
       "[(1, 3, 5), (2, 4, 6)]"
      ]
     },
     "execution_count": 107,
     "metadata": {},
     "output_type": "execute_result"
    }
   ],
   "source": [
    "list(zip(*l))"
   ]
  },
  {
   "cell_type": "code",
   "execution_count": 135,
   "id": "1dfd81b1-fa50-4a95-b965-5ff785b558d8",
   "metadata": {},
   "outputs": [
    {
     "data": {
      "text/plain": [
       "dtype([('uid', '<U11'), ('T', '<f8'), ('T_m', '<f8'), ('delta', '<f8'), ('Q', '<f8'), ('gamma_ch', '<f8'), ('gamma_dch', '<f8'), ('k', '<f8'), ('c_ch', '<f8'), ('c_dch', '<f8')])"
      ]
     },
     "execution_count": 135,
     "metadata": {},
     "output_type": "execute_result"
    }
   ],
   "source": [
    "X.dtype"
   ]
  },
  {
   "cell_type": "code",
   "execution_count": 136,
   "id": "9f7cdd59-4c4e-4ea0-b60c-3f05802dc0f1",
   "metadata": {},
   "outputs": [
    {
     "data": {
      "text/plain": [
       "(1874,)"
      ]
     },
     "execution_count": 136,
     "metadata": {},
     "output_type": "execute_result"
    }
   ],
   "source": [
    "X[\"gamma_ch\"].shape"
   ]
  },
  {
   "cell_type": "code",
   "execution_count": 148,
   "id": "bca12395-3a8d-4a97-8dad-b5c44742ff42",
   "metadata": {},
   "outputs": [
    {
     "ename": "AxisError",
     "evalue": "axis 1 is out of bounds for array of dimension 1",
     "output_type": "error",
     "traceback": [
      "\u001b[0;31m---------------------------------------------------------------------------\u001b[0m",
      "\u001b[0;31mAxisError\u001b[0m                                 Traceback (most recent call last)",
      "Cell \u001b[0;32mIn[148], line 1\u001b[0m\n\u001b[0;32m----> 1\u001b[0m \u001b[43mnp\u001b[49m\u001b[38;5;241;43m.\u001b[39;49m\u001b[43mconcatenate\u001b[49m\u001b[43m(\u001b[49m\u001b[43m[\u001b[49m\u001b[43mX\u001b[49m\u001b[43m[\u001b[49m\u001b[38;5;124;43m'\u001b[39;49m\u001b[38;5;124;43mgamma_ch\u001b[39;49m\u001b[38;5;124;43m'\u001b[39;49m\u001b[43m]\u001b[49m\u001b[43m,\u001b[49m\u001b[43m \u001b[49m\u001b[43mX\u001b[49m\u001b[43m[\u001b[49m\u001b[38;5;124;43m'\u001b[39;49m\u001b[38;5;124;43mgamma_ch\u001b[39;49m\u001b[38;5;124;43m'\u001b[39;49m\u001b[43m]\u001b[49m\u001b[43m]\u001b[49m\u001b[43m,\u001b[49m\u001b[43m \u001b[49m\u001b[43maxis\u001b[49m\u001b[38;5;241;43m=\u001b[39;49m\u001b[38;5;241;43m1\u001b[39;49m\u001b[43m)\u001b[49m\u001b[38;5;241m.\u001b[39mshape\n",
      "File \u001b[0;32m<__array_function__ internals>:200\u001b[0m, in \u001b[0;36mconcatenate\u001b[0;34m(*args, **kwargs)\u001b[0m\n",
      "\u001b[0;31mAxisError\u001b[0m: axis 1 is out of bounds for array of dimension 1"
     ]
    }
   ],
   "source": [
    "np.concatenate([X['gamma_ch'], X['gamma_ch']], axis=1).shape"
   ]
  },
  {
   "cell_type": "code",
   "execution_count": 188,
   "id": "6e318eb6-f174-42a8-907c-31bc2f5c9e63",
   "metadata": {},
   "outputs": [
    {
     "name": "stdout",
     "output_type": "stream",
     "text": [
      "WhiteKernel(noise_level=0.1) + RBF(length_scale=[0.116, 13.5, 756])\n",
      "[1.00000000e-01 1.16044418e-01 1.34761254e+01 7.55862929e+02]\n"
     ]
    }
   ],
   "source": [
    "print(gp.kernel_)\n",
    "print(np.exp(gp.kernel_.theta))"
   ]
  },
  {
   "cell_type": "code",
   "execution_count": 62,
   "id": "d911f998-2a3d-4754-9ea3-33d9ca5005d1",
   "metadata": {},
   "outputs": [],
   "source": [
    "def fit_full_gp(X):\n",
    "    X = X[~np.isnan(X['k'])]\n",
    "    c = average_cap(X) \n",
    "\n",
    "    keys, initial_guesses, bounds = zip(*[\n",
    "        # (\"Q\"], 0.1),\n",
    "        # (\"delta\"], 0.1),\n",
    "        # (\"gamma_dch\"], 0.5),\n",
    "        (\"gamma_ch\", 0.1, [1e-3, 0.2]),\n",
    "        (\"T\", 10, [5, 25]),\n",
    "        # (\"T_m\", 10,\n",
    "        (\"k\", 1000, [500, 3000])\n",
    "    ])\n",
    "    \n",
    "    features = np.concatenate([X[k].reshape(-1, 1) for k in keys], axis=1)\n",
    "    print(features.shape)\n",
    "    \n",
    "        \n",
    "        \n",
    "    kernel = WhiteKernel(0.1, (1e-4, 0.1)) + RBF(initial_guesses, bounds)\n",
    "    # kernel =  RBF(initial_guesses, (1e-3, 1e5))\n",
    "    gp = GaussianProcessRegressor(kernel=kernel,\n",
    "                                  # optimizer=None,\n",
    "                                  n_restarts_optimizer=1,\n",
    "                                  normalize_y=True,\n",
    "                                  alpha=0.005)\n",
    "\n",
    "    gp.fit(features, c)\n",
    "    gp.keys = keys\n",
    "    return gp"
   ]
  },
  {
   "cell_type": "code",
   "execution_count": 120,
   "id": "b442829f-862f-4d7a-aa21-8534c339fc22",
   "metadata": {},
   "outputs": [
    {
     "data": {
      "text/plain": [
       "<function numpy.nanmax(a, axis=None, out=None, keepdims=<no value>, initial=<no value>, where=<no value>)>"
      ]
     },
     "execution_count": 120,
     "metadata": {},
     "output_type": "execute_result"
    }
   ],
   "source": [
    "np.nanmax"
   ]
  },
  {
   "cell_type": "code",
   "execution_count": 157,
   "id": "149d773a-89d4-413b-a806-68aed91ebdbc",
   "metadata": {},
   "outputs": [
    {
     "name": "stdout",
     "output_type": "stream",
     "text": [
      "(1874, 3)\n",
      "1858\n",
      "(1858, 3)\n"
     ]
    }
   ],
   "source": [
    "X_test = np.c_[X[\"gamma_ch\"], X[\"T\"], X[\"k\"]]\n",
    "print(X_test.shape)\n",
    "to_keep = ~np.any(np.isnan(X_test), axis=1)\n",
    "print(np.sum(to_keep))\n",
    "X_test = X_test[to_remove]\n",
    "print(X_test.shape)\n",
    "y_all = gp.predict(X_test)"
   ]
  },
  {
   "cell_type": "code",
   "execution_count": 159,
   "id": "81a6ef9a-9358-4d8e-af99-2d01c992242a",
   "metadata": {},
   "outputs": [],
   "source": [
    "sigma_c2 = 459 * 1e-6"
   ]
  },
  {
   "cell_type": "code",
   "execution_count": 171,
   "id": "08c510dc-b921-48c8-bce4-200e0554df81",
   "metadata": {},
   "outputs": [
    {
     "data": {
      "text/plain": [
       "array([4.77771844, 4.77771844, 4.77771844, 4.75664759, 4.73690332,\n",
       "       4.7187924 , 4.6878628 , 4.66585124, 4.64999766, 4.62241387])"
      ]
     },
     "execution_count": 171,
     "metadata": {},
     "output_type": "execute_result"
    }
   ],
   "source": [
    "y_all[:10]"
   ]
  },
  {
   "cell_type": "code",
   "execution_count": 172,
   "id": "7f426b26-93f6-4783-85a5-f126920f38cd",
   "metadata": {},
   "outputs": [
    {
     "data": {
      "text/plain": [
       "array([4.69507957, 4.76102972, 4.86043859, 4.75950885, 4.73447967,\n",
       "       4.71610141, 4.68483043, 4.67018843, 4.6527648 , 4.61802649])"
      ]
     },
     "execution_count": 172,
     "metadata": {},
     "output_type": "execute_result"
    }
   ],
   "source": [
    "average_cap(X[to_keep][:10])"
   ]
  },
  {
   "cell_type": "code",
   "execution_count": 213,
   "id": "a3f49102-5d6b-428e-950e-704e54812b5a",
   "metadata": {},
   "outputs": [],
   "source": [
    "err_all = (y_all - average_cap(X[to_keep])) \n",
    "chi2 = np.sum(err_all**2) / sigma_c2"
   ]
  },
  {
   "cell_type": "code",
   "execution_count": 211,
   "id": "9af1d7fb-3a16-4a7d-b194-ad394c3c32d5",
   "metadata": {},
   "outputs": [],
   "source": [
    "s = np.sqrt(sigma_c2)"
   ]
  },
  {
   "cell_type": "code",
   "execution_count": 214,
   "id": "1a98c610-0db7-4786-869b-d9b339e14e71",
   "metadata": {},
   "outputs": [
    {
     "data": {
      "text/plain": [
       "20561.86298767632"
      ]
     },
     "execution_count": 214,
     "metadata": {},
     "output_type": "execute_result"
    }
   ],
   "source": [
    "chi2"
   ]
  },
  {
   "cell_type": "code",
   "execution_count": 183,
   "id": "7e512fbd-8b88-414b-a1a9-6d61845c40f7",
   "metadata": {},
   "outputs": [],
   "source": [
    "from scipy.stats import norm"
   ]
  },
  {
   "cell_type": "code",
   "execution_count": 193,
   "id": "0f119321-33c5-439e-8d50-8d3ae97b25f1",
   "metadata": {},
   "outputs": [
    {
     "data": {
      "text/plain": [
       "1858"
      ]
     },
     "execution_count": 193,
     "metadata": {},
     "output_type": "execute_result"
    }
   ],
   "source": [
    "len(err_all)"
   ]
  },
  {
   "cell_type": "code",
   "execution_count": 216,
   "id": "f1469df2-c458-4e6e-91da-bc026189f951",
   "metadata": {},
   "outputs": [
    {
     "data": {
      "text/plain": [
       "<matplotlib.legend.Legend at 0x7ff88e21a160>"
      ]
     },
     "execution_count": 216,
     "metadata": {},
     "output_type": "execute_result"
    },
    {
     "data": {
      "image/png": "[encoded data removed]",
      "text/plain": [
       "<Figure size 640x480 with 1 Axes>"
      ]
     },
     "metadata": {},
     "output_type": "display_data"
    }
   ],
   "source": [
    "fig = plt.figure()\n",
    "plt.title(f\"Prediction Error Distribution (chi2={chi2:.0f}, N=1858)\")\n",
    "plt.hist(1e3 * err_all, log=True, bins=100, label=\"Prediction errors\")\n",
    "plt.xlabel(\"Error (mAh)\")\n",
    "plt.ylabel(\"# Checkups\")\n",
    "\n",
    "x = np.linspace(-70, 70)\n",
    "# exp_count = len(dc) * norm.pdf(x, 0, 6.2)\n",
    "exp_count = len(err_all) * np.diff(norm.cdf(x, loc=0, scale=1e3*np.sqrt(sigma_c2)))\n",
    "plt.plot(x[:-1], exp_count, c='r', label=\"Expected Distribution (sigma=21.4 mAh)\")\n",
    "plt.legend()"
   ]
  },
  {
   "cell_type": "code",
   "execution_count": 217,
   "id": "5ac697e7-d9c8-4925-b437-862882c84b6f",
   "metadata": {},
   "outputs": [],
   "source": [
    "fig.savefig(image_dir / \"error_dist.png\")"
   ]
  },
  {
   "cell_type": "code",
   "execution_count": 202,
   "id": "ba40c84e-25f2-42a8-a618-87af13bd3e1b",
   "metadata": {},
   "outputs": [
    {
     "data": {
      "text/plain": [
       "1855.9827543844851"
      ]
     },
     "execution_count": 202,
     "metadata": {},
     "output_type": "execute_result"
    }
   ],
   "source": [
    "np.sum(exp_count)"
   ]
  },
  {
   "cell_type": "code",
   "execution_count": 164,
   "id": "0acbc677-b39d-4613-8387-06c57dadf27b",
   "metadata": {},
   "outputs": [
    {
     "name": "stdout",
     "output_type": "stream",
     "text": [
      "20561.862987676315\n"
     ]
    }
   ],
   "source": [
    "print(chi2)"
   ]
  },
  {
   "cell_type": "code",
   "execution_count": null,
   "id": "50389193-af86-4179-b290-7301fce154af",
   "metadata": {},
   "outputs": [],
   "source": []
  },
  {
   "cell_type": "code",
   "execution_count": 165,
   "id": "bbe73ef1-cbf4-44db-9eeb-1fb53bc9b8bd",
   "metadata": {},
   "outputs": [
    {
     "data": {
      "text/plain": [
       "1858"
      ]
     },
     "execution_count": 165,
     "metadata": {},
     "output_type": "execute_result"
    }
   ],
   "source": [
    "len(y_all)"
   ]
  },
  {
   "cell_type": "code",
   "execution_count": 142,
   "id": "4a067a31-7861-46bd-ad8d-b1ac025ecfbf",
   "metadata": {},
   "outputs": [],
   "source": [
    "def plot_cap_curve(grouped, gp=None):\n",
    "    grouped_arr = np.c_[grouped]\n",
    "    u = grouped[0][0]\n",
    "\n",
    "    if gp is not None:\n",
    "        # Compute predictions from GP\n",
    "        n_points = 100\n",
    "        # Assume that all groups are the same control params.\n",
    "        row = grouped[0][0]\n",
    "        print(row)\n",
    "        X_test = np.concatenate([\n",
    "            *[np.full((n_points, 1), row[k]) for k in gp.keys if k != 'k'],\n",
    "            np.linspace(0, np.nanmax(grouped_arr['k']), 100).reshape(-1, 1)\n",
    "        ], axis=1)\n",
    "        mu, sigma = gp.predict(X_test, return_std=True)\n",
    "        # mean_k = X_test.reshape(-1)\n",
    "        mean_k = X_test[:, -1]\n",
    "\n",
    "    else:\n",
    "        # Compute mean and std over groups -- the old-fashioned way\n",
    "        mean_k = np.mean(grouped_arr['k'], axis=0)\n",
    "        c = average_cap(grouped_arr)\n",
    "        mu = np.mean(c, axis=0)\n",
    "        sigma = np.std(c, axis=0, ddof=1)\n",
    "    \n",
    "    fig = plt.figure()\n",
    "    \n",
    "    plt.plot(mean_k, mu)\n",
    "    plt.fill_between(mean_k, mu-2*sigma, mu + 2*sigma, alpha=0.4)\n",
    "    plt.xlabel(\"# Full Equivalent Cycles\")\n",
    "    plt.ylabel(\"Capacity (Ah)\")\n",
    "    plt.title(f\"GPR result for conditions {u['uid']} (Δ={u['delta']}, γc={u['gamma_ch']}, γd={u['gamma_dch']}, T={u['T']}, Q={u['Q']})\")\n",
    "               \n",
    "    \n",
    "    for g in grouped:\n",
    "        c = average_cap(g)\n",
    "        plt.plot(g['k'], c, 'o')\n",
    "    return fig"
   ]
  },
  {
   "cell_type": "code",
   "execution_count": 122,
   "id": "b0a841c7-4649-4a4f-96ee-b0fbb46c6f17",
   "metadata": {},
   "outputs": [
    {
     "name": "stdout",
     "output_type": "stream",
     "text": [
      "(1858, 3)\n"
     ]
    },
    {
     "name": "stderr",
     "output_type": "stream",
     "text": [
      "/home/sean/code/renewableopt/.hatch/jupyter/lib/python3.8/site-packages/sklearn/gaussian_process/kernels.py:429: ConvergenceWarning: The optimal value found for dimension 0 of parameter k1__noise_level is close to the specified upper bound 0.1. Increasing the bound and calling fit again may find a better value.\n",
      "  warnings.warn(\n"
     ]
    }
   ],
   "source": [
    "gp = fit_full_gp(X)"
   ]
  },
  {
   "cell_type": "code",
   "execution_count": 157,
   "id": "213f8be1-ada1-45e2-aa22-4f0da03a0a00",
   "metadata": {},
   "outputs": [
    {
     "data": {
      "text/plain": [
       "0.7"
      ]
     },
     "execution_count": 157,
     "metadata": {},
     "output_type": "execute_result"
    }
   ],
   "source": [
    "grouped[0][0]['Q']"
   ]
  },
  {
   "cell_type": "code",
   "execution_count": 147,
   "id": "118cf7de-4ad6-4bf0-ad17-4cce49b6d021",
   "metadata": {},
   "outputs": [
    {
     "name": "stdout",
     "output_type": "stream",
     "text": [
      "experiment TP_z19_1\n",
      "('TP_z19_01_1', 45., 45., 0.1, 0.3, 0.8, 0.9, 0., 4.99552774, 4.99260044)\n",
      "Same number of checkups? True\n",
      "('TP_z19_01_1', 45., 45., 0.1, 0.3, 0.8, 0.9, 0., 4.99552774, 4.99260044)\n"
     ]
    },
    {
     "data": {
      "image/png": "[encoded data removed]",
      "text/plain": [
       "<Figure size 640x480 with 1 Axes>"
      ]
     },
     "metadata": {},
     "output_type": "display_data"
    }
   ],
   "source": [
    "for i, (name, exp) in enumerate(by_exp.items()):\n",
    "    # if name != \"TP_z17_1\":\n",
    "        # Maximum variance\n",
    "        # continue\n",
    "    \n",
    "    # if name != \"TP_z11_2\":\n",
    "    #     # min variance\n",
    "    #     continue\n",
    "    if name != \"TP_z19_1\":\n",
    "        # Mid variance\n",
    "        continue\n",
    "    # if name != \"TP_z06_1\":\n",
    "    #     # Standard\n",
    "    #     continue\n",
    "    X0 = np.concatenate(exp)\n",
    "    X0 = filter_by_exp_temp(X0)\n",
    "    grouped = groupby(X0, 'uid')\n",
    "    \n",
    "    print(f\"experiment {name}\")\n",
    "    print(X0[0])\n",
    "    \n",
    "    M = len(grouped)  # number of cells\n",
    "    N = max([len(x) for x in grouped])  # number of checkups\n",
    "    print(f\"Same number of checkups? {np.all([len(x) == N for x in grouped])}\")\n",
    "    \n",
    "    fig = plot_cap_curve(grouped, gp)\n",
    "    # ans = input(\"exit? [y/n]\")\n",
    "    # if ans.startswith(\"y\"):\n",
    "    #     break\n",
    "    # if i >= 1:\n",
    "    #     break"
   ]
  },
  {
   "cell_type": "code",
   "execution_count": 78,
   "id": "0661e34c-110e-4592-bed5-2a59dc23ffe4",
   "metadata": {},
   "outputs": [],
   "source": [
    "from pathlib import Path"
   ]
  },
  {
   "cell_type": "code",
   "execution_count": 79,
   "id": "5e81cf05-4e96-4b76-ba52-e2180006b92d",
   "metadata": {},
   "outputs": [],
   "source": [
    "image_dir = Path(\"/home/sean/code/study-hard/stochastic-estimation/tex/project/draft/Images\")\n"
   ]
  },
  {
   "cell_type": "code",
   "execution_count": 150,
   "id": "a081d4b5-2e91-40f1-833f-0528c23bc697",
   "metadata": {},
   "outputs": [
    {
     "data": {
      "text/plain": [
       "array([1.e-01, 1.e-01, 1.e+01, 1.e+03])"
      ]
     },
     "execution_count": 150,
     "metadata": {},
     "output_type": "execute_result"
    }
   ],
   "source": [
    "np.exp(gp.kernel.theta)"
   ]
  },
  {
   "cell_type": "code",
   "execution_count": 152,
   "id": "d3212253-952e-415e-9d65-71887888ff78",
   "metadata": {},
   "outputs": [
    {
     "data": {
      "text/plain": [
       "array([1.00000000e-01, 1.16044418e-01, 1.34761254e+01, 7.55862929e+02])"
      ]
     },
     "execution_count": 152,
     "metadata": {},
     "output_type": "execute_result"
    }
   ],
   "source": [
    "np.exp(gp.kernel_.theta)"
   ]
  },
  {
   "cell_type": "code",
   "execution_count": 148,
   "id": "c982abdd-699e-47c6-9b03-6055f1a2a587",
   "metadata": {},
   "outputs": [],
   "source": [
    "fig.savefig(image_dir / \"gp_spurious.png\")"
   ]
  },
  {
   "cell_type": "code",
   "execution_count": 30,
   "id": "e50a03a0-1c05-4a84-8e5a-25ee5832d1eb",
   "metadata": {},
   "outputs": [
    {
     "data": {
      "text/plain": [
       "(array([351., 108.,  81.,  73.,  51.,  55.,  39.,  42.,  42.,  36.,  40.,\n",
       "         30.,  23.,  32.,  31.,  41.,  24.,  26.,  54.,  20.,  21.,  28.,\n",
       "         21.,  32.,  28.,  17.,  24.,  14.,  24.,  26.,  11.,  12.,  15.,\n",
       "         21.,  15.,  43.,   3.,  21.,  21.,   6.,  25.,   2.,  10.,   6.,\n",
       "          6.,   7.,  12.,   9.,   0.,   6.,  15.,   9.,  11.,   5.,   3.,\n",
       "         12.,   9.,   3.,  16.,   0.,   0.,   2.,   7.,   3.,   6.,   3.,\n",
       "          2.,   1.,   0.,   0.,   2.,   4.,   0.,   3.,   1.,   2.,   0.,\n",
       "          0.,   0.,   5.,   1.,   0.,   0.,   2.,   1.,   0.,   3.,   9.,\n",
       "          2.,   1.,   0.,   3.,   6.,   0.,   3.,   0.,   0.,   6.,   3.,\n",
       "          9.]),\n",
       " array([   0.        ,   48.86772949,   97.73545898,  146.60318848,\n",
       "         195.47091797,  244.33864746,  293.20637695,  342.07410645,\n",
       "         390.94183594,  439.80956543,  488.67729492,  537.54502441,\n",
       "         586.41275391,  635.2804834 ,  684.14821289,  733.01594238,\n",
       "         781.88367188,  830.75140137,  879.61913086,  928.48686035,\n",
       "         977.35458984, 1026.22231934, 1075.09004883, 1123.95777832,\n",
       "        1172.82550781, 1221.6932373 , 1270.5609668 , 1319.42869629,\n",
       "        1368.29642578, 1417.16415527, 1466.03188477, 1514.89961426,\n",
       "        1563.76734375, 1612.63507324, 1661.50280273, 1710.37053223,\n",
       "        1759.23826172, 1808.10599121, 1856.9737207 , 1905.8414502 ,\n",
       "        1954.70917969, 2003.57690918, 2052.44463867, 2101.31236816,\n",
       "        2150.18009766, 2199.04782715, 2247.91555664, 2296.78328613,\n",
       "        2345.65101563, 2394.51874512, 2443.38647461, 2492.2542041 ,\n",
       "        2541.12193359, 2589.98966309, 2638.85739258, 2687.72512207,\n",
       "        2736.59285156, 2785.46058105, 2834.32831055, 2883.19604004,\n",
       "        2932.06376953, 2980.93149902, 3029.79922852, 3078.66695801,\n",
       "        3127.5346875 , 3176.40241699, 3225.27014648, 3274.13787598,\n",
       "        3323.00560547, 3371.87333496, 3420.74106445, 3469.60879395,\n",
       "        3518.47652344, 3567.34425293, 3616.21198242, 3665.07971191,\n",
       "        3713.94744141, 3762.8151709 , 3811.68290039, 3860.55062988,\n",
       "        3909.41835937, 3958.28608887, 4007.15381836, 4056.02154785,\n",
       "        4104.88927734, 4153.75700684, 4202.62473633, 4251.49246582,\n",
       "        4300.36019531, 4349.2279248 , 4398.0956543 , 4446.96338379,\n",
       "        4495.83111328, 4544.69884277, 4593.56657227, 4642.43430176,\n",
       "        4691.30203125, 4740.16976074, 4789.03749023, 4837.90521973,\n",
       "        4886.77294922]),\n",
       " <BarContainer object of 100 artists>)"
      ]
     },
     "execution_count": 30,
     "metadata": {},
     "output_type": "execute_result"
    },
    {
     "data": {
      "image/png": "[encoded data removed]",
      "text/plain": [
       "<Figure size 640x480 with 1 Axes>"
      ]
     },
     "metadata": {},
     "output_type": "display_data"
    }
   ],
   "source": [
    "plt.hist(X[\"k\"], bins=100)\n",
    "# plt.ylim([0, 30])"
   ]
  },
  {
   "cell_type": "code",
   "execution_count": 58,
   "id": "1fe2b231-5e4d-4fe7-817d-4b077e8241f8",
   "metadata": {},
   "outputs": [
    {
     "name": "stdout",
     "output_type": "stream",
     "text": [
      "0.0047219126\n",
      "0.0037938736\n"
     ]
    }
   ],
   "source": [
    "print(np.std(c_diff))\n",
    "print(np.std(c_diff[c_diff > -0.02]))"
   ]
  },
  {
   "cell_type": "markdown",
   "id": "0f258a19-0d59-4eda-b68e-4a1dca48810d",
   "metadata": {},
   "source": [
    "## "
   ]
  },
  {
   "cell_type": "markdown",
   "id": "d9071e7b-595f-44b1-ae08-c2e4e0ab3519",
   "metadata": {},
   "source": [
    "# Covariance Matrix"
   ]
  },
  {
   "cell_type": "code",
   "execution_count": null,
   "id": "cd7743ff-5445-4ccb-a346-d6412dad9413",
   "metadata": {},
   "outputs": [],
   "source": []
  },
  {
   "cell_type": "code",
   "execution_count": null,
   "id": "9067b95e-e146-410f-b153-707f9c5be91b",
   "metadata": {},
   "outputs": [],
   "source": []
  },
  {
   "cell_type": "code",
   "execution_count": 58,
   "id": "191c3130-8dde-47bf-8041-6c9fdd4bdc77",
   "metadata": {},
   "outputs": [],
   "source": [
    "names = []\n",
    "covs = []\n",
    "for name, group in by_exp.items():\n",
    "    M = len(group)  # number of cells\n",
    "    N = max([len(x) for x in group])  # number of checkups\n",
    "    if not np.all([len(x) == N for x in group]):\n",
    "        continue\n",
    "    C = np.zeros((N, M), dtype=float)\n",
    "    for i, g in enumerate(group):\n",
    "        C[:, i] = average_cap(g)\n",
    "    delta_C = C - np.mean(C, axis=1, keepdims=True)\n",
    "    cov = 1 / (M-1) * delta_C @ delta_C.T\n",
    "    covs.append(cov)\n",
    "    names.append(name)\n",
    "    \n",
    "max_covs = [np.max(cov) for cov in covs]"
   ]
  },
  {
   "cell_type": "code",
   "execution_count": 98,
   "id": "b85d1bb4-3136-4344-bade-6403a40db427",
   "metadata": {},
   "outputs": [
    {
     "data": {
      "text/plain": [
       "22"
      ]
     },
     "execution_count": 98,
     "metadata": {},
     "output_type": "execute_result"
    }
   ],
   "source": [
    "np.argsort(max_covs)[-1]"
   ]
  },
  {
   "cell_type": "code",
   "execution_count": 112,
   "id": "61281f7e-93b0-4af2-b6e3-845c3d1657ba",
   "metadata": {},
   "outputs": [
    {
     "data": {
      "text/plain": [
       "'TP_z11_2'"
      ]
     },
     "execution_count": 112,
     "metadata": {},
     "output_type": "execute_result"
    }
   ],
   "source": [
    "names[np.argmin(max_covs)]"
   ]
  },
  {
   "cell_type": "code",
   "execution_count": 48,
   "id": "632ea12f-718c-45c5-bd76-04f7826346b6",
   "metadata": {},
   "outputs": [],
   "source": [
    "all_vars = np.concatenate([np.diag(cov) for cov in covs])"
   ]
  },
  {
   "cell_type": "code",
   "execution_count": 49,
   "id": "e6e39fdc-657c-4199-8225-f176e6a45434",
   "metadata": {},
   "outputs": [
    {
     "data": {
      "text/plain": [
       "(592,)"
      ]
     },
     "execution_count": 49,
     "metadata": {},
     "output_type": "execute_result"
    }
   ],
   "source": [
    "all_vars.shape"
   ]
  },
  {
   "cell_type": "code",
   "execution_count": 50,
   "id": "a61631bf-c4b2-42e2-a187-974c3149449d",
   "metadata": {},
   "outputs": [
    {
     "data": {
      "text/plain": [
       "(21, 21)"
      ]
     },
     "execution_count": 50,
     "metadata": {},
     "output_type": "execute_result"
    }
   ],
   "source": [
    "covs[0].shape"
   ]
  },
  {
   "cell_type": "code",
   "execution_count": 51,
   "id": "b4118c54-1913-45bd-a699-cc839d167cce",
   "metadata": {},
   "outputs": [
    {
     "data": {
      "text/plain": [
       "16"
      ]
     },
     "execution_count": 51,
     "metadata": {},
     "output_type": "execute_result"
    }
   ],
   "source": [
    "np.argmin(max_covs)"
   ]
  },
  {
   "cell_type": "code",
   "execution_count": 128,
   "id": "24998649-8dee-48de-945d-4429f5451566",
   "metadata": {},
   "outputs": [
    {
     "data": {
      "text/plain": [
       "0.00045701014293155737"
      ]
     },
     "execution_count": 128,
     "metadata": {},
     "output_type": "execute_result"
    }
   ],
   "source": [
    "np.mean(all_vars)"
   ]
  },
  {
   "cell_type": "code",
   "execution_count": 137,
   "id": "7f31379b-d531-4875-b20b-10db63e7685e",
   "metadata": {},
   "outputs": [
    {
     "data": {
      "text/plain": [
       "<matplotlib.legend.Legend at 0x7ff88e2e2e20>"
      ]
     },
     "execution_count": 137,
     "metadata": {},
     "output_type": "execute_result"
    },
    {
     "data": {
      "image/png": "[encoded data removed]",
      "text/plain": [
       "<Figure size 640x480 with 1 Axes>"
      ]
     },
     "metadata": {},
     "output_type": "display_data"
    }
   ],
   "source": [
    "sigma_c = np.mean(all_vars) * 1e6\n",
    "fig = plt.figure()\n",
    "plt.hist(1e6 * all_vars, bins=50, log=True, label=\"Conditioned on u and k\")\n",
    "plt.axvline(x=sigma_c, c='r', label=f\"Unconditional {sigma_c:.0f} (mAh^2)\")\n",
    "plt.title(\"Histogram of Cell-to-Cell variances\")\n",
    "plt.xlabel(\"Sample Variance (mAh^2) across (P=3) cells\")\n",
    "plt.ylabel(\"# of checkups\")\n",
    "plt.legend()"
   ]
  },
  {
   "cell_type": "code",
   "execution_count": 138,
   "id": "8d624882-221e-4bac-9676-87461177191b",
   "metadata": {},
   "outputs": [],
   "source": [
    "fig.savefig(image_dir / \"cond_cell_to_cell_var.png\")"
   ]
  },
  {
   "cell_type": "code",
   "execution_count": 39,
   "id": "88fe363f-88bd-43b1-961a-46e600825aac",
   "metadata": {},
   "outputs": [
    {
     "data": {
      "text/plain": [
       "<matplotlib.colorbar.Colorbar at 0x7ff8970d8070>"
      ]
     },
     "execution_count": 39,
     "metadata": {},
     "output_type": "execute_result"
    },
    {
     "data": {
      "text/plain": [
       "<Figure size 640x480 with 0 Axes>"
      ]
     },
     "metadata": {},
     "output_type": "display_data"
    },
    {
     "data": {
      "image/png": "[encoded data removed]",
      "text/plain": [
       "<Figure size 480x480 with 2 Axes>"
      ]
     },
     "metadata": {},
     "output_type": "display_data"
    }
   ],
   "source": [
    "# Minimum\n",
    "plt.figure()\n",
    "plt.matshow(covs[np.argmin(max_covs)])\n",
    "plt.colorbar()"
   ]
  },
  {
   "cell_type": "code",
   "execution_count": 116,
   "id": "bbd8443a-e55f-466a-a709-b02710b8d6e6",
   "metadata": {},
   "outputs": [
    {
     "name": "stdout",
     "output_type": "stream",
     "text": [
      "TP_z19_1\n"
     ]
    },
    {
     "data": {
      "text/plain": [
       "<Figure size 640x480 with 0 Axes>"
      ]
     },
     "metadata": {},
     "output_type": "display_data"
    },
    {
     "data": {
      "image/png": "[encoded data removed]",
      "text/plain": [
       "<Figure size 480x480 with 2 Axes>"
      ]
     },
     "metadata": {},
     "output_type": "display_data"
    }
   ],
   "source": [
    "ind = np.argsort(max_covs)[13]\n",
    "fig = cov_plot(covs[ind], names[ind])\n",
    "print(names[ind])"
   ]
  },
  {
   "cell_type": "code",
   "execution_count": 106,
   "id": "d28f9c96-56ba-42ba-913a-8dd8023cec81",
   "metadata": {},
   "outputs": [
    {
     "data": {
      "text/plain": [
       "<Figure size 640x480 with 0 Axes>"
      ]
     },
     "metadata": {},
     "output_type": "display_data"
    },
    {
     "data": {
      "image/png": "[encoded data removed]",
      "text/plain": [
       "<Figure size 480x480 with 2 Axes>"
      ]
     },
     "metadata": {},
     "output_type": "display_data"
    }
   ],
   "source": [
    "ind = np.argmax(max_covs)\n",
    "fig = cov_plot(covs[ind], names[ind])"
   ]
  },
  {
   "cell_type": "code",
   "execution_count": null,
   "id": "cc8286ee-2899-4b08-a511-8209e02f7f2c",
   "metadata": {},
   "outputs": [],
   "source": [
    "ind = np.argmax(max_covs)\n",
    "fig = cov_plot(covs[ind], names[ind])"
   ]
  },
  {
   "cell_type": "code",
   "execution_count": 103,
   "id": "fc7c2fd2-6989-4de2-ae2d-8f7b4d82d446",
   "metadata": {},
   "outputs": [],
   "source": [
    "def cov_plot(cov, name):\n",
    "    # Minimum\n",
    "    fig = plt.figure()\n",
    "    plt.matshow(1e6 * cov)\n",
    "    plt.title(f\"Covariance Matrix for\\nexperiment {name}\")\n",
    "    plt.xlabel(\"Checkup #\")\n",
    "    plt.ylabel(\"Checkup #\")\n",
    "    cbar = plt.colorbar()\n",
    "    cbar.ax.set_ylabel('Variance (Ah^2)', rotation=270)\n",
    "    return fig"
   ]
  },
  {
   "cell_type": "code",
   "execution_count": 96,
   "id": "9988c009-4d84-49ad-b8aa-ca29a02ebca1",
   "metadata": {},
   "outputs": [],
   "source": [
    "fig.savefig(image_dir / \"bad_measurement.png\")"
   ]
  },
  {
   "cell_type": "code",
   "execution_count": null,
   "id": "41154e2d-7a1d-47fe-a0dc-dbc5663961d5",
   "metadata": {},
   "outputs": [],
   "source": [
    "plt.figure()\n",
    "plt.matshow(cov)\n",
    "plt.colorbar()"
   ]
  },
  {
   "cell_type": "code",
   "execution_count": null,
   "id": "c1f8c034-5411-420e-ae41-00b5ec0dcaab",
   "metadata": {},
   "outputs": [],
   "source": [
    "plt.figure()\n",
    "plt.matshow(cov)\n",
    "plt.colorbar()"
   ]
  }
 ],
 "metadata": {
  "kernelspec": {
   "display_name": "Python 3 (ipykernel)",
   "language": "python",
   "name": "python3"
  },
  "language_info": {
   "codemirror_mode": {
    "name": "ipython",
    "version": 3
   },
   "file_extension": ".py",
   "mimetype": "text/x-python",
   "name": "python",
   "nbconvert_exporter": "python",
   "pygments_lexer": "ipython3",
   "version": "3.8.10"
  }
 },
 "nbformat": 4,
 "nbformat_minor": 5
}
