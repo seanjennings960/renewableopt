{
 "cells": [
  {
   "cell_type": "code",
   "execution_count": 1,
   "id": "a45f41d6",
   "metadata": {},
   "outputs": [],
   "source": [
    "%load_ext autoreload\n",
    "%autoreload 2"
   ]
  },
  {
   "cell_type": "code",
   "execution_count": 2,
   "id": "aa6abc03",
   "metadata": {},
   "outputs": [],
   "source": [
    "%matplotlib qt"
   ]
  },
  {
   "cell_type": "code",
   "execution_count": 135,
   "id": "2ce1dfa7-208d-4402-8c4b-85be95fd37b3",
   "metadata": {},
   "outputs": [],
   "source": [
    "import numpy as np\n",
    "import matplotlib.pyplot as plt\n",
    "from scipy.optimize import linprog\n",
    "from datetime import datetime\n",
    "from datetime import timedelta as dt_timedelta\n",
    "\n",
    "from renewableopt.data import load_by_day\n",
    "from renewableopt.optimal_design import SinglePeriodModel, MultiPeriodModel, greedy_battery_control, visualize\n",
    "from renewableopt.peak_id import timedelta, identify_worst_days, assert_int, shape_by_day\n",
    "from renewableopt.optimal_design.dispatch import DispatchData\n",
    "from renewableopt.optimal_design.multi_period import OptimizationError"
   ]
  },
  {
   "cell_type": "code",
   "execution_count": 137,
   "id": "0b4b2c6d",
   "metadata": {},
   "outputs": [],
   "source": [
    "sources = [\"solar\", \"wind\", \"geothermal\"]\n",
    "time, load, generation_pu = load_by_day(0, 366, sources=sources)\n",
    "time = time / 60\n",
    "dt = timedelta(time)\n",
    "_, timesteps_per_day = shape_by_day(time)\n",
    "peak_data = identify_worst_days(time, load, generation_pu,\n",
    "#                               sources=sources, method=\"manual_cluster\")\n",
    "                              sources=sources, method=\"kmeans_cluster\")\n",
    "\n",
    "worst_load, worst_generation_pu = peak_data.load, peak_data.gen_pu"
   ]
  },
  {
   "cell_type": "code",
   "execution_count": 140,
   "id": "068886f4",
   "metadata": {},
   "outputs": [
    {
     "data": {
      "text/plain": [
       "(105408,)"
      ]
     },
     "execution_count": 140,
     "metadata": {},
     "output_type": "execute_result"
    }
   ],
   "source": [
    "time.shape"
   ]
  },
  {
   "cell_type": "code",
   "execution_count": 138,
   "id": "434ca979",
   "metadata": {},
   "outputs": [],
   "source": [
    "visualize.plot_wind_solar_cluster(peak_data)"
   ]
  },
  {
   "cell_type": "code",
   "execution_count": 117,
   "id": "4d4c0e80",
   "metadata": {},
   "outputs": [
    {
     "name": "stdout",
     "output_type": "stream",
     "text": [
      "['low_load_medium_solar_low_wind_0', 'high_load_high_solar_low_wind_0', 'medium_load_medium_solar_low_wind_0', 'low_load_low_solar_low_wind_0', 'high_load_medium_solar_low_wind', 'medium_load_medium_solar_low_wind_1', 'high_load_high_solar_low_wind_1', 'low_load_out of bounds_solar_high_wind', 'low_load_high_solar_low_wind', 'low_load_low_solar_low_wind_1', 'medium_load_low_solar_low_wind', 'high_load_high_solar_low_wind_2', 'medium_load_medium_solar_low_wind_2', 'low_load_medium_solar_low_wind_1', 'high_load_high_solar_low_wind_3']\n"
     ]
    }
   ],
   "source": [
    "print(list(worst_load.keys()))"
   ]
  },
  {
   "cell_type": "code",
   "execution_count": 139,
   "id": "12d7a015",
   "metadata": {
    "scrolled": false
   },
   "outputs": [
    {
     "data": {
      "text/plain": [
       "<matplotlib.legend.Legend at 0x7f34e6172dc0>"
      ]
     },
     "execution_count": 139,
     "metadata": {},
     "output_type": "execute_result"
    }
   ],
   "source": [
    "scenario = list(worst_load.keys())[0]\n",
    "time_hr = time / 60\n",
    "plt.plot(worst_load[scenario])\n",
    "plt.figure()\n",
    "plt.plot(worst_generation_pu[scenario])\n",
    "plt.legend(sources)"
   ]
  },
  {
   "cell_type": "code",
   "execution_count": 119,
   "id": "64e9a473",
   "metadata": {},
   "outputs": [],
   "source": [
    "scenario = list(worst_load.keys())[0]\n",
    "time_one_day = time[:worst_load[scenario].shape[0]]\n",
    "model = MultiPeriodModel(\n",
    "    initial_battery_charge=0.5,\n",
    "    depth_of_discharge=0.1,\n",
    "    cost_battery_energy=300,\n",
    "    cost_battery_power=350,\n",
    "    cost_generation=[1250, 300, 350000])\n",
    "#     cost_generation=[1250])\n",
    "try:\n",
    "    res = model.minimize_cost(time_one_day, worst_load, worst_generation_pu)\n",
    "except OptimizationError as err:\n",
    "    scipy_res = err.result\n",
    "    raise err"
   ]
  },
  {
   "cell_type": "code",
   "execution_count": 120,
   "id": "972df6da",
   "metadata": {},
   "outputs": [],
   "source": [
    "def total_cost_energy(time, load, result):\n",
    "    total_energy_over_year = np.sum(load) * timedelta(time)\n",
    "    return 100 * res.result.fun / total_energy_over_year  # 100cent/$ * $1000 / MWh == cents/KWh"
   ]
  },
  {
   "cell_type": "code",
   "execution_count": 122,
   "id": "72b738e0",
   "metadata": {},
   "outputs": [
    {
     "name": "stdout",
     "output_type": "stream",
     "text": [
      "Battery Capacity 1075.7 MWh\n",
      "Battery Power 388.9 MW\n",
      "Hours of storage: 2.77 hr\n",
      "Solar Generation: 166.7 MW\n",
      "Wind Generation: 7712.6 MW\n",
      "Geothermal Generation: 0.0 MW\n",
      "Total cost of energy: 729.4 cent/kWh\n"
     ]
    }
   ],
   "source": [
    "print(f\"Battery Capacity {res.E_max:.1f} MWh\")\n",
    "print(f\"Battery Power {res.P_battery:.1f} MW\")\n",
    "print(f\"Hours of storage: {res.E_max / res.P_battery:.2f} hr\")\n",
    "for i, source in enumerate(sources):\n",
    "    print(f\"{source.capitalize()} Generation: {res.P_generation[i]:.1f} MW\")\n",
    "#     print(f\"Geothermal Generation: {res.P_generation[i]:.1f} MW\")\n",
    "c = total_cost_energy(time, load, res)\n",
    "print(f\"Total cost of energy: {c:.1f} cent/kWh\")\n"
   ]
  },
  {
   "cell_type": "code",
   "execution_count": 123,
   "id": "7ac404c9",
   "metadata": {},
   "outputs": [
    {
     "data": {
      "text/plain": [
       "array([0.28183511, 0.12759024, 1.        ])"
      ]
     },
     "execution_count": 123,
     "metadata": {},
     "output_type": "execute_result"
    }
   ],
   "source": [
    "np.mean(generation_pu, axis=0)"
   ]
  },
  {
   "cell_type": "code",
   "execution_count": 124,
   "id": "448ab87f",
   "metadata": {},
   "outputs": [],
   "source": [
    "# Potentially interesting plots:\n",
    "# Aggregated SoC at end of day (mean/std of each month) (of course, this depends on eta)\n",
    "#     Include also minimum SoC\n",
    "# SoC over day for the day in each month that reaches minimum battery capacity \n",
    "# Amount of renewable generation curtailment (to what degree is this a function of generation source?)"
   ]
  },
  {
   "cell_type": "code",
   "execution_count": 125,
   "id": "adb80e46",
   "metadata": {},
   "outputs": [],
   "source": [
    "# Is there a good way to store all this data in a single data structure, so that passing it\n",
    "# to visualization function isn't so onerous?"
   ]
  },
  {
   "cell_type": "code",
   "execution_count": 126,
   "id": "03eef416",
   "metadata": {},
   "outputs": [],
   "source": [
    "def day_to_date(days):\n",
    "    jan1 = np.datetime64(\"2012-01-01 00:00\")\n",
    "    return jan1 + np.array(days * 24).astype('timedelta64[h]')"
   ]
  },
  {
   "cell_type": "code",
   "execution_count": 127,
   "id": "30ce1247",
   "metadata": {},
   "outputs": [
    {
     "data": {
      "text/plain": [
       "{'low_load_medium_solar_low_wind_0': array(['2012-01-06T00:00', '2012-01-17T00:00', '2012-11-16T00:00',\n",
       "        '2012-12-06T00:00', '2012-12-08T00:00', '2012-12-22T00:00'],\n",
       "       dtype='datetime64[m]'),\n",
       " 'high_load_high_solar_low_wind_0': array(['2012-07-23T00:00', '2012-07-29T00:00', '2012-08-12T00:00'],\n",
       "       dtype='datetime64[m]'),\n",
       " 'medium_load_medium_solar_low_wind_0': array(['2012-08-28T00:00', '2012-09-21T00:00'], dtype='datetime64[m]'),\n",
       " 'low_load_low_solar_low_wind_0': array(['2012-11-15T00:00', '2012-12-13T00:00', '2012-12-18T00:00'],\n",
       "       dtype='datetime64[m]'),\n",
       " 'high_load_medium_solar_low_wind': array(['2012-07-30T00:00', '2012-09-08T00:00', '2012-09-09T00:00',\n",
       "        '2012-09-10T00:00'], dtype='datetime64[m]'),\n",
       " 'medium_load_medium_solar_low_wind_1': array(['2012-07-13T00:00', '2012-08-24T00:00'], dtype='datetime64[m]'),\n",
       " 'high_load_high_solar_low_wind_1': array(['2012-07-27T00:00', '2012-07-28T00:00', '2012-08-13T00:00'],\n",
       "       dtype='datetime64[m]'),\n",
       " 'low_load_out of bounds_solar_high_wind': array(['2012-03-17T00:00'], dtype='datetime64[m]'),\n",
       " 'low_load_high_solar_low_wind': array(['2012-09-28T00:00'], dtype='datetime64[m]'),\n",
       " 'low_load_low_solar_low_wind_1': array(['2012-01-16T00:00', '2012-11-30T00:00', '2012-12-16T00:00',\n",
       "        '2012-12-24T00:00'], dtype='datetime64[m]'),\n",
       " 'medium_load_low_solar_low_wind': array(['2012-07-12T00:00'], dtype='datetime64[m]'),\n",
       " 'high_load_high_solar_low_wind_2': array(['2012-07-22T00:00', '2012-09-04T00:00', '2012-09-16T00:00'],\n",
       "       dtype='datetime64[m]'),\n",
       " 'medium_load_medium_solar_low_wind_2': array(['2012-08-15T00:00', '2012-08-16T00:00'], dtype='datetime64[m]'),\n",
       " 'low_load_medium_solar_low_wind_1': array(['2012-09-22T00:00'], dtype='datetime64[m]'),\n",
       " 'high_load_high_solar_low_wind_3': array(['2012-07-24T00:00', '2012-07-25T00:00'], dtype='datetime64[m]')}"
      ]
     },
     "execution_count": 127,
     "metadata": {},
     "output_type": "execute_result"
    }
   ],
   "source": [
    "{\n",
    "    name: day_to_date(v)\n",
    "    for name, v in peak_data.problem_groups.items()\n",
    "}"
   ]
  },
  {
   "cell_type": "code",
   "execution_count": 128,
   "id": "12a3df73",
   "metadata": {},
   "outputs": [],
   "source": [
    "def day_indices(time, day):\n",
    "    dt = visualize.as_datetime(time)\n",
    "    return np.logical_and(\n",
    "        dt >= day,\n",
    "        dt < day + np.timedelta64(24, 'h')\n",
    "    )"
   ]
  },
  {
   "cell_type": "code",
   "execution_count": 129,
   "id": "4732a2ad",
   "metadata": {},
   "outputs": [
    {
     "data": {
      "text/plain": [
       "(105408,)"
      ]
     },
     "execution_count": 129,
     "metadata": {},
     "output_type": "execute_result"
    }
   ],
   "source": [
    "day = np.datetime64(\"2012-07-27\")\n",
    "day_indices(time, day).shape"
   ]
  },
  {
   "cell_type": "code",
   "execution_count": 130,
   "id": "002f42ce",
   "metadata": {},
   "outputs": [
    {
     "data": {
      "text/plain": [
       "288"
      ]
     },
     "execution_count": 130,
     "metadata": {},
     "output_type": "execute_result"
    }
   ],
   "source": [
    "timesteps_per_day"
   ]
  },
  {
   "cell_type": "code",
   "execution_count": 131,
   "id": "919b0649",
   "metadata": {},
   "outputs": [
    {
     "name": "stdout",
     "output_type": "stream",
     "text": [
      "Feasible? True\n"
     ]
    }
   ],
   "source": [
    "dispatch = DispatchData.from_greedy(time, load, generation_pu, sources, res)\n",
    "print(f\"Feasible? {dispatch.feasible}\")\n",
    "indices = (\n",
    "    day_indices(time, day)\n",
    "    if dispatch.feasible else\n",
    "    slice(len(dispatch) - timesteps_per_day, None))\n",
    "visualize.plot_stack(\n",
    "    dispatch[indices],\n",
    "    curtailment=\"even\")"
   ]
  },
  {
   "cell_type": "code",
   "execution_count": 65,
   "id": "30bed92e",
   "metadata": {},
   "outputs": [
    {
     "data": {
      "text/plain": [
       "<renewableopt.optimal_design.dispatch.DispatchData at 0x7f34df4279d0>"
      ]
     },
     "execution_count": 65,
     "metadata": {},
     "output_type": "execute_result"
    }
   ],
   "source": [
    "dispatch.by_day(10)"
   ]
  },
  {
   "cell_type": "code",
   "execution_count": 62,
   "id": "f19b9bb8",
   "metadata": {},
   "outputs": [],
   "source": [
    "josh_cost = 60 * 3500 + 1250 * 50 + 1250 * 50 + 50 * 350 + 400 * 300"
   ]
  },
  {
   "cell_type": "code",
   "execution_count": 63,
   "id": "b8a23b45",
   "metadata": {
    "scrolled": true
   },
   "outputs": [
    {
     "data": {
      "text/plain": [
       "76.5109198649304"
      ]
     },
     "execution_count": 63,
     "metadata": {},
     "output_type": "execute_result"
    }
   ],
   "source": []
  },
  {
   "cell_type": "code",
   "execution_count": 64,
   "id": "1b190e79",
   "metadata": {},
   "outputs": [
    {
     "data": {
      "text/plain": [
       "115.62217018522118"
      ]
     },
     "execution_count": 64,
     "metadata": {},
     "output_type": "execute_result"
    }
   ],
   "source": [
    "100 * josh_cost / total_energy_over_year  # 100cent/$ * $1000 / MWh == cents/KWh"
   ]
  },
  {
   "cell_type": "code",
   "execution_count": 133,
   "id": "b4444e41",
   "metadata": {},
   "outputs": [],
   "source": [
    "visualize.storage_capacity_statistics(dispatch)"
   ]
  },
  {
   "cell_type": "code",
   "execution_count": 55,
   "id": "351d8271",
   "metadata": {},
   "outputs": [],
   "source": [
    "visualize.daily_curtailment(dispatch)"
   ]
  },
  {
   "cell_type": "code",
   "execution_count": null,
   "id": "82393881",
   "metadata": {},
   "outputs": [],
   "source": []
  },
  {
   "cell_type": "code",
   "execution_count": 134,
   "id": "369a1278",
   "metadata": {
    "scrolled": true
   },
   "outputs": [
    {
     "name": "stdout",
     "output_type": "stream",
     "text": [
      "converted\n",
      "<class 'numpy.datetime64'>\n"
     ]
    }
   ],
   "source": [
    "visualize.min_capacity_per_month(dispatch, [12])"
   ]
  },
  {
   "cell_type": "code",
   "execution_count": 30,
   "id": "939c782b",
   "metadata": {
    "scrolled": false
   },
   "outputs": [],
   "source": [
    "visualize.lp_versus_greedy_comparison(res, time_one_day, worst_load, worst_generation_pu,\n",
    "                                      scenarios=['high_load_sunny'])"
   ]
  },
  {
   "cell_type": "code",
   "execution_count": 25,
   "id": "264c11ec",
   "metadata": {},
   "outputs": [
    {
     "data": {
      "text/plain": [
       "['low_load_low_solar',\n",
       " 'medium_load_low_solar',\n",
       " 'medium_load_medium_solar',\n",
       " 'high_load_cloudy',\n",
       " 'high_load_sunny']"
      ]
     },
     "execution_count": 25,
     "metadata": {},
     "output_type": "execute_result"
    }
   ],
   "source": [
    "res.scenarios"
   ]
  },
  {
   "cell_type": "code",
   "execution_count": 36,
   "id": "e1ac0688",
   "metadata": {},
   "outputs": [],
   "source": [
    "from renewableopt.optimal_design import SinglePeriodModel"
   ]
  },
  {
   "cell_type": "code",
   "execution_count": 37,
   "id": "f1d74109",
   "metadata": {},
   "outputs": [
    {
     "name": "stdout",
     "output_type": "stream",
     "text": [
      "Help on class SinglePeriodModel in module renewableopt.optimal_design.single_period:\n",
      "\n",
      "class SinglePeriodModel(builtins.object)\n",
      " |  SinglePeriodModel(initial_battery_charge, depth_of_discharge, cost_battery_energy, cost_solar)\n",
      " |  \n",
      " |  Methods defined here:\n",
      " |  \n",
      " |  __init__(self, initial_battery_charge, depth_of_discharge, cost_battery_energy, cost_solar)\n",
      " |      Initialize self.  See help(type(self)) for accurate signature.\n",
      " |  \n",
      " |  minimize_cost(self, time, load, solar_pu)\n",
      " |  \n",
      " |  ----------------------------------------------------------------------\n",
      " |  Data descriptors defined here:\n",
      " |  \n",
      " |  __dict__\n",
      " |      dictionary for instance variables (if defined)\n",
      " |  \n",
      " |  __weakref__\n",
      " |      list of weak references to the object (if defined)\n",
      "\n"
     ]
    }
   ],
   "source": [
    "help(SinglePeriodModel)"
   ]
  },
  {
   "cell_type": "code",
   "execution_count": 38,
   "id": "7de8ca0a",
   "metadata": {},
   "outputs": [],
   "source": [
    "model = SinglePeriodModel(\n",
    "    initial_battery_charge=0.5,\n",
    "    depth_of_discharge=0.1,\n",
    "    cost_battery_energy=100,\n",
    "    cost_solar=50\n",
    ")"
   ]
  },
  {
   "cell_type": "code",
   "execution_count": 23,
   "id": "59e82ce6",
   "metadata": {},
   "outputs": [
    {
     "ename": "AttributeError",
     "evalue": "'numpy.ndarray' object has no attribute 'keys'",
     "output_type": "error",
     "traceback": [
      "\u001b[0;31m---------------------------------------------------------------------------\u001b[0m",
      "\u001b[0;31mAttributeError\u001b[0m                            Traceback (most recent call last)",
      "Cell \u001b[0;32mIn[23], line 1\u001b[0m\n\u001b[0;32m----> 1\u001b[0m \u001b[43mmodel\u001b[49m\u001b[38;5;241;43m.\u001b[39;49m\u001b[43mminimize_cost\u001b[49m\u001b[43m(\u001b[49m\u001b[43mtime\u001b[49m\u001b[43m,\u001b[49m\u001b[43m \u001b[49m\u001b[43mload\u001b[49m\u001b[43m,\u001b[49m\u001b[43m \u001b[49m\u001b[43mgeneration_pu\u001b[49m\u001b[43m[\u001b[49m\u001b[43m:\u001b[49m\u001b[43m,\u001b[49m\u001b[43m \u001b[49m\u001b[38;5;241;43m0\u001b[39;49m\u001b[43m]\u001b[49m\u001b[43m)\u001b[49m\n",
      "File \u001b[0;32m~/code/renewableopt/src/renewableopt/optimal_design/multi_period.py:96\u001b[0m, in \u001b[0;36mMultiPeriodModel.minimize_cost\u001b[0;34m(self, time, load, generation)\u001b[0m\n\u001b[1;32m     93\u001b[0m dt \u001b[38;5;241m=\u001b[39m timedelta(time)\n\u001b[1;32m     94\u001b[0m \u001b[38;5;66;03m# Load (str -> array(T))\u001b[39;00m\n\u001b[1;32m     95\u001b[0m \u001b[38;5;66;03m# Generation (str -> array(T, G))\u001b[39;00m\n\u001b[0;32m---> 96\u001b[0m scenarios \u001b[38;5;241m=\u001b[39m \u001b[38;5;28mlist\u001b[39m(\u001b[43mload\u001b[49m\u001b[38;5;241;43m.\u001b[39;49m\u001b[43mkeys\u001b[49m())\n\u001b[1;32m     97\u001b[0m \u001b[38;5;28;01massert\u001b[39;00m  \u001b[38;5;28mset\u001b[39m(scenarios) \u001b[38;5;241m==\u001b[39m \u001b[38;5;28mset\u001b[39m(generation\u001b[38;5;241m.\u001b[39mkeys()), \\\n\u001b[1;32m     98\u001b[0m     \u001b[38;5;124m\"\u001b[39m\u001b[38;5;124mLoad and generation dictionaries must have same keys.\u001b[39m\u001b[38;5;124m\"\u001b[39m\n\u001b[1;32m     99\u001b[0m \u001b[38;5;28;01mfor\u001b[39;00m l_profile \u001b[38;5;129;01min\u001b[39;00m load\u001b[38;5;241m.\u001b[39mvalues():\n\u001b[1;32m    100\u001b[0m     \u001b[38;5;66;03m#\u001b[39;00m\n",
      "\u001b[0;31mAttributeError\u001b[0m: 'numpy.ndarray' object has no attribute 'keys'"
     ]
    }
   ],
   "source": [
    "model.minimize_cost(time, load, generation_pu[:, 0])"
   ]
  },
  {
   "cell_type": "code",
   "execution_count": 19,
   "id": "4154f0f6",
   "metadata": {},
   "outputs": [
    {
     "data": {
      "text/plain": [
       "1.0529862514653137"
      ]
     },
     "execution_count": 19,
     "metadata": {},
     "output_type": "execute_result"
    }
   ],
   "source": [
    "res.E_max / res.P_battery"
   ]
  },
  {
   "cell_type": "code",
   "execution_count": 21,
   "id": "4e62c3c8",
   "metadata": {},
   "outputs": [
    {
     "data": {
      "text/plain": [
       "{1, 3}"
      ]
     },
     "execution_count": 21,
     "metadata": {},
     "output_type": "execute_result"
    }
   ],
   "source": [
    "set([1, 2, 3]) - set([2])"
   ]
  }
 ],
 "metadata": {
  "kernelspec": {
   "display_name": "Python 3 (ipykernel)",
   "language": "python",
   "name": "python3"
  },
  "language_info": {
   "codemirror_mode": {
    "name": "ipython",
    "version": 3
   },
   "file_extension": ".py",
   "mimetype": "text/x-python",
   "name": "python",
   "nbconvert_exporter": "python",
   "pygments_lexer": "ipython3",
   "version": "3.8.10"
  }
 },
 "nbformat": 4,
 "nbformat_minor": 5
}
