{
 "cells": [
  {
   "cell_type": "code",
   "execution_count": 1,
   "id": "2487b84d-f69c-4f5c-933b-0b60ad907d12",
   "metadata": {},
   "outputs": [],
   "source": [
    "%load_ext autoreload\n",
    "%autoreload 2"
   ]
  },
  {
   "cell_type": "code",
   "execution_count": 7,
   "id": "22079a18-d981-4359-aacd-bdfdee1f822e",
   "metadata": {},
   "outputs": [],
   "source": [
    "%matplotlib tk"
   ]
  },
  {
   "cell_type": "code",
   "execution_count": 9,
   "id": "68aea29a-5a8f-4bc5-8bc4-b7fa7c52d077",
   "metadata": {},
   "outputs": [],
   "source": [
    "from renewableopt.data import load_by_day\n",
    "import matplotlib.pyplot as plt\n",
    "import numpy as np\n",
    "from numpy.fft import fft, fftshift"
   ]
  },
  {
   "cell_type": "code",
   "execution_count": 4,
   "id": "6d92f368-1c1e-4b5b-b28a-0ae8622c8cfa",
   "metadata": {},
   "outputs": [],
   "source": [
    "t, load, gen_pu = load_by_day(0, 366, sources=['solar'])"
   ]
  },
  {
   "cell_type": "code",
   "execution_count": 56,
   "id": "0b3f00e8-b3f4-498e-84a3-7f5c2abbcaa1",
   "metadata": {},
   "outputs": [],
   "source": [
    "# Make length(gen_pu) a multiple of N\n",
    "def clip_multiple(x, N):\n",
    "    r = int(np.floor(len(x) / N))\n",
    "    return x[:N * r]\n",
    "    \n",
    "def offset_slice(s, x):\n",
    "    return slice(s.start + x, s.stop + x)\n",
    "    \n",
    "def periodogram(x, N, overlap, window_func):\n",
    "    x = clip_multiple(x, N)\n",
    "    L = np.shape(x)[0]\n",
    "    M = np.floor((L-overlap) / (N - overlap))\n",
    "    w = window_func(N)\n",
    "    S = np.zeros(N)\n",
    "    index = slice(0, N)\n",
    "    for i in range(N-1):\n",
    "        if index.stop > L:\n",
    "            break\n",
    "        S += np.abs(fft(x[index] * w))**2\n",
    "        index = offset_slice(index, N - overlap)\n",
    "    return fftshift(S) / (M * N**2)\n",
    "\n",
    "    \n",
    "    "
   ]
  },
  {
   "cell_type": "code",
   "execution_count": null,
   "id": "11d6d7a9-1003-447d-b672-4e3d66c7e1e3",
   "metadata": {},
   "outputs": [],
   "source": []
  },
  {
   "cell_type": "code",
   "execution_count": 58,
   "id": "c2d9a583-671e-40e7-bfd8-9d273747b7f9",
   "metadata": {},
   "outputs": [],
   "source": [
    "N = 4096\n",
    "t = clip_multiple(t, N)\n",
    "gen_pu = clip_multiple(gen_pu, N)\n",
    "S = periodogram(gen_pu, N, int(N/4), np.blackman)"
   ]
  },
  {
   "cell_type": "code",
   "execution_count": 66,
   "id": "70c450bd-ce31-45a1-ad71-c4583f09dddc",
   "metadata": {},
   "outputs": [],
   "source": [
    "delta_t = t[1] - t[0]\n",
    "assert np.all(np.isclose(t[1:] - t[:-1], delta_t))"
   ]
  },
  {
   "cell_type": "code",
   "execution_count": 70,
   "id": "86491a5b-9594-4f87-a8ca-0b3b153b228c",
   "metadata": {},
   "outputs": [],
   "source": [
    "delta_f = 1 / (N * delta_t)\n",
    "freq = delta_f * (np.arange(N) - N//2)"
   ]
  },
  {
   "cell_type": "code",
   "execution_count": 81,
   "id": "f8a209c7-f716-46f8-ba5a-6acd67d652cc",
   "metadata": {},
   "outputs": [
    {
     "data": {
      "text/plain": [
       "Text(0, 0.5, 'Spectral density')"
      ]
     },
     "execution_count": 81,
     "metadata": {},
     "output_type": "execute_result"
    }
   ],
   "source": [
    "plt.figure()\n",
    "plt.semilogy(24 * 60 * freq, S)\n",
    "plt.xlabel(\"Frequency (1 / day)\")\n",
    "plt.ylabel(\"Spectral density\")\n"
   ]
  },
  {
   "cell_type": "code",
   "execution_count": 77,
   "id": "5c0cfef9-d03e-4859-9bf4-55f5daa8635b",
   "metadata": {},
   "outputs": [
    {
     "data": {
      "text/plain": [
       "0.09995117187500001"
      ]
     },
     "execution_count": 77,
     "metadata": {},
     "output_type": "execute_result"
    }
   ],
   "source": [
    "max(freq)"
   ]
  },
  {
   "cell_type": "code",
   "execution_count": 79,
   "id": "4569346a-36f3-4b03-8524-3e611571e75e",
   "metadata": {},
   "outputs": [
    {
     "data": {
      "text/plain": [
       "0.07031250000000001"
      ]
     },
     "execution_count": 79,
     "metadata": {},
     "output_type": "execute_result"
    }
   ],
   "source": [
    "delta_f * 24 * 60"
   ]
  },
  {
   "cell_type": "code",
   "execution_count": 96,
   "id": "b6c9ce3d-23fd-4b2c-a840-4d577d7d2bd9",
   "metadata": {},
   "outputs": [],
   "source": [
    "def autocorrelate(x, mode='full'):\n",
    "    # return np.correlate(gen_pu, gen_pu, mode='full')\n",
    "    L = len(x)\n",
    "    Rx = np.zeros_like(x)\n",
    "    for n in range(L):\n",
    "        Rx[n] = np.dot(x[:L-n], x[n:]) / (L - n)\n",
    "    return Rx"
   ]
  },
  {
   "cell_type": "code",
   "execution_count": 101,
   "id": "5042e07e-f9d6-4acc-8ccc-e87b653e1009",
   "metadata": {},
   "outputs": [],
   "source": [
    "Rxx = autocorrelate(gen_pu)"
   ]
  },
  {
   "cell_type": "code",
   "execution_count": null,
   "id": "79376eff-0d49-47bc-8154-2bab5960daeb",
   "metadata": {},
   "outputs": [],
   "source": [
    "Rx = aut"
   ]
  },
  {
   "cell_type": "code",
   "execution_count": 84,
   "id": "f4a685f6-63e2-469f-aa8e-4bf170db5381",
   "metadata": {},
   "outputs": [
    {
     "data": {
      "text/plain": [
       "(204799,)"
      ]
     },
     "execution_count": 84,
     "metadata": {},
     "output_type": "execute_result"
    }
   ],
   "source": [
    "Rxx.shape"
   ]
  },
  {
   "cell_type": "code",
   "execution_count": 99,
   "id": "5cff0805-bb39-4166-976d-64adaee773b7",
   "metadata": {},
   "outputs": [
    {
     "data": {
      "text/plain": [
       "[<matplotlib.lines.Line2D at 0x7f7a445eea60>]"
      ]
     },
     "execution_count": 99,
     "metadata": {},
     "output_type": "execute_result"
    }
   ],
   "source": [
    "plt.figure()\n",
    "plt.plot(np.arange(len(Rxx)) * delta_t / 24 / 60, Rxx)"
   ]
  },
  {
   "cell_type": "code",
   "execution_count": 100,
   "id": "ca6f93bf-846d-481d-a86a-2b8bed8ad199",
   "metadata": {},
   "outputs": [
    {
     "name": "stderr",
     "output_type": "stream",
     "text": [
      "/home/sean/code/renewableopt/.hatch/jupyter/lib/python3.8/site-packages/matplotlib/cbook/__init__.py:1345: ComplexWarning: Casting complex values to real discards the imaginary part\n",
      "  return np.asarray(x, float)\n"
     ]
    },
    {
     "data": {
      "text/plain": [
       "[<matplotlib.lines.Line2D at 0x7f7a3ffc0370>]"
      ]
     },
     "execution_count": 100,
     "metadata": {},
     "output_type": "execute_result"
    }
   ],
   "source": [
    "plt.figure()\n",
    "plt.plot(fft(Rxx))"
   ]
  },
  {
   "cell_type": "code",
   "execution_count": 80,
   "id": "56f41d9d-1ccb-45c2-8fa9-380306f390e7",
   "metadata": {},
   "outputs": [
    {
     "data": {
      "text/plain": [
       "14.222222222222223"
      ]
     },
     "execution_count": 80,
     "metadata": {},
     "output_type": "execute_result"
    }
   ],
   "source": [
    "1 / delta_f / 24 / 60"
   ]
  },
  {
   "cell_type": "code",
   "execution_count": 67,
   "id": "de6ec76d-b2ba-42b9-9bd0-9c9745f721ae",
   "metadata": {},
   "outputs": [
    {
     "data": {
      "text/plain": [
       "array([0, 1, 2, 3, 4, 5, 6, 7, 8, 9])"
      ]
     },
     "execution_count": 67,
     "metadata": {},
     "output_type": "execute_result"
    }
   ],
   "source": [
    "np.arange(10)"
   ]
  },
  {
   "cell_type": "code",
   "execution_count": 64,
   "id": "55fbb2ba-53dc-432d-a257-18ea86848f11",
   "metadata": {},
   "outputs": [
    {
     "data": {
      "text/plain": [
       "5.0"
      ]
     },
     "execution_count": 64,
     "metadata": {},
     "output_type": "execute_result"
    }
   ],
   "source": [
    "min(t[1:] - t[:-1])"
   ]
  },
  {
   "cell_type": "code",
   "execution_count": 61,
   "id": "2e506699-8dbf-4ea5-94b2-8dff2c9888ed",
   "metadata": {},
   "outputs": [
    {
     "ename": "TypeError",
     "evalue": "isclose() missing 1 required positional argument: 'b'",
     "output_type": "error",
     "traceback": [
      "\u001b[0;31m---------------------------------------------------------------------------\u001b[0m",
      "\u001b[0;31mTypeError\u001b[0m                                 Traceback (most recent call last)",
      "Cell \u001b[0;32mIn[61], line 1\u001b[0m\n\u001b[0;32m----> 1\u001b[0m \u001b[43mnp\u001b[49m\u001b[38;5;241;43m.\u001b[39;49m\u001b[43misclose\u001b[49m\u001b[43m(\u001b[49m\u001b[38;5;241;43m1\u001b[39;49m\u001b[43m)\u001b[49m\n",
      "File \u001b[0;32m<__array_function__ internals>:198\u001b[0m, in \u001b[0;36misclose\u001b[0;34m(*args, **kwargs)\u001b[0m\n",
      "\u001b[0;31mTypeError\u001b[0m: isclose() missing 1 required positional argument: 'b'"
     ]
    }
   ],
   "source": [
    "np.isclose(1)"
   ]
  },
  {
   "cell_type": "code",
   "execution_count": null,
   "id": "bc64d7a9-f01a-414a-a6cb-186dc12fb4ad",
   "metadata": {},
   "outputs": [],
   "source": []
  },
  {
   "cell_type": "code",
   "execution_count": 46,
   "id": "34bee23b-0a17-4c41-805f-3bf356f94d48",
   "metadata": {},
   "outputs": [
    {
     "data": {
      "text/plain": [
       "[<matplotlib.lines.Line2D at 0x7f7a47b67700>]"
      ]
     },
     "execution_count": 46,
     "metadata": {},
     "output_type": "execute_result"
    }
   ],
   "source": [
    "plt.plot(S)"
   ]
  },
  {
   "cell_type": "code",
   "execution_count": 33,
   "id": "1c323c28-cfe6-4501-850c-893cf5f49508",
   "metadata": {},
   "outputs": [
    {
     "data": {
      "text/plain": [
       "2635"
      ]
     },
     "execution_count": 33,
     "metadata": {},
     "output_type": "execute_result"
    }
   ],
   "source": [
    "N"
   ]
  },
  {
   "cell_type": "code",
   "execution_count": 23,
   "id": "bdfa771f-a2aa-4c76-900b-897ab772e282",
   "metadata": {},
   "outputs": [],
   "source": [
    "a = slice(10, 15)"
   ]
  },
  {
   "cell_type": "code",
   "execution_count": 12,
   "id": "c6d7303c-47c9-438f-b16b-c32720fe9b69",
   "metadata": {},
   "outputs": [
    {
     "data": {
      "text/plain": [
       "array([0., 0., 0., 0., 0.])"
      ]
     },
     "execution_count": 12,
     "metadata": {},
     "output_type": "execute_result"
    }
   ],
   "source": [
    "gen_pu[a]"
   ]
  },
  {
   "cell_type": "code",
   "execution_count": 16,
   "id": "8c6f5172-f47c-4c1e-b9ed-d579ce348170",
   "metadata": {},
   "outputs": [
    {
     "data": {
      "text/plain": [
       "15"
      ]
     },
     "execution_count": 16,
     "metadata": {},
     "output_type": "execute_result"
    }
   ],
   "source": [
    "a.stop"
   ]
  }
 ],
 "metadata": {
  "kernelspec": {
   "display_name": "Python 3 (ipykernel)",
   "language": "python",
   "name": "python3"
  },
  "language_info": {
   "codemirror_mode": {
    "name": "ipython",
    "version": 3
   },
   "file_extension": ".py",
   "mimetype": "text/x-python",
   "name": "python",
   "nbconvert_exporter": "python",
   "pygments_lexer": "ipython3",
   "version": "3.8.10"
  }
 },
 "nbformat": 4,
 "nbformat_minor": 5
}
