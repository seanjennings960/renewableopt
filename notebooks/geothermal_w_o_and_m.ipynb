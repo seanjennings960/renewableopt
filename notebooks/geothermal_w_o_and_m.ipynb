{
 "cells": [
  {
   "cell_type": "code",
   "execution_count": 1,
   "id": "d2b120a1",
   "metadata": {},
   "outputs": [],
   "source": [
    "import numpy as np"
   ]
  },
  {
   "cell_type": "code",
   "execution_count": 17,
   "id": "887e80f8",
   "metadata": {},
   "outputs": [],
   "source": [
    "P_rated = 49  # MW\n",
    "m = 3.25/P_rated * 1000  # 1000 USD/MW-yr == USD/KW-yr\n",
    "r = 0.05  # discount rate\n",
    "T = 30  # yr"
   ]
  },
  {
   "cell_type": "code",
   "execution_count": 18,
   "id": "d5db4464",
   "metadata": {},
   "outputs": [
    {
     "data": {
      "text/plain": [
       "66.32653061224491"
      ]
     },
     "execution_count": 18,
     "metadata": {},
     "output_type": "execute_result"
    }
   ],
   "source": [
    "m"
   ]
  },
  {
   "cell_type": "code",
   "execution_count": 19,
   "id": "4b912b40",
   "metadata": {},
   "outputs": [
    {
     "name": "stdout",
     "output_type": "stream",
     "text": [
      "388.4349199257851\n",
      "1030.5416242928993\n"
     ]
    }
   ],
   "source": [
    "for m_i in [25, m]:\n",
    "    print(m_i / r * (1 - np.exp(-r * T)))"
   ]
  },
  {
   "cell_type": "code",
   "execution_count": 8,
   "id": "3a7d9a14",
   "metadata": {},
   "outputs": [
    {
     "name": "stdout",
     "output_type": "stream",
     "text": [
      "1030.5416242928993\n"
     ]
    }
   ],
   "source": [
    "print(lifetime_o_and_m)"
   ]
  }
 ],
 "metadata": {
  "kernelspec": {
   "display_name": "Python 3 (ipykernel)",
   "language": "python",
   "name": "python3"
  },
  "language_info": {
   "codemirror_mode": {
    "name": "ipython",
    "version": 3
   },
   "file_extension": ".py",
   "mimetype": "text/x-python",
   "name": "python",
   "nbconvert_exporter": "python",
   "pygments_lexer": "ipython3",
   "version": "3.8.10"
  }
 },
 "nbformat": 4,
 "nbformat_minor": 5
}
