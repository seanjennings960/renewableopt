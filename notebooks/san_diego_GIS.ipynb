{
 "cells": [
  {
   "cell_type": "code",
   "execution_count": 1,
   "id": "9ab415b8",
   "metadata": {},
   "outputs": [],
   "source": [
    "%matplotlib qt"
   ]
  },
  {
   "cell_type": "code",
   "execution_count": 37,
   "id": "51103a6d",
   "metadata": {},
   "outputs": [],
   "source": [
    "from renewableopt.initial_data_wrangling import load_geojson\n",
    "from shapely import Point, LineString\n",
    "import geopandas as gp\n",
    "import contextily as cx"
   ]
  },
  {
   "cell_type": "code",
   "execution_count": 3,
   "id": "5896c911",
   "metadata": {},
   "outputs": [],
   "source": [
    "PROJ_M = 3857  # Mercator projection in meters\n",
    "PROJ_GEO = 4326  # Geodetic projection\n",
    "m_per_mile = 1609.34  # meters/mile"
   ]
  },
  {
   "cell_type": "code",
   "execution_count": 4,
   "id": "67c0b45c",
   "metadata": {},
   "outputs": [
    {
     "name": "stdout",
     "output_type": "stream",
     "text": [
      "68\n",
      "Index(['OBJECTID', 'Shape_Length', 'Shape_Area', 'Name', 'CODE', 'CREATEDBY',\n",
      "       'CREATEDDATE', 'UPDATEDBY', 'DOCYR', 'DOCNO', 'DOCDATE', 'SUBJECT',\n",
      "       'UPDATEDATE', 'GlobalID', 'geometry'],\n",
      "      dtype='object')\n"
     ]
    }
   ],
   "source": [
    "geo = load_geojson()\n",
    "geo_m = geo.to_crs(PROJ_M)"
   ]
  },
  {
   "cell_type": "code",
   "execution_count": 5,
   "id": "ae23ab7a",
   "metadata": {},
   "outputs": [
    {
     "data": {
      "text/plain": [
       "<Geographic 2D CRS: EPSG:4326>\n",
       "Name: WGS 84\n",
       "Axis Info [ellipsoidal]:\n",
       "- Lat[north]: Geodetic latitude (degree)\n",
       "- Lon[east]: Geodetic longitude (degree)\n",
       "Area of Use:\n",
       "- name: World.\n",
       "- bounds: (-180.0, -90.0, 180.0, 90.0)\n",
       "Datum: World Geodetic System 1984 ensemble\n",
       "- Ellipsoid: WGS 84\n",
       "- Prime Meridian: Greenwich"
      ]
     },
     "execution_count": 5,
     "metadata": {},
     "output_type": "execute_result"
    }
   ],
   "source": [
    "geo.crs"
   ]
  },
  {
   "cell_type": "code",
   "execution_count": 6,
   "id": "379a26cc",
   "metadata": {},
   "outputs": [
    {
     "data": {
      "text/plain": [
       "<Projected CRS: EPSG:3857>\n",
       "Name: WGS 84 / Pseudo-Mercator\n",
       "Axis Info [cartesian]:\n",
       "- X[east]: Easting (metre)\n",
       "- Y[north]: Northing (metre)\n",
       "Area of Use:\n",
       "- name: World between 85.06°S and 85.06°N.\n",
       "- bounds: (-180.0, -85.06, 180.0, 85.06)\n",
       "Coordinate Operation:\n",
       "- name: Popular Visualisation Pseudo-Mercator\n",
       "- method: Popular Visualisation Pseudo Mercator\n",
       "Datum: World Geodetic System 1984 ensemble\n",
       "- Ellipsoid: WGS 84\n",
       "- Prime Meridian: Greenwich"
      ]
     },
     "execution_count": 6,
     "metadata": {},
     "output_type": "execute_result"
    }
   ],
   "source": [
    "geo_m.crs"
   ]
  },
  {
   "cell_type": "code",
   "execution_count": 25,
   "id": "8c116e40",
   "metadata": {},
   "outputs": [],
   "source": [
    "buffered = geo_m.buffer(50 * m_per_mile).to_crs(4326)\n",
    "boundary = gp.GeoSeries(buffered.unary_union, crs=PROJ_GEO).boundary"
   ]
  },
  {
   "cell_type": "code",
   "execution_count": 46,
   "id": "113b379f",
   "metadata": {},
   "outputs": [],
   "source": [
    "transmission_line = gp.GeoSeries(LineString([\n",
    "    (-115.59711027151646, 33.15575764142154),\n",
    "    (-115.58043553007757, 32.81298135361883),\n",
    "    (-116.37694431023587, 32.61308515918179),\n",
    "#     (-116.129125, 32.619179),\n",
    "    (-116.94686005756834, 32.7517890818103)\n",
    "]), crs=PROJ_GEO)"
   ]
  },
  {
   "cell_type": "code",
   "execution_count": 43,
   "id": "7448f31e",
   "metadata": {},
   "outputs": [],
   "source": [
    "geothermal_plants = gp.GeoSeries([\n",
    "#     Point(-115.61667, 33.1633)  # Salton Sea Geothermal\n",
    "    Point(-115.647567, 33.157561),\n",
    "    Point(-115.639084, 33.156842),\n",
    "    Point(-115.643986, 33.159869),\n",
    "    Point(-115.639062, 33.155532), \n",
    "    Point(-115.638800, 33.152789), \n",
    "    Point(-115.616119, 33.164385), \n",
    "    Point(-115.619542, 33.162710),\n",
    "    Point(-115.604832, 33.177273), \n",
    "    Point(-115.565306, 33.177459), \n",
    "], crs=PROJ_GEO)\n",
    "\n",
    "solar_plants = gp.GeoSeries([\n",
    "    Point(-116.129125, 32.619179),\n",
    "    Point(-116.001926, 33.10889),\n",
    "    Point(-116.032298, 33.119983)\n",
    "], crs=PROJ_GEO)\n"
   ]
  },
  {
   "cell_type": "code",
   "execution_count": 44,
   "id": "57b73ce8",
   "metadata": {},
   "outputs": [
    {
     "data": {
      "text/plain": [
       "0    LINESTRING (-116.85560 31.94281, -116.86851 31...\n",
       "dtype: geometry"
      ]
     },
     "execution_count": 44,
     "metadata": {},
     "output_type": "execute_result"
    }
   ],
   "source": [
    "boundary"
   ]
  },
  {
   "cell_type": "code",
   "execution_count": 47,
   "id": "13548a88",
   "metadata": {},
   "outputs": [
    {
     "data": {
      "text/plain": [
       "<matplotlib.legend.Legend at 0x7ff6216dda00>"
      ]
     },
     "execution_count": 47,
     "metadata": {},
     "output_type": "execute_result"
    }
   ],
   "source": [
    "base = geo.to_crs(PROJ_M).plot(alpha=0.5)\n",
    "base = boundary.to_crs(PROJ_M).plot(ax=base)\n",
    "cx.add_basemap(base)\n",
    "geothermal_plants.to_crs(PROJ_M).plot(color='orange', ax=base, label=\"Geothermal\")\n",
    "solar_plants.to_crs(PROJ_M).plot(color='red', ax=base, label=\"Solar/Battery Hybrid\")\n",
    "transmission_line.to_crs(PROJ_M).plot(color='yellow', ax=base, label=\"Transmission\")\n",
    "base.axis(\"off\")\n",
    "base.legend()"
   ]
  },
  {
   "cell_type": "code",
   "execution_count": null,
   "id": "b9b9edb4",
   "metadata": {},
   "outputs": [],
   "source": []
  }
 ],
 "metadata": {
  "kernelspec": {
   "display_name": "Python 3 (ipykernel)",
   "language": "python",
   "name": "python3"
  },
  "language_info": {
   "codemirror_mode": {
    "name": "ipython",
    "version": 3
   },
   "file_extension": ".py",
   "mimetype": "text/x-python",
   "name": "python",
   "nbconvert_exporter": "python",
   "pygments_lexer": "ipython3",
   "version": "3.8.10"
  }
 },
 "nbformat": 4,
 "nbformat_minor": 5
}
