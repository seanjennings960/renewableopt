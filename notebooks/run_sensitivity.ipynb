{
 "cells": [
  {
   "cell_type": "code",
   "execution_count": 2,
   "id": "6b898ef0",
   "metadata": {},
   "outputs": [],
   "source": [
    "%load_ext autoreload\n",
    "%autoreload 2"
   ]
  },
  {
   "cell_type": "code",
   "execution_count": 3,
   "id": "4b0034ea",
   "metadata": {},
   "outputs": [],
   "source": [
    "%matplotlib qt"
   ]
  },
  {
   "cell_type": "code",
   "execution_count": 4,
   "id": "a84eb618",
   "metadata": {},
   "outputs": [],
   "source": [
    "from renewableopt.data import DATASET_DIR, load_excel, write_results\n",
    "from renewableopt.sensitivity import (\n",
    "    run_sensitivity, sensitivity_dataframe, create_plotting_artifact,\n",
    "    plot_yearly_peak_dispatch)\n",
    "from renewableopt.optimal_design import visualize\n",
    "import numpy as np"
   ]
  },
  {
   "cell_type": "code",
   "execution_count": 6,
   "id": "2508a202",
   "metadata": {},
   "outputs": [],
   "source": [
    "active_dir = DATASET_DIR / \"sensitivity_check\" "
   ]
  },
  {
   "cell_type": "code",
   "execution_count": 7,
   "id": "6b19fc2f",
   "metadata": {},
   "outputs": [],
   "source": [
    "filename = active_dir / \"sensitivity.xlsx\"\n",
    "costs, loads, generation = load_excel(filename)"
   ]
  },
  {
   "cell_type": "code",
   "execution_count": 8,
   "id": "0a35970a",
   "metadata": {},
   "outputs": [
    {
     "data": {
      "text/html": [
       "<div>\n",
       "<style scoped>\n",
       "    .dataframe tbody tr th:only-of-type {\n",
       "        vertical-align: middle;\n",
       "    }\n",
       "\n",
       "    .dataframe tbody tr th {\n",
       "        vertical-align: top;\n",
       "    }\n",
       "\n",
       "    .dataframe thead th {\n",
       "        text-align: right;\n",
       "    }\n",
       "</style>\n",
       "<table border=\"1\" class=\"dataframe\">\n",
       "  <thead>\n",
       "    <tr style=\"text-align: right;\">\n",
       "      <th></th>\n",
       "      <th>solar</th>\n",
       "      <th>wind</th>\n",
       "      <th>geothermal</th>\n",
       "    </tr>\n",
       "    <tr>\n",
       "      <th>Time (hr)</th>\n",
       "      <th></th>\n",
       "      <th></th>\n",
       "      <th></th>\n",
       "    </tr>\n",
       "  </thead>\n",
       "  <tbody>\n",
       "    <tr>\n",
       "      <th>20.000000</th>\n",
       "      <td>0.0</td>\n",
       "      <td>1.000000</td>\n",
       "      <td>1</td>\n",
       "    </tr>\n",
       "    <tr>\n",
       "      <th>20.083333</th>\n",
       "      <td>0.0</td>\n",
       "      <td>1.000000</td>\n",
       "      <td>1</td>\n",
       "    </tr>\n",
       "    <tr>\n",
       "      <th>20.166667</th>\n",
       "      <td>0.0</td>\n",
       "      <td>1.000000</td>\n",
       "      <td>1</td>\n",
       "    </tr>\n",
       "    <tr>\n",
       "      <th>20.250000</th>\n",
       "      <td>0.0</td>\n",
       "      <td>1.000000</td>\n",
       "      <td>1</td>\n",
       "    </tr>\n",
       "    <tr>\n",
       "      <th>20.333333</th>\n",
       "      <td>0.0</td>\n",
       "      <td>1.000000</td>\n",
       "      <td>1</td>\n",
       "    </tr>\n",
       "    <tr>\n",
       "      <th>...</th>\n",
       "      <td>...</td>\n",
       "      <td>...</td>\n",
       "      <td>...</td>\n",
       "    </tr>\n",
       "    <tr>\n",
       "      <th>49.666667</th>\n",
       "      <td>0.0</td>\n",
       "      <td>0.092107</td>\n",
       "      <td>1</td>\n",
       "    </tr>\n",
       "    <tr>\n",
       "      <th>49.750000</th>\n",
       "      <td>0.0</td>\n",
       "      <td>0.091078</td>\n",
       "      <td>1</td>\n",
       "    </tr>\n",
       "    <tr>\n",
       "      <th>49.833333</th>\n",
       "      <td>0.0</td>\n",
       "      <td>0.090049</td>\n",
       "      <td>1</td>\n",
       "    </tr>\n",
       "    <tr>\n",
       "      <th>49.916667</th>\n",
       "      <td>0.0</td>\n",
       "      <td>0.089020</td>\n",
       "      <td>1</td>\n",
       "    </tr>\n",
       "    <tr>\n",
       "      <th>50.000000</th>\n",
       "      <td>0.0</td>\n",
       "      <td>0.087990</td>\n",
       "      <td>1</td>\n",
       "    </tr>\n",
       "  </tbody>\n",
       "</table>\n",
       "<p>361 rows × 3 columns</p>\n",
       "</div>"
      ],
      "text/plain": [
       "           solar      wind  geothermal\n",
       "Time (hr)                             \n",
       "20.000000    0.0  1.000000           1\n",
       "20.083333    0.0  1.000000           1\n",
       "20.166667    0.0  1.000000           1\n",
       "20.250000    0.0  1.000000           1\n",
       "20.333333    0.0  1.000000           1\n",
       "...          ...       ...         ...\n",
       "49.666667    0.0  0.092107           1\n",
       "49.750000    0.0  0.091078           1\n",
       "49.833333    0.0  0.090049           1\n",
       "49.916667    0.0  0.089020           1\n",
       "50.000000    0.0  0.087990           1\n",
       "\n",
       "[361 rows x 3 columns]"
      ]
     },
     "execution_count": 8,
     "metadata": {},
     "output_type": "execute_result"
    }
   ],
   "source": [
    "generation[20:50]"
   ]
  },
  {
   "cell_type": "code",
   "execution_count": 9,
   "id": "c7729b36",
   "metadata": {},
   "outputs": [
    {
     "data": {
      "text/html": [
       "<div>\n",
       "<style scoped>\n",
       "    .dataframe tbody tr th:only-of-type {\n",
       "        vertical-align: middle;\n",
       "    }\n",
       "\n",
       "    .dataframe tbody tr th {\n",
       "        vertical-align: top;\n",
       "    }\n",
       "\n",
       "    .dataframe thead th {\n",
       "        text-align: right;\n",
       "    }\n",
       "</style>\n",
       "<table border=\"1\" class=\"dataframe\">\n",
       "  <thead>\n",
       "    <tr style=\"text-align: right;\">\n",
       "      <th></th>\n",
       "      <th>Scenario 1: Base Case</th>\n",
       "      <th>Scenario 2: No Geothermal</th>\n",
       "    </tr>\n",
       "  </thead>\n",
       "  <tbody>\n",
       "    <tr>\n",
       "      <th>Solar (K/MW)</th>\n",
       "      <td>1250</td>\n",
       "      <td>1250</td>\n",
       "    </tr>\n",
       "    <tr>\n",
       "      <th>Wind cost (K/MW)</th>\n",
       "      <td>1250</td>\n",
       "      <td>1250</td>\n",
       "    </tr>\n",
       "    <tr>\n",
       "      <th>Geothermal cost (K/MW)</th>\n",
       "      <td>3500</td>\n",
       "      <td>100000000</td>\n",
       "    </tr>\n",
       "    <tr>\n",
       "      <th>Battery energy cost (K/MWh)</th>\n",
       "      <td>300</td>\n",
       "      <td>300</td>\n",
       "    </tr>\n",
       "    <tr>\n",
       "      <th>Battery power cost (K/MW)</th>\n",
       "      <td>350</td>\n",
       "      <td>350</td>\n",
       "    </tr>\n",
       "  </tbody>\n",
       "</table>\n",
       "</div>"
      ],
      "text/plain": [
       "                             Scenario 1: Base Case  Scenario 2: No Geothermal\n",
       "Solar (K/MW)                                  1250                       1250\n",
       "Wind cost (K/MW)                              1250                       1250\n",
       "Geothermal cost (K/MW)                        3500                  100000000\n",
       "Battery energy cost (K/MWh)                    300                        300\n",
       "Battery power cost (K/MW)                      350                        350"
      ]
     },
     "execution_count": 9,
     "metadata": {},
     "output_type": "execute_result"
    }
   ],
   "source": [
    "costs"
   ]
  },
  {
   "cell_type": "code",
   "execution_count": 10,
   "id": "de0157ae",
   "metadata": {},
   "outputs": [
    {
     "data": {
      "text/html": [
       "<div>\n",
       "<style scoped>\n",
       "    .dataframe tbody tr th:only-of-type {\n",
       "        vertical-align: middle;\n",
       "    }\n",
       "\n",
       "    .dataframe tbody tr th {\n",
       "        vertical-align: top;\n",
       "    }\n",
       "\n",
       "    .dataframe thead th {\n",
       "        text-align: right;\n",
       "    }\n",
       "</style>\n",
       "<table border=\"1\" class=\"dataframe\">\n",
       "  <thead>\n",
       "    <tr style=\"text-align: right;\">\n",
       "      <th></th>\n",
       "      <th>Base Case</th>\n",
       "      <th>100%</th>\n",
       "      <th>75%</th>\n",
       "      <th>50%</th>\n",
       "      <th>25%</th>\n",
       "    </tr>\n",
       "  </thead>\n",
       "  <tbody>\n",
       "    <tr>\n",
       "      <th>0</th>\n",
       "      <td>37.543492</td>\n",
       "      <td>31.977903</td>\n",
       "      <td>33.369300</td>\n",
       "      <td>34.760697</td>\n",
       "      <td>36.152095</td>\n",
       "    </tr>\n",
       "    <tr>\n",
       "      <th>1</th>\n",
       "      <td>37.367223</td>\n",
       "      <td>31.827765</td>\n",
       "      <td>33.212630</td>\n",
       "      <td>34.597494</td>\n",
       "      <td>35.982358</td>\n",
       "    </tr>\n",
       "    <tr>\n",
       "      <th>2</th>\n",
       "      <td>37.269834</td>\n",
       "      <td>31.744814</td>\n",
       "      <td>33.126069</td>\n",
       "      <td>34.507324</td>\n",
       "      <td>35.888579</td>\n",
       "    </tr>\n",
       "    <tr>\n",
       "      <th>3</th>\n",
       "      <td>37.098413</td>\n",
       "      <td>31.598805</td>\n",
       "      <td>32.973707</td>\n",
       "      <td>34.348609</td>\n",
       "      <td>35.723511</td>\n",
       "    </tr>\n",
       "    <tr>\n",
       "      <th>4</th>\n",
       "      <td>37.016007</td>\n",
       "      <td>31.528615</td>\n",
       "      <td>32.900463</td>\n",
       "      <td>34.272311</td>\n",
       "      <td>35.644159</td>\n",
       "    </tr>\n",
       "    <tr>\n",
       "      <th>...</th>\n",
       "      <td>...</td>\n",
       "      <td>...</td>\n",
       "      <td>...</td>\n",
       "      <td>...</td>\n",
       "      <td>...</td>\n",
       "    </tr>\n",
       "    <tr>\n",
       "      <th>105403</th>\n",
       "      <td>41.933907</td>\n",
       "      <td>35.861970</td>\n",
       "      <td>37.305072</td>\n",
       "      <td>38.897939</td>\n",
       "      <td>40.430899</td>\n",
       "    </tr>\n",
       "    <tr>\n",
       "      <th>105404</th>\n",
       "      <td>41.725028</td>\n",
       "      <td>35.683337</td>\n",
       "      <td>37.119251</td>\n",
       "      <td>38.704183</td>\n",
       "      <td>40.229507</td>\n",
       "    </tr>\n",
       "    <tr>\n",
       "      <th>105405</th>\n",
       "      <td>41.518353</td>\n",
       "      <td>35.506588</td>\n",
       "      <td>36.935389</td>\n",
       "      <td>38.512470</td>\n",
       "      <td>40.030240</td>\n",
       "    </tr>\n",
       "    <tr>\n",
       "      <th>105406</th>\n",
       "      <td>41.294051</td>\n",
       "      <td>35.314764</td>\n",
       "      <td>36.735847</td>\n",
       "      <td>38.304408</td>\n",
       "      <td>39.813977</td>\n",
       "    </tr>\n",
       "    <tr>\n",
       "      <th>105407</th>\n",
       "      <td>41.064467</td>\n",
       "      <td>35.118423</td>\n",
       "      <td>36.531605</td>\n",
       "      <td>38.091445</td>\n",
       "      <td>39.592622</td>\n",
       "    </tr>\n",
       "  </tbody>\n",
       "</table>\n",
       "<p>105408 rows × 5 columns</p>\n",
       "</div>"
      ],
      "text/plain": [
       "        Base Case       100%        75%        50%        25%\n",
       "0       37.543492  31.977903  33.369300  34.760697  36.152095\n",
       "1       37.367223  31.827765  33.212630  34.597494  35.982358\n",
       "2       37.269834  31.744814  33.126069  34.507324  35.888579\n",
       "3       37.098413  31.598805  32.973707  34.348609  35.723511\n",
       "4       37.016007  31.528615  32.900463  34.272311  35.644159\n",
       "...           ...        ...        ...        ...        ...\n",
       "105403  41.933907  35.861970  37.305072  38.897939  40.430899\n",
       "105404  41.725028  35.683337  37.119251  38.704183  40.229507\n",
       "105405  41.518353  35.506588  36.935389  38.512470  40.030240\n",
       "105406  41.294051  35.314764  36.735847  38.304408  39.813977\n",
       "105407  41.064467  35.118423  36.531605  38.091445  39.592622\n",
       "\n",
       "[105408 rows x 5 columns]"
      ]
     },
     "execution_count": 10,
     "metadata": {},
     "output_type": "execute_result"
    }
   ],
   "source": [
    "loads"
   ]
  },
  {
   "cell_type": "markdown",
   "id": "f0b12022",
   "metadata": {},
   "source": [
    "# Outputs of Sensitivity\n",
    "\n",
    "1. Optimal Capacities\n",
    "2. Day at which peak occurs\n",
    "3. Total cost of capacity\n",
    "4. Names of Scenarios\n",
    "5. Dispatch stack for each scenario\n",
    "6. Type of clustering required"
   ]
  },
  {
   "cell_type": "code",
   "execution_count": 11,
   "id": "5fc1f53e",
   "metadata": {},
   "outputs": [
    {
     "name": "stdout",
     "output_type": "stream",
     "text": [
      "Base Case Scenario 1: Base Case\n",
      "Base Case Scenario 2: No Geothermal\n",
      "100% Scenario 1: Base Case\n",
      "100% Scenario 2: No Geothermal\n",
      "75% Scenario 1: Base Case\n",
      "75% Scenario 2: No Geothermal\n",
      "50% Scenario 1: Base Case\n",
      "50% Scenario 2: No Geothermal\n",
      "25% Scenario 1: Base Case\n",
      "25% Scenario 2: No Geothermal\n"
     ]
    }
   ],
   "source": [
    "results = run_sensitivity(generation, loads, costs)"
   ]
  },
  {
   "cell_type": "code",
   "execution_count": 231,
   "id": "1f40ddcd",
   "metadata": {},
   "outputs": [],
   "source": [
    "_, dispatch = results[(\"Base Case\", \"Scenario 2: No Geothermal\")]\n",
    "# _, dispatch = results[(\"Base Case\", \"Scenario 1: Base Case\")]"
   ]
  },
  {
   "cell_type": "code",
   "execution_count": 79,
   "id": "baaa26b9",
   "metadata": {},
   "outputs": [],
   "source": [
    "def print_capacity_result(dispatch):\n",
    "    res = dispatch.result\n",
    "    print(\"Battery energy (MWh):\", res.E_max)\n",
    "    print(\"Battery Power (MW):\", res.P_battery)\n",
    "    for i, source in enumerate(dispatch.sources):\n",
    "        print(f\"{source}: \", res.P_generation[i])\n",
    "    print(f\"Total cost (Million): \", res.total_cost / 1000)"
   ]
  },
  {
   "cell_type": "code",
   "execution_count": 80,
   "id": "69a8f5e7",
   "metadata": {},
   "outputs": [
    {
     "name": "stdout",
     "output_type": "stream",
     "text": [
      "Battery energy (MWh): 916.2450380146718\n",
      "Battery Power (MW): 417.2947644185242\n",
      "solar:  454.59624198194547\n",
      "wind:  7582.207582028922\n",
      "geothermal:  0.0\n",
      "Total cost (Million):  10466.93145896447\n"
     ]
    }
   ],
   "source": [
    "print_capacity_result(dispatch)"
   ]
  },
  {
   "cell_type": "code",
   "execution_count": null,
   "id": "a74da33c",
   "metadata": {},
   "outputs": [],
   "source": [
    "gen_pu = np.array(generation)"
   ]
  },
  {
   "cell_type": "markdown",
   "id": "d01f4cc6",
   "metadata": {},
   "source": [
    "# Check that worst cases are feasible"
   ]
  },
  {
   "cell_type": "code",
   "execution_count": 114,
   "id": "18485ea7",
   "metadata": {},
   "outputs": [],
   "source": [
    "worst_cases = dispatch.worst_cases()"
   ]
  },
  {
   "cell_type": "code",
   "execution_count": 120,
   "id": "3333ff5b",
   "metadata": {},
   "outputs": [],
   "source": [
    "def group_with_lowest_min(worst_cases):\n",
    "    worst_group = None\n",
    "    worst_soc = np.inf\n",
    "    for grp, disp in worst_cases.items():\n",
    "        min_soc = np.min(disp.soc)\n",
    "        if min_soc < worst_soc:\n",
    "            worst_soc = min_soc\n",
    "            worst_group = grp\n",
    "    return worst_group"
   ]
  },
  {
   "cell_type": "code",
   "execution_count": 121,
   "id": "e4bde557",
   "metadata": {},
   "outputs": [],
   "source": [
    "def group_with_lowest_max(worst_cases):\n",
    "    lowest_max_group = None\n",
    "    lowest_max_soc = np.inf\n",
    "    for grp, disp in worst_cases.items():\n",
    "        min_soc = np.max(disp.soc)\n",
    "        if min_soc < lowest_max_soc:\n",
    "            lowest_max_soc = min_soc\n",
    "            lowest_max_group = grp\n",
    "    return lowest_max_group"
   ]
  },
  {
   "cell_type": "code",
   "execution_count": 122,
   "id": "daea7e9a",
   "metadata": {},
   "outputs": [],
   "source": [
    "lowest_min_group = group_with_lowest_min(worst_cases)\n",
    "lowest_max_group = group_with_lowest_max(worst_cases)"
   ]
  },
  {
   "cell_type": "code",
   "execution_count": 123,
   "id": "78304315",
   "metadata": {},
   "outputs": [],
   "source": [
    "lowest_min_disp = worst_cases[lowest_min_group]\n",
    "lowest_max_disp = worst_cases[lowest_max_group]"
   ]
  },
  {
   "cell_type": "code",
   "execution_count": 126,
   "id": "407b2709",
   "metadata": {},
   "outputs": [
    {
     "name": "stdout",
     "output_type": "stream",
     "text": [
      "True\n",
      "False\n"
     ]
    }
   ],
   "source": [
    "print(lowest_min_disp.feasible)\n",
    "print(lowest_max_disp.feasible)"
   ]
  },
  {
   "cell_type": "markdown",
   "id": "2c5e6620",
   "metadata": {},
   "source": [
    "## Analysis\n",
    "Well, somehow optimization is not satisfying the worst case constraints.... There's a bug somewhere."
   ]
  },
  {
   "cell_type": "code",
   "execution_count": 99,
   "id": "c0989d00",
   "metadata": {
    "scrolled": true
   },
   "outputs": [
    {
     "name": "stdout",
     "output_type": "stream",
     "text": [
      "Battery energy (MWh): 916.2450380146718\n",
      "Battery Power (MW): 417.2947644185242\n",
      "solar:  454.59624198194547\n",
      "wind:  7582.207582028922\n",
      "geothermal:  0.0\n",
      "Total cost (Million):  10466.93145896447\n",
      "Battery energy (MWh): 916.2450380146718\n",
      "Battery Power (MW): 417.2947644185242\n",
      "solar:  454.59624198194547\n",
      "wind:  7582.207582028922\n",
      "geothermal:  0.0\n",
      "Total cost (Million):  10466.93145896447\n",
      "Battery energy (MWh): 916.2450380146718\n",
      "Battery Power (MW): 417.2947644185242\n",
      "solar:  454.59624198194547\n",
      "wind:  7582.207582028922\n",
      "geothermal:  0.0\n",
      "Total cost (Million):  10466.93145896447\n",
      "Battery energy (MWh): 916.2450380146718\n",
      "Battery Power (MW): 417.2947644185242\n",
      "solar:  454.59624198194547\n",
      "wind:  7582.207582028922\n",
      "geothermal:  0.0\n",
      "Total cost (Million):  10466.93145896447\n",
      "Battery energy (MWh): 916.2450380146718\n",
      "Battery Power (MW): 417.2947644185242\n",
      "solar:  454.59624198194547\n",
      "wind:  7582.207582028922\n",
      "geothermal:  0.0\n",
      "Total cost (Million):  10466.93145896447\n",
      "Battery energy (MWh): 916.2450380146718\n",
      "Battery Power (MW): 417.2947644185242\n",
      "solar:  454.59624198194547\n",
      "wind:  7582.207582028922\n",
      "geothermal:  0.0\n",
      "Total cost (Million):  10466.93145896447\n",
      "Battery energy (MWh): 916.2450380146718\n",
      "Battery Power (MW): 417.2947644185242\n",
      "solar:  454.59624198194547\n",
      "wind:  7582.207582028922\n",
      "geothermal:  0.0\n",
      "Total cost (Million):  10466.93145896447\n",
      "Battery energy (MWh): 916.2450380146718\n",
      "Battery Power (MW): 417.2947644185242\n",
      "solar:  454.59624198194547\n",
      "wind:  7582.207582028922\n",
      "geothermal:  0.0\n",
      "Total cost (Million):  10466.93145896447\n",
      "Battery energy (MWh): 916.2450380146718\n",
      "Battery Power (MW): 417.2947644185242\n",
      "solar:  454.59624198194547\n",
      "wind:  7582.207582028922\n",
      "geothermal:  0.0\n",
      "Total cost (Million):  10466.93145896447\n",
      "Battery energy (MWh): 916.2450380146718\n",
      "Battery Power (MW): 417.2947644185242\n",
      "solar:  454.59624198194547\n",
      "wind:  7582.207582028922\n",
      "geothermal:  0.0\n",
      "Total cost (Million):  10466.93145896447\n",
      "Battery energy (MWh): 916.2450380146718\n",
      "Battery Power (MW): 417.2947644185242\n",
      "solar:  454.59624198194547\n",
      "wind:  7582.207582028922\n",
      "geothermal:  0.0\n",
      "Total cost (Million):  10466.93145896447\n",
      "Battery energy (MWh): 916.2450380146718\n",
      "Battery Power (MW): 417.2947644185242\n",
      "solar:  454.59624198194547\n",
      "wind:  7582.207582028922\n",
      "geothermal:  0.0\n",
      "Total cost (Million):  10466.93145896447\n",
      "Battery energy (MWh): 916.2450380146718\n",
      "Battery Power (MW): 417.2947644185242\n",
      "solar:  454.59624198194547\n",
      "wind:  7582.207582028922\n",
      "geothermal:  0.0\n",
      "Total cost (Million):  10466.93145896447\n",
      "Battery energy (MWh): 916.2450380146718\n",
      "Battery Power (MW): 417.2947644185242\n",
      "solar:  454.59624198194547\n",
      "wind:  7582.207582028922\n",
      "geothermal:  0.0\n",
      "Total cost (Million):  10466.93145896447\n",
      "Battery energy (MWh): 916.2450380146718\n",
      "Battery Power (MW): 417.2947644185242\n",
      "solar:  454.59624198194547\n",
      "wind:  7582.207582028922\n",
      "geothermal:  0.0\n",
      "Total cost (Million):  10466.93145896447\n"
     ]
    }
   ],
   "source": [
    "for disp in worst_cases.values():\n",
    "    print_capacity_result(disp)"
   ]
  },
  {
   "cell_type": "code",
   "execution_count": 97,
   "id": "94fe6119",
   "metadata": {},
   "outputs": [
    {
     "data": {
      "image/png": "[encoded data removed]",
      "text/plain": [
       "<Figure size 640x480 with 2 Axes>"
      ]
     },
     "execution_count": 97,
     "metadata": {},
     "output_type": "execute_result"
    }
   ],
   "source": [
    "visualize.plot_stack(lowest_max_disp)"
   ]
  },
  {
   "cell_type": "markdown",
   "id": "e0cb493a",
   "metadata": {},
   "source": [
    "# Dispatch improvement"
   ]
  },
  {
   "cell_type": "code",
   "execution_count": 239,
   "id": "abc8c10e",
   "metadata": {
    "scrolled": true
   },
   "outputs": [],
   "source": [
    "def lowest_gen_dispatch(start_dispatch, delta_index, increment_amount):\n",
    "    new_dispatch = start_dispatch\n",
    "    i = 0\n",
    "    delta_P_gen = np.zeros(3)\n",
    "    delta_P_gen[delta_index] = -increment_amount\n",
    "    while new_dispatch.feasible:\n",
    "        last_feasible = new_dispatch\n",
    "#         print(f\"Incrementing {delta_P_gen * (i + 1)}\")\n",
    "#         print_capacity_result(new_dispatch)\n",
    "#         print(new_dispatch.time.shape)\n",
    "        new_dispatch = new_dispatch.increment_capacity(\n",
    "            0, 0, delta_P_gen, gen_pu\n",
    "        )\n",
    "        i += 1\n",
    "    return last_feasible\n"
   ]
  },
  {
   "cell_type": "code",
   "execution_count": 242,
   "id": "59f440f0",
   "metadata": {},
   "outputs": [],
   "source": [
    "DELTA_E = 50\n",
    "\n",
    "def lower_cost_dispatch(start):\n",
    "#     min_cost = start.result.total_cost\n",
    "#     new_dispatch = start.increment_capacity(\n",
    "#         0, DELTA_E, np.zeros(3), gen_pu)\n",
    "#     new_dispatch = lowest_wind_dispatch(new_dispatch)\n",
    "    min_cost = np.inf\n",
    "    new_dispatch = start\n",
    "    \n",
    "    i = 0\n",
    "    while min_cost > new_dispatch.result.total_cost:\n",
    "        best_dispatch = new_dispatch\n",
    "        min_cost = new_dispatch.result.total_cost\n",
    "        print(f\"Increment {i}\")\n",
    "        new_dispatch = lowest_gen_dispatch(\n",
    "            new_dispatch.increment_capacity(\n",
    "                0, DELTA_E, np.zeros(3), gen_pu), 1, 20\n",
    "        )\n",
    "        i += 1\n",
    "    return best_dispatch\n",
    "        "
   ]
  },
  {
   "cell_type": "code",
   "execution_count": 254,
   "id": "041b8d70",
   "metadata": {},
   "outputs": [
    {
     "data": {
      "text/plain": [
       "371373.68415"
      ]
     },
     "execution_count": 254,
     "metadata": {},
     "output_type": "execute_result"
    }
   ],
   "source": [
    "3500 * np.max(loads)"
   ]
  },
  {
   "cell_type": "code",
   "execution_count": 243,
   "id": "ebc0814a",
   "metadata": {},
   "outputs": [
    {
     "name": "stdout",
     "output_type": "stream",
     "text": [
      "Increment 0\n",
      "Increment 1\n",
      "Increment 2\n",
      "Increment 3\n",
      "Increment 4\n",
      "Increment 5\n",
      "Increment 6\n",
      "Increment 7\n",
      "Increment 8\n",
      "Increment 9\n",
      "Increment 10\n",
      "Increment 11\n",
      "Increment 12\n",
      "Increment 13\n",
      "Increment 14\n",
      "Increment 15\n",
      "Increment 16\n",
      "Increment 17\n",
      "Increment 18\n",
      "Increment 19\n",
      "Increment 20\n",
      "Increment 21\n",
      "Increment 22\n",
      "Increment 23\n",
      "Increment 24\n",
      "Increment 25\n",
      "Increment 26\n",
      "Increment 27\n",
      "Increment 28\n",
      "Increment 29\n"
     ]
    }
   ],
   "source": [
    "best_dispatch = lower_cost_dispatch(dispatch)"
   ]
  },
  {
   "cell_type": "code",
   "execution_count": 235,
   "id": "f5bff607",
   "metadata": {},
   "outputs": [
    {
     "data": {
      "text/plain": [
       "False"
      ]
     },
     "execution_count": 235,
     "metadata": {},
     "output_type": "execute_result"
    }
   ],
   "source": [
    "best_dispatch == dispatch"
   ]
  },
  {
   "cell_type": "code",
   "execution_count": 244,
   "id": "62f5ece2",
   "metadata": {},
   "outputs": [
    {
     "name": "stdout",
     "output_type": "stream",
     "text": [
      "Battery energy (MWh): 2366.245038014672\n",
      "Battery Power (MW): 417.2947644185242\n",
      "solar:  454.59624198194547\n",
      "wind:  42.207582028921934\n",
      "geothermal:  0.0\n",
      "Total cost (Million):  1476.9314589644694\n"
     ]
    }
   ],
   "source": [
    "print_capacity_result(best_dispatch)"
   ]
  },
  {
   "cell_type": "code",
   "execution_count": 226,
   "id": "41ae111f",
   "metadata": {},
   "outputs": [
    {
     "name": "stdout",
     "output_type": "stream",
     "text": [
      "Battery energy (MWh): 111.43601022598436\n",
      "Battery Power (MW): 20.596439997939193\n",
      "solar:  26.142967483141206\n",
      "wind:  0.0\n",
      "geothermal:  72.11489010093774\n",
      "Total cost (Million):  325.72038177428266\n"
     ]
    }
   ],
   "source": [
    "print_capacity_result(dispatch)"
   ]
  },
  {
   "cell_type": "code",
   "execution_count": 225,
   "id": "ee8fb94d",
   "metadata": {},
   "outputs": [
    {
     "name": "stdout",
     "output_type": "stream",
     "text": [
      "Battery energy (MWh): 161.43601022598438\n",
      "Battery Power (MW): 20.596439997939193\n",
      "solar:  26.142967483141206\n",
      "wind:  0.0\n",
      "geothermal:  72.11489010093774\n",
      "Total cost (Million):  340.72038177428266\n"
     ]
    }
   ],
   "source": [
    "print_capacity_result(best_dispatch)"
   ]
  },
  {
   "cell_type": "code",
   "execution_count": 59,
   "id": "290213f0",
   "metadata": {},
   "outputs": [],
   "source": [
    "from renewableopt.sensitivity import find_peak_day"
   ]
  },
  {
   "cell_type": "code",
   "execution_count": 60,
   "id": "298aff61",
   "metadata": {},
   "outputs": [],
   "source": [
    "day = find_peak_day(new_dispatch)"
   ]
  },
  {
   "cell_type": "code",
   "execution_count": 251,
   "id": "2399a925",
   "metadata": {},
   "outputs": [
    {
     "data": {
      "image/png": "[encoded data removed]",
      "text/plain": [
       "<Figure size 640x480 with 2 Axes>"
      ]
     },
     "execution_count": 251,
     "metadata": {},
     "output_type": "execute_result"
    }
   ],
   "source": [
    "plot_yearly_peak_dispatch(best_dispatch)"
   ]
  },
  {
   "cell_type": "code",
   "execution_count": 131,
   "id": "ddf8678f",
   "metadata": {},
   "outputs": [
    {
     "data": {
      "text/plain": [
       "16"
      ]
     },
     "execution_count": 131,
     "metadata": {},
     "output_type": "execute_result"
    }
   ],
   "source": [
    "find_peak_day(best_dispatch)"
   ]
  },
  {
   "cell_type": "code",
   "execution_count": 247,
   "id": "cc126de5",
   "metadata": {},
   "outputs": [
    {
     "data": {
      "text/plain": [
       "<contextlib.ExitStack at 0x7ff3d0834340>"
      ]
     },
     "execution_count": 247,
     "metadata": {},
     "output_type": "execute_result"
    }
   ],
   "source": [
    "plt.ion()"
   ]
  },
  {
   "cell_type": "code",
   "execution_count": 248,
   "id": "2a63814e",
   "metadata": {},
   "outputs": [
    {
     "data": {
      "text/plain": [
       "[<Figure size 640x480 with 2 Axes>]"
      ]
     },
     "execution_count": 248,
     "metadata": {},
     "output_type": "execute_result"
    }
   ],
   "source": [
    "visualize.min_capacity_per_month(best_dispatch, [12])"
   ]
  },
  {
   "cell_type": "code",
   "execution_count": 250,
   "id": "22a01dbf",
   "metadata": {},
   "outputs": [
    {
     "data": {
      "image/png": "[encoded data removed]",
      "text/plain": [
       "<Figure size 640x480 with 1 Axes>"
      ]
     },
     "execution_count": 250,
     "metadata": {},
     "output_type": "execute_result"
    }
   ],
   "source": [
    "visualize.storage_capacity_statistics(best_dispatch)"
   ]
  },
  {
   "cell_type": "code",
   "execution_count": null,
   "id": "0e5c01b9",
   "metadata": {},
   "outputs": [],
   "source": [
    "find_peak_day"
   ]
  },
  {
   "cell_type": "code",
   "execution_count": 19,
   "id": "b0afaf03",
   "metadata": {},
   "outputs": [],
   "source": [
    "import matplotlib.pyplot as plt"
   ]
  },
  {
   "cell_type": "code",
   "execution_count": 113,
   "id": "1cd72296",
   "metadata": {},
   "outputs": [
    {
     "data": {
      "text/plain": [
       "[<matplotlib.lines.Line2D at 0x7ff3ff45e460>]"
      ]
     },
     "execution_count": 113,
     "metadata": {},
     "output_type": "execute_result"
    }
   ],
   "source": [
    "min_soc = np.min(best_dispatch.per_day().soc, axis=1)\n",
    "plt.figure()\n",
    "plt.plot(min_soc)"
   ]
  },
  {
   "cell_type": "code",
   "execution_count": 20,
   "id": "838722d6",
   "metadata": {},
   "outputs": [],
   "source": [
    "from renewableopt.optimal_design.dispatch import day_indices"
   ]
  },
  {
   "cell_type": "code",
   "execution_count": 21,
   "id": "73552775",
   "metadata": {},
   "outputs": [],
   "source": [
    "# Double check that capacity factors make sense...\n"
   ]
  },
  {
   "cell_type": "code",
   "execution_count": 22,
   "id": "71126ef1",
   "metadata": {},
   "outputs": [],
   "source": [
    "from renewableopt.peak_id import timedelta"
   ]
  },
  {
   "cell_type": "code",
   "execution_count": 158,
   "id": "33b31381",
   "metadata": {},
   "outputs": [
    {
     "data": {
      "text/plain": [
       "array([0.00000000e+00, 8.33333333e-02, 1.66666667e-01, ...,\n",
       "       8.78375000e+03, 8.78383333e+03, 8.78391667e+03])"
      ]
     },
     "execution_count": 158,
     "metadata": {},
     "output_type": "execute_result"
    }
   ],
   "source": [
    "np.array(generation.index)"
   ]
  },
  {
   "cell_type": "code",
   "execution_count": 160,
   "id": "97760e13",
   "metadata": {},
   "outputs": [
    {
     "data": {
      "text/plain": [
       "0"
      ]
     },
     "execution_count": 160,
     "metadata": {},
     "output_type": "execute_result"
    }
   ],
   "source": [
    "list(generation.columns).index('solar')"
   ]
  },
  {
   "cell_type": "code",
   "execution_count": 170,
   "id": "6457af1d",
   "metadata": {},
   "outputs": [
    {
     "data": {
      "text/plain": [
       "array([1, 1, 1, 1, 1, 1, 1, 1, 1, 1, 1, 1, 1, 1, 1, 1, 1, 1, 1, 1])"
      ]
     },
     "execution_count": 170,
     "metadata": {},
     "output_type": "execute_result"
    }
   ],
   "source": [
    "np.array(generation.iloc[0:20, 2])"
   ]
  },
  {
   "cell_type": "code",
   "execution_count": 13,
   "id": "f2357ac2",
   "metadata": {},
   "outputs": [],
   "source": [
    "def capacity_factor(dispatch, day, source, curtail=False):\n",
    "    source_i = dispatch.sources.index(source)\n",
    "    ind = day_indices(dispatch.time, day)\n",
    "    if curtail:\n",
    "        gen = dispatch.curtailed_generation()[ind]\n",
    "    else:\n",
    "        gen = dispatch.gen[ind]\n",
    "    dt = dispatch.result.dt\n",
    "    total_gen = np.sum(gen[:, source_i]) * dt\n",
    "    max_gen = dispatch.result.P_generation[source_i] * 24\n",
    "    return total_gen / max_gen\n",
    "    \n",
    "def capacity_factor_from_pu(generation, day, source):\n",
    "    source_i = list(generation.columns).index(source)\n",
    "    time = np.array(generation.index)\n",
    "    ind = day_indices(time, day)\n",
    "    dt = timedelta(time)\n",
    "    gen = np.array(generation.iloc[ind, source_i])\n",
    "    total_gen = np.sum(gen) * dt\n",
    "    max_gen = 24\n",
    "    return total_gen / max_gen\n",
    "    "
   ]
  },
  {
   "cell_type": "code",
   "execution_count": 14,
   "id": "be46083c",
   "metadata": {},
   "outputs": [],
   "source": [
    "generation_correct = generation.copy()"
   ]
  },
  {
   "cell_type": "code",
   "execution_count": 17,
   "id": "df612838",
   "metadata": {},
   "outputs": [],
   "source": [
    "generation_correct[\"wind\"] *= np.pi\n",
    "generation_correct[\"wind\"] = np.clip(generation_correct[\"wind\"], None, 1)"
   ]
  },
  {
   "cell_type": "code",
   "execution_count": null,
   "id": "6b2085f0",
   "metadata": {},
   "outputs": [],
   "source": []
  },
  {
   "cell_type": "code",
   "execution_count": 23,
   "id": "f807ada4",
   "metadata": {},
   "outputs": [],
   "source": [
    "dt = timedelta(np.array(generation.index))"
   ]
  },
  {
   "cell_type": "code",
   "execution_count": 24,
   "id": "696726ca",
   "metadata": {},
   "outputs": [
    {
     "name": "stdout",
     "output_type": "stream",
     "text": [
      "solar: 0.2818351125210254\n",
      "wind: 0.12759024141253672\n",
      "geothermal: 1.0\n"
     ]
    }
   ],
   "source": [
    "for source in generation.columns:\n",
    "    cap = generation[source].sum() * dt / 24 / 366\n",
    "    print(f\"{source}: {cap}\")"
   ]
  },
  {
   "cell_type": "code",
   "execution_count": 25,
   "id": "b84b5fba",
   "metadata": {},
   "outputs": [
    {
     "name": "stdout",
     "output_type": "stream",
     "text": [
      "solar: 0.2818351125210254\n",
      "wind: 0.24349790944096955\n",
      "geothermal: 1.0\n"
     ]
    }
   ],
   "source": [
    "for source in generation.columns:\n",
    "    cap = generation_correct[source].sum() * dt / 24 / 366\n",
    "    print(f\"{source}: {cap}\")"
   ]
  },
  {
   "cell_type": "code",
   "execution_count": 26,
   "id": "4035af64",
   "metadata": {},
   "outputs": [],
   "source": []
  },
  {
   "cell_type": "code",
   "execution_count": 28,
   "id": "b8fd9147",
   "metadata": {},
   "outputs": [],
   "source": []
  },
  {
   "cell_type": "code",
   "execution_count": 40,
   "id": "db2611c1",
   "metadata": {},
   "outputs": [
    {
     "data": {
      "text/plain": [
       "'10.11'"
      ]
     },
     "execution_count": 40,
     "metadata": {},
     "output_type": "execute_result"
    }
   ],
   "source": [
    "f\"{10.111:.2f}\""
   ]
  },
  {
   "cell_type": "code",
   "execution_count": 36,
   "id": "d8805a42",
   "metadata": {},
   "outputs": [
    {
     "data": {
      "text/plain": [
       "(3,)"
      ]
     },
     "execution_count": 36,
     "metadata": {},
     "output_type": "execute_result"
    }
   ],
   "source": [
    "np.mean(np.ones((3, 3)), axis=0).shape"
   ]
  },
  {
   "cell_type": "code",
   "execution_count": 38,
   "id": "6dd53aa4",
   "metadata": {},
   "outputs": [
    {
     "data": {
      "text/plain": [
       "1"
      ]
     },
     "execution_count": 38,
     "metadata": {},
     "output_type": "execute_result"
    }
   ],
   "source": [
    "list(generation.columns).index(\"wind\")"
   ]
  },
  {
   "cell_type": "code",
   "execution_count": 51,
   "id": "1ef60918",
   "metadata": {},
   "outputs": [],
   "source": [
    "def capacity_factor_plot(generation, columns=None):\n",
    "    gen_pu = np.array(generation)\n",
    "    gen_pu_per_day = gen_pu.reshape(366, -1, 3)\n",
    "    daily_cap = np.sum(gen_pu_per_day, axis=1) * dt / 24\n",
    "    daily_cap *= 100  # Convert to percent.\n",
    "    \n",
    "    plt.figure()\n",
    "    yearly_cap = np.mean(daily_cap, axis=0)\n",
    "    if columns is None:\n",
    "        columns = generation.columns\n",
    "    for source in columns:\n",
    "        i = list(generation.columns).index(source)\n",
    "        plt.plot(np.sort(daily_cap[:, i])[::-1], label=source)\n",
    "    for j, source in enumerate(columns):\n",
    "        i = list(generation.columns).index(source)\n",
    "        label = f\"Yearly Capacity Factor: {source.capitalize()} ({yearly_cap[i]:.1f})\"\n",
    "        plt.axhline(y=yearly_cap[i], linestyle='--', color=f\"C{j}\", label=label)\n",
    "    \n",
    "    plt.title(\"Solar and Wind Daily Capacity Factors\")\n",
    "    plt.xlabel(\"Number of days with at least x capacity factor\")\n",
    "    plt.ylabel(\"Capacity factor (%)\")\n",
    "    plt.legend()\n"
   ]
  },
  {
   "cell_type": "code",
   "execution_count": 50,
   "id": "85b2cf43",
   "metadata": {},
   "outputs": [],
   "source": [
    "capacity_factor_plot(generation, ['solar', 'wind'])"
   ]
  },
  {
   "cell_type": "code",
   "execution_count": 52,
   "id": "fec4bd6a",
   "metadata": {},
   "outputs": [],
   "source": [
    "capacity_factor_plot(generation_correct, ['solar', 'wind'])"
   ]
  },
  {
   "cell_type": "code",
   "execution_count": null,
   "id": "562e6903",
   "metadata": {},
   "outputs": [],
   "source": [
    "for source in generation.columns:\n",
    "    cap = generation[source].sum() * dt / 24 / 366\n",
    "    print(f\"{source}: {cap}\")"
   ]
  },
  {
   "cell_type": "code",
   "execution_count": null,
   "id": "6d050dcf",
   "metadata": {},
   "outputs": [],
   "source": [
    "np.sum(np.array(generation)"
   ]
  },
  {
   "cell_type": "code",
   "execution_count": 206,
   "id": "c7f36742",
   "metadata": {
    "scrolled": true
   },
   "outputs": [
    {
     "name": "stdout",
     "output_type": "stream",
     "text": [
      "0.18706914104462555\n",
      "0.3222272992530345\n"
     ]
    }
   ],
   "source": [
    "source = \"solar\"\n",
    "day = np.datetime64(\"2012-01-17\")\n",
    "\n",
    "print(capacity_factor(best_dispatch, day, source, curtail=True))\n",
    "print(capacity_factor_from_pu(generation, day, source))"
   ]
  },
  {
   "cell_type": "code",
   "execution_count": 187,
   "id": "0c4de2c9",
   "metadata": {},
   "outputs": [
    {
     "name": "stdout",
     "output_type": "stream",
     "text": [
      "Battery energy (MWh): 1016.2450380146718\n",
      "Battery Power (MW): 417.2947644185242\n",
      "solar:  454.59624198194547\n",
      "wind:  2082.207582028922\n",
      "geothermal:  0.0\n",
      "Total cost (Million):  3621.9314589644696\n"
     ]
    }
   ],
   "source": [
    "print_capacity_result(last_feasible)"
   ]
  },
  {
   "cell_type": "code",
   "execution_count": 185,
   "id": "de72e9dd",
   "metadata": {},
   "outputs": [
    {
     "data": {
      "text/plain": [
       "[<Figure size 640x480 with 2 Axes>]"
      ]
     },
     "execution_count": 185,
     "metadata": {},
     "output_type": "execute_result"
    }
   ],
   "source": [
    "visualize.min_capacity_per_month(best_dispatch, [7])"
   ]
  },
  {
   "cell_type": "code",
   "execution_count": 207,
   "id": "5a3756a2",
   "metadata": {},
   "outputs": [
    {
     "data": {
      "image/png": "[encoded data removed]",
      "text/plain": [
       "<Figure size 640x480 with 1 Axes>"
      ]
     },
     "execution_count": 207,
     "metadata": {},
     "output_type": "execute_result"
    }
   ],
   "source": [
    "visualize.storage_capacity_statistics(best_dispatch)"
   ]
  },
  {
   "cell_type": "code",
   "execution_count": 208,
   "id": "9df97541",
   "metadata": {},
   "outputs": [
    {
     "data": {
      "image/png": "[encoded data removed]",
      "text/plain": [
       "<Figure size 640x480 with 1 Axes>"
      ]
     },
     "execution_count": 208,
     "metadata": {},
     "output_type": "execute_result"
    }
   ],
   "source": [
    "visualize.daily_curtailment(best_dispatch)"
   ]
  },
  {
   "cell_type": "code",
   "execution_count": 21,
   "id": "2cdfae21",
   "metadata": {
    "scrolled": true
   },
   "outputs": [
    {
     "data": {
      "text/plain": [
       "[<Figure size 640x480 with 2 Axes>]"
      ]
     },
     "execution_count": 21,
     "metadata": {},
     "output_type": "execute_result"
    }
   ],
   "source": [
    "visualize.min_capacity_per_month(new_dispatch, [11])"
   ]
  },
  {
   "cell_type": "code",
   "execution_count": 29,
   "id": "87c53e62",
   "metadata": {},
   "outputs": [
    {
     "data": {
      "text/plain": [
       "931.50436427488"
      ]
     },
     "execution_count": 29,
     "metadata": {},
     "output_type": "execute_result"
    }
   ],
   "source": [
    "dispatch.result.E_max"
   ]
  },
  {
   "cell_type": "code",
   "execution_count": 28,
   "id": "f1bce2a8",
   "metadata": {},
   "outputs": [
    {
     "data": {
      "text/plain": [
       "array([3542.40229442, 4194.93443458,    0.        ])"
      ]
     },
     "execution_count": 28,
     "metadata": {},
     "output_type": "execute_result"
    }
   ],
   "source": [
    "dispatch.result.P_generation"
   ]
  },
  {
   "cell_type": "code",
   "execution_count": 32,
   "id": "1f553b16",
   "metadata": {},
   "outputs": [
    {
     "data": {
      "text/plain": [
       "10113236.468984254"
      ]
     },
     "execution_count": 32,
     "metadata": {},
     "output_type": "execute_result"
    }
   ],
   "source": [
    "dispatch.result.total_cost"
   ]
  },
  {
   "cell_type": "code",
   "execution_count": 31,
   "id": "88ca7838",
   "metadata": {},
   "outputs": [
    {
     "data": {
      "text/plain": [
       "463.18356702605547"
      ]
     },
     "execution_count": 31,
     "metadata": {},
     "output_type": "execute_result"
    }
   ],
   "source": [
    "dispatch.result.P_battery"
   ]
  },
  {
   "cell_type": "code",
   "execution_count": 27,
   "id": "bbc01416",
   "metadata": {},
   "outputs": [
    {
     "data": {
      "text/plain": [
       "array([3542.40229442, 4194.93443458,    0.        ])"
      ]
     },
     "execution_count": 27,
     "metadata": {},
     "output_type": "execute_result"
    }
   ],
   "source": [
    "new_dispatch.result.P_generation"
   ]
  },
  {
   "cell_type": "code",
   "execution_count": 26,
   "id": "5c9f284c",
   "metadata": {},
   "outputs": [
    {
     "data": {
      "image/png": "[encoded data removed]",
      "text/plain": [
       "<Figure size 640x480 with 1 Axes>"
      ]
     },
     "execution_count": 26,
     "metadata": {},
     "output_type": "execute_result"
    }
   ],
   "source": [
    "visualize.daily_curtailment(new_dispatch)"
   ]
  },
  {
   "cell_type": "code",
   "execution_count": 19,
   "id": "1f42e63c",
   "metadata": {},
   "outputs": [
    {
     "data": {
      "text/plain": [
       "array([3542.40229442, 4194.93443458,    0.        ])"
      ]
     },
     "execution_count": 19,
     "metadata": {},
     "output_type": "execute_result"
    }
   ],
   "source": [
    "dispatch.result.P_generation"
   ]
  },
  {
   "cell_type": "code",
   "execution_count": 214,
   "id": "838bb48c",
   "metadata": {},
   "outputs": [],
   "source": [
    "save_dir = DATASET_DIR / \"presentation_images\""
   ]
  },
  {
   "cell_type": "code",
   "execution_count": 81,
   "id": "a29e4fad",
   "metadata": {},
   "outputs": [],
   "source": [
    "import matplotlib.pyplot as plt"
   ]
  },
  {
   "cell_type": "code",
   "execution_count": 212,
   "id": "5c968e50",
   "metadata": {},
   "outputs": [],
   "source": [
    "plots = {\n",
    "    \"peak_dispatch\": plot_yearly_peak_dispatch,\n",
    "    \"dec_dispatch\": lambda d: visualize.min_capacity_per_month(d, [12])[0],\n",
    "    \"daily_curtailment\": visualize.daily_curtailment,\n",
    "    \"storage_stats\": visualize.storage_capacity_statistics,\n",
    "}"
   ]
  },
  {
   "cell_type": "code",
   "execution_count": 218,
   "id": "1f769fcd",
   "metadata": {},
   "outputs": [],
   "source": [
    "name = \"peak_dispatch\"\n",
    "plt.ioff()\n",
    "fig = plots[name](best_dispatch)\n",
    "fig.set_size_inches([4, 4])\n",
    "fig.savefig(save_dir / f\"no_geo_{name}.png\", bbox_inches='tight')\n",
    "plt.close()"
   ]
  },
  {
   "cell_type": "code",
   "execution_count": 14,
   "id": "a1515e9d",
   "metadata": {},
   "outputs": [],
   "source": [
    "df = sensitivity_dataframe(results, loads, costs, generation)"
   ]
  },
  {
   "cell_type": "code",
   "execution_count": 15,
   "id": "55014469",
   "metadata": {},
   "outputs": [
    {
     "data": {
      "text/html": [
       "<div>\n",
       "<style scoped>\n",
       "    .dataframe tbody tr th:only-of-type {\n",
       "        vertical-align: middle;\n",
       "    }\n",
       "\n",
       "    .dataframe tbody tr th {\n",
       "        vertical-align: top;\n",
       "    }\n",
       "\n",
       "    .dataframe thead th {\n",
       "        text-align: right;\n",
       "    }\n",
       "</style>\n",
       "<table border=\"1\" class=\"dataframe\">\n",
       "  <thead>\n",
       "    <tr style=\"text-align: right;\">\n",
       "      <th></th>\n",
       "      <th>Load Scenario</th>\n",
       "      <th>Cost Scenario</th>\n",
       "      <th>Battery Energy Installed (MWh)</th>\n",
       "      <th>Battery Power Installed (MW)</th>\n",
       "      <th>Solar Installed (MW)</th>\n",
       "      <th>Wind Installed (MW)</th>\n",
       "      <th>Geothermal Installed (MW)</th>\n",
       "      <th>Hours of storage</th>\n",
       "      <th>Total cost of Capacity (Million USD)</th>\n",
       "      <th>Load served over year (GWh)</th>\n",
       "      <th>Energy cost ($/KWh)</th>\n",
       "      <th>Peak Date</th>\n",
       "      <th>Clustering Method</th>\n",
       "    </tr>\n",
       "  </thead>\n",
       "  <tbody>\n",
       "    <tr>\n",
       "      <th>0</th>\n",
       "      <td>Base Case</td>\n",
       "      <td>Scenario 1: Base Case</td>\n",
       "      <td>111.436010</td>\n",
       "      <td>20.596440</td>\n",
       "      <td>26.142967</td>\n",
       "      <td>0.000000</td>\n",
       "      <td>72.114890</td>\n",
       "      <td>5.410450</td>\n",
       "      <td>325.720382</td>\n",
       "      <td>408.658650</td>\n",
       "      <td>0.797048</td>\n",
       "      <td>2012-08-13</td>\n",
       "      <td>Solar only</td>\n",
       "    </tr>\n",
       "    <tr>\n",
       "      <th>1</th>\n",
       "      <td>Base Case</td>\n",
       "      <td>Scenario 2: No Geothermal</td>\n",
       "      <td>916.245038</td>\n",
       "      <td>417.294764</td>\n",
       "      <td>454.596242</td>\n",
       "      <td>7582.207582</td>\n",
       "      <td>0.000000</td>\n",
       "      <td>2.195678</td>\n",
       "      <td>10466.931459</td>\n",
       "      <td>408.658650</td>\n",
       "      <td>25.612896</td>\n",
       "      <td>2012-12-22</td>\n",
       "      <td>KMeans (Wind and solar)</td>\n",
       "    </tr>\n",
       "    <tr>\n",
       "      <th>2</th>\n",
       "      <td>100%</td>\n",
       "      <td>Scenario 1: Base Case</td>\n",
       "      <td>103.624255</td>\n",
       "      <td>19.361787</td>\n",
       "      <td>24.722781</td>\n",
       "      <td>0.000000</td>\n",
       "      <td>63.266406</td>\n",
       "      <td>5.351999</td>\n",
       "      <td>290.199798</td>\n",
       "      <td>351.561664</td>\n",
       "      <td>0.825459</td>\n",
       "      <td>2012-08-13</td>\n",
       "      <td>Solar only</td>\n",
       "    </tr>\n",
       "    <tr>\n",
       "      <th>3</th>\n",
       "      <td>100%</td>\n",
       "      <td>Scenario 2: No Geothermal</td>\n",
       "      <td>795.018506</td>\n",
       "      <td>397.219842</td>\n",
       "      <td>3001.197433</td>\n",
       "      <td>3647.291079</td>\n",
       "      <td>0.000000</td>\n",
       "      <td>2.001457</td>\n",
       "      <td>8688.143136</td>\n",
       "      <td>351.561664</td>\n",
       "      <td>24.712999</td>\n",
       "      <td>2012-12-22</td>\n",
       "      <td>KMeans (Wind and solar)</td>\n",
       "    </tr>\n",
       "    <tr>\n",
       "      <th>4</th>\n",
       "      <td>75%</td>\n",
       "      <td>Scenario 1: Base Case</td>\n",
       "      <td>101.070133</td>\n",
       "      <td>18.728526</td>\n",
       "      <td>23.807342</td>\n",
       "      <td>0.000000</td>\n",
       "      <td>64.522730</td>\n",
       "      <td>5.396588</td>\n",
       "      <td>292.464755</td>\n",
       "      <td>364.030439</td>\n",
       "      <td>0.803407</td>\n",
       "      <td>2012-08-13</td>\n",
       "      <td>Solar only</td>\n",
       "    </tr>\n",
       "    <tr>\n",
       "      <th>5</th>\n",
       "      <td>75%</td>\n",
       "      <td>Scenario 2: No Geothermal</td>\n",
       "      <td>812.310727</td>\n",
       "      <td>315.898649</td>\n",
       "      <td>2085.803560</td>\n",
       "      <td>3189.846149</td>\n",
       "      <td>0.000000</td>\n",
       "      <td>2.571428</td>\n",
       "      <td>6948.819881</td>\n",
       "      <td>364.030439</td>\n",
       "      <td>19.088568</td>\n",
       "      <td>2012-12-22</td>\n",
       "      <td>KMeans (Wind and solar)</td>\n",
       "    </tr>\n",
       "    <tr>\n",
       "      <th>6</th>\n",
       "      <td>50%</td>\n",
       "      <td>Scenario 1: Base Case</td>\n",
       "      <td>107.541798</td>\n",
       "      <td>19.980188</td>\n",
       "      <td>25.436926</td>\n",
       "      <td>0.000000</td>\n",
       "      <td>67.688019</td>\n",
       "      <td>5.382422</td>\n",
       "      <td>307.959830</td>\n",
       "      <td>380.110157</td>\n",
       "      <td>0.810186</td>\n",
       "      <td>2012-08-13</td>\n",
       "      <td>Solar only</td>\n",
       "    </tr>\n",
       "    <tr>\n",
       "      <th>7</th>\n",
       "      <td>50%</td>\n",
       "      <td>Scenario 2: No Geothermal</td>\n",
       "      <td>849.636714</td>\n",
       "      <td>389.496589</td>\n",
       "      <td>2920.918733</td>\n",
       "      <td>2013.685635</td>\n",
       "      <td>0.000000</td>\n",
       "      <td>2.181371</td>\n",
       "      <td>6559.470280</td>\n",
       "      <td>380.110157</td>\n",
       "      <td>17.256761</td>\n",
       "      <td>2012-12-22</td>\n",
       "      <td>KMeans (Wind and solar)</td>\n",
       "    </tr>\n",
       "    <tr>\n",
       "      <th>8</th>\n",
       "      <td>25%</td>\n",
       "      <td>Scenario 1: Base Case</td>\n",
       "      <td>110.393816</td>\n",
       "      <td>20.477021</td>\n",
       "      <td>26.045260</td>\n",
       "      <td>0.000000</td>\n",
       "      <td>70.091825</td>\n",
       "      <td>5.391107</td>\n",
       "      <td>318.163066</td>\n",
       "      <td>394.745498</td>\n",
       "      <td>0.805995</td>\n",
       "      <td>2012-08-13</td>\n",
       "      <td>Solar only</td>\n",
       "    </tr>\n",
       "    <tr>\n",
       "      <th>9</th>\n",
       "      <td>25%</td>\n",
       "      <td>Scenario 2: No Geothermal</td>\n",
       "      <td>905.632584</td>\n",
       "      <td>454.129757</td>\n",
       "      <td>2974.747336</td>\n",
       "      <td>4838.285426</td>\n",
       "      <td>0.000000</td>\n",
       "      <td>1.994215</td>\n",
       "      <td>10196.926143</td>\n",
       "      <td>394.745498</td>\n",
       "      <td>25.831646</td>\n",
       "      <td>2012-12-22</td>\n",
       "      <td>KMeans (Wind and solar)</td>\n",
       "    </tr>\n",
       "  </tbody>\n",
       "</table>\n",
       "</div>"
      ],
      "text/plain": [
       "  Load Scenario              Cost Scenario  Battery Energy Installed (MWh)  \\\n",
       "0     Base Case      Scenario 1: Base Case                      111.436010   \n",
       "1     Base Case  Scenario 2: No Geothermal                      916.245038   \n",
       "2          100%      Scenario 1: Base Case                      103.624255   \n",
       "3          100%  Scenario 2: No Geothermal                      795.018506   \n",
       "4           75%      Scenario 1: Base Case                      101.070133   \n",
       "5           75%  Scenario 2: No Geothermal                      812.310727   \n",
       "6           50%      Scenario 1: Base Case                      107.541798   \n",
       "7           50%  Scenario 2: No Geothermal                      849.636714   \n",
       "8           25%      Scenario 1: Base Case                      110.393816   \n",
       "9           25%  Scenario 2: No Geothermal                      905.632584   \n",
       "\n",
       "   Battery Power Installed (MW)  Solar Installed (MW)  Wind Installed (MW)  \\\n",
       "0                     20.596440             26.142967             0.000000   \n",
       "1                    417.294764            454.596242          7582.207582   \n",
       "2                     19.361787             24.722781             0.000000   \n",
       "3                    397.219842           3001.197433          3647.291079   \n",
       "4                     18.728526             23.807342             0.000000   \n",
       "5                    315.898649           2085.803560          3189.846149   \n",
       "6                     19.980188             25.436926             0.000000   \n",
       "7                    389.496589           2920.918733          2013.685635   \n",
       "8                     20.477021             26.045260             0.000000   \n",
       "9                    454.129757           2974.747336          4838.285426   \n",
       "\n",
       "   Geothermal Installed (MW)  Hours of storage  \\\n",
       "0                  72.114890          5.410450   \n",
       "1                   0.000000          2.195678   \n",
       "2                  63.266406          5.351999   \n",
       "3                   0.000000          2.001457   \n",
       "4                  64.522730          5.396588   \n",
       "5                   0.000000          2.571428   \n",
       "6                  67.688019          5.382422   \n",
       "7                   0.000000          2.181371   \n",
       "8                  70.091825          5.391107   \n",
       "9                   0.000000          1.994215   \n",
       "\n",
       "   Total cost of Capacity (Million USD)  Load served over year (GWh)  \\\n",
       "0                            325.720382                   408.658650   \n",
       "1                          10466.931459                   408.658650   \n",
       "2                            290.199798                   351.561664   \n",
       "3                           8688.143136                   351.561664   \n",
       "4                            292.464755                   364.030439   \n",
       "5                           6948.819881                   364.030439   \n",
       "6                            307.959830                   380.110157   \n",
       "7                           6559.470280                   380.110157   \n",
       "8                            318.163066                   394.745498   \n",
       "9                          10196.926143                   394.745498   \n",
       "\n",
       "   Energy cost ($/KWh)  Peak Date        Clustering Method  \n",
       "0             0.797048 2012-08-13               Solar only  \n",
       "1            25.612896 2012-12-22  KMeans (Wind and solar)  \n",
       "2             0.825459 2012-08-13               Solar only  \n",
       "3            24.712999 2012-12-22  KMeans (Wind and solar)  \n",
       "4             0.803407 2012-08-13               Solar only  \n",
       "5            19.088568 2012-12-22  KMeans (Wind and solar)  \n",
       "6             0.810186 2012-08-13               Solar only  \n",
       "7            17.256761 2012-12-22  KMeans (Wind and solar)  \n",
       "8             0.805995 2012-08-13               Solar only  \n",
       "9            25.831646 2012-12-22  KMeans (Wind and solar)  "
      ]
     },
     "execution_count": 15,
     "metadata": {},
     "output_type": "execute_result"
    }
   ],
   "source": [
    "df"
   ]
  },
  {
   "cell_type": "markdown",
   "id": "9d70c30a",
   "metadata": {},
   "source": [
    "## Write sensitivity results to excel"
   ]
  },
  {
   "cell_type": "code",
   "execution_count": 25,
   "id": "c8ac2852",
   "metadata": {},
   "outputs": [
    {
     "name": "stdout",
     "output_type": "stream",
     "text": [
      "Sensitivity results sheet already exists. Replace results? [y/n]y\n"
     ]
    }
   ],
   "source": [
    "write_results(filename, df)"
   ]
  },
  {
   "cell_type": "markdown",
   "id": "35280b15",
   "metadata": {},
   "source": [
    "# Save visualization images"
   ]
  },
  {
   "cell_type": "code",
   "execution_count": 22,
   "id": "cc3a2616",
   "metadata": {
    "scrolled": false
   },
   "outputs": [],
   "source": [
    "create_plotting_artifact(active_dir / \"Images\", results)"
   ]
  }
 ],
 "metadata": {
  "kernelspec": {
   "display_name": "Python 3 (ipykernel)",
   "language": "python",
   "name": "python3"
  },
  "language_info": {
   "codemirror_mode": {
    "name": "ipython",
    "version": 3
   },
   "file_extension": ".py",
   "mimetype": "text/x-python",
   "name": "python",
   "nbconvert_exporter": "python",
   "pygments_lexer": "ipython3",
   "version": "3.8.10"
  }
 },
 "nbformat": 4,
 "nbformat_minor": 5
}
